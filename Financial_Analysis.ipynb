{
 "cells": [
  {
   "cell_type": "markdown",
   "metadata": {},
   "source": [
    "Importing all the required packages"
   ]
  },
  {
   "cell_type": "code",
   "execution_count": 1,
   "metadata": {},
   "outputs": [],
   "source": [
    "import numpy as np\n",
    "import pandas as pd\n",
    "import matplotlib.pyplot as plt\n",
    "import seaborn as sns\n",
    "import warnings\n",
    "from sklearn.preprocessing import StandardScaler\n",
    "from scipy.stats.mstats import kruskalwallis\n",
    "from scipy.stats import mannwhitneyu\n",
    "from imblearn.over_sampling import SMOTE\n",
    "from imblearn.under_sampling import TomekLinks\n",
    "from imblearn.combine import SMOTETomek\n",
    "import statsmodels.api as sm\n",
    "pd.options.display.float_format = '{:,.2f}'.format\n",
    "warnings.filterwarnings(\"ignore\")\n",
    "np.set_printoptions(formatter={'float': lambda x: \"{0:0.3f}\".format(x)})"
   ]
  },
  {
   "cell_type": "markdown",
   "metadata": {},
   "source": [
    "# Reading and Profiling the dataset"
   ]
  },
  {
   "cell_type": "markdown",
   "metadata": {},
   "source": [
    "Reading the data"
   ]
  },
  {
   "cell_type": "code",
   "execution_count": 2,
   "metadata": {},
   "outputs": [],
   "source": [
    "#Reading the data\n",
    "df = pd.read_csv('Company_Finances_1000.csv')"
   ]
  },
  {
   "cell_type": "code",
   "execution_count": 4,
   "metadata": {},
   "outputs": [
    {
     "data": {
      "text/plain": [
       "(632, 13)"
      ]
     },
     "execution_count": 4,
     "metadata": {},
     "output_type": "execute_result"
    }
   ],
   "source": [
    "df.shape"
   ]
  },
  {
   "cell_type": "code",
   "execution_count": 3,
   "metadata": {
    "scrolled": true
   },
   "outputs": [
    {
     "data": {
      "text/html": [
       "<div>\n",
       "<style scoped>\n",
       "    .dataframe tbody tr th:only-of-type {\n",
       "        vertical-align: middle;\n",
       "    }\n",
       "\n",
       "    .dataframe tbody tr th {\n",
       "        vertical-align: top;\n",
       "    }\n",
       "\n",
       "    .dataframe thead th {\n",
       "        text-align: right;\n",
       "    }\n",
       "</style>\n",
       "<table border=\"1\" class=\"dataframe\">\n",
       "  <thead>\n",
       "    <tr style=\"text-align: right;\">\n",
       "      <th></th>\n",
       "      <th>Unnamed: 0</th>\n",
       "      <th>Total Liab</th>\n",
       "      <th>Total Stockholder Equity</th>\n",
       "      <th>Total Assets</th>\n",
       "      <th>Total Current Liabilities</th>\n",
       "      <th>Total Current Assets</th>\n",
       "      <th>Long Term Debt</th>\n",
       "      <th>Inventory</th>\n",
       "      <th>Net Income</th>\n",
       "      <th>Gross Profit</th>\n",
       "      <th>Ebit</th>\n",
       "      <th>Total Revenue</th>\n",
       "      <th>Cost Of Revenue</th>\n",
       "    </tr>\n",
       "  </thead>\n",
       "  <tbody>\n",
       "    <tr>\n",
       "      <th>0</th>\n",
       "      <td>RELIANCE.BO</td>\n",
       "      <td>6,070,140,000,000.00</td>\n",
       "      <td>3,871,120,000,000.00</td>\n",
       "      <td>10,024,060,000,000.00</td>\n",
       "      <td>3,173,220,000,000.00</td>\n",
       "      <td>2,320,530,000,000.00</td>\n",
       "      <td>2,075,060,000,000.00</td>\n",
       "      <td>675,610,000,000.00</td>\n",
       "      <td>395,880,000,000.00</td>\n",
       "      <td>1,720,530,000,000.00</td>\n",
       "      <td>645,560,000,000.00</td>\n",
       "      <td>5,692,090,000,000.00</td>\n",
       "      <td>3,971,560,000,000.00</td>\n",
       "    </tr>\n",
       "    <tr>\n",
       "      <th>1</th>\n",
       "      <td>KOTAKBANK.BO</td>\n",
       "      <td>3,368,894,434,000.00</td>\n",
       "      <td>577,818,047,000.00</td>\n",
       "      <td>3,951,712,481,000.00</td>\n",
       "      <td>2,286,002,144,000.00</td>\n",
       "      <td>345,512,682,000.00</td>\n",
       "      <td>664,389,383,000.00</td>\n",
       "      <td>NaN</td>\n",
       "      <td>72,041,305,000.00</td>\n",
       "      <td>297,471,420,000.00</td>\n",
       "      <td>0.00</td>\n",
       "      <td>297,471,420,000.00</td>\n",
       "      <td>0.00</td>\n",
       "    </tr>\n",
       "    <tr>\n",
       "      <th>2</th>\n",
       "      <td>BHARTIARTL.BO</td>\n",
       "      <td>1,902,080,000,000.00</td>\n",
       "      <td>714,222,000,000.00</td>\n",
       "      <td>2,751,560,000,000.00</td>\n",
       "      <td>930,134,000,000.00</td>\n",
       "      <td>328,642,000,000.00</td>\n",
       "      <td>824,901,000,000.00</td>\n",
       "      <td>884,000,000.00</td>\n",
       "      <td>4,095,000,000.00</td>\n",
       "      <td>385,199,000,000.00</td>\n",
       "      <td>47,451,000,000.00</td>\n",
       "      <td>811,090,000,000.00</td>\n",
       "      <td>425,891,000,000.00</td>\n",
       "    </tr>\n",
       "    <tr>\n",
       "      <th>3</th>\n",
       "      <td>ITC.BO</td>\n",
       "      <td>123,140,700,000.00</td>\n",
       "      <td>591,408,700,000.00</td>\n",
       "      <td>717,984,100,000.00</td>\n",
       "      <td>100,119,900,000.00</td>\n",
       "      <td>317,472,700,000.00</td>\n",
       "      <td>81,500,000.00</td>\n",
       "      <td>79,439,700,000.00</td>\n",
       "      <td>125,923,300,000.00</td>\n",
       "      <td>302,820,200,000.00</td>\n",
       "      <td>171,148,000,000.00</td>\n",
       "      <td>483,526,800,000.00</td>\n",
       "      <td>180,706,600,000.00</td>\n",
       "    </tr>\n",
       "    <tr>\n",
       "      <th>4</th>\n",
       "      <td>ICICIBANK.BO</td>\n",
       "      <td>11,179,599,481,000.00</td>\n",
       "      <td>1,142,534,068,000.00</td>\n",
       "      <td>12,387,938,907,000.00</td>\n",
       "      <td>7,292,903,383,000.00</td>\n",
       "      <td>1,101,087,373,000.00</td>\n",
       "      <td>2,084,145,868,000.00</td>\n",
       "      <td>10,040,166,000.00</td>\n",
       "      <td>42,542,387,000.00</td>\n",
       "      <td>716,671,406,000.00</td>\n",
       "      <td>0.00</td>\n",
       "      <td>716,671,406,000.00</td>\n",
       "      <td>0.00</td>\n",
       "    </tr>\n",
       "  </tbody>\n",
       "</table>\n",
       "</div>"
      ],
      "text/plain": [
       "      Unnamed: 0            Total Liab  Total Stockholder Equity  \\\n",
       "0    RELIANCE.BO  6,070,140,000,000.00      3,871,120,000,000.00   \n",
       "1   KOTAKBANK.BO  3,368,894,434,000.00        577,818,047,000.00   \n",
       "2  BHARTIARTL.BO  1,902,080,000,000.00        714,222,000,000.00   \n",
       "3         ITC.BO    123,140,700,000.00        591,408,700,000.00   \n",
       "4   ICICIBANK.BO 11,179,599,481,000.00      1,142,534,068,000.00   \n",
       "\n",
       "           Total Assets  Total Current Liabilities  Total Current Assets  \\\n",
       "0 10,024,060,000,000.00       3,173,220,000,000.00  2,320,530,000,000.00   \n",
       "1  3,951,712,481,000.00       2,286,002,144,000.00    345,512,682,000.00   \n",
       "2  2,751,560,000,000.00         930,134,000,000.00    328,642,000,000.00   \n",
       "3    717,984,100,000.00         100,119,900,000.00    317,472,700,000.00   \n",
       "4 12,387,938,907,000.00       7,292,903,383,000.00  1,101,087,373,000.00   \n",
       "\n",
       "        Long Term Debt          Inventory         Net Income  \\\n",
       "0 2,075,060,000,000.00 675,610,000,000.00 395,880,000,000.00   \n",
       "1   664,389,383,000.00                NaN  72,041,305,000.00   \n",
       "2   824,901,000,000.00     884,000,000.00   4,095,000,000.00   \n",
       "3        81,500,000.00  79,439,700,000.00 125,923,300,000.00   \n",
       "4 2,084,145,868,000.00  10,040,166,000.00  42,542,387,000.00   \n",
       "\n",
       "          Gross Profit               Ebit        Total Revenue  \\\n",
       "0 1,720,530,000,000.00 645,560,000,000.00 5,692,090,000,000.00   \n",
       "1   297,471,420,000.00               0.00   297,471,420,000.00   \n",
       "2   385,199,000,000.00  47,451,000,000.00   811,090,000,000.00   \n",
       "3   302,820,200,000.00 171,148,000,000.00   483,526,800,000.00   \n",
       "4   716,671,406,000.00               0.00   716,671,406,000.00   \n",
       "\n",
       "       Cost Of Revenue  \n",
       "0 3,971,560,000,000.00  \n",
       "1                 0.00  \n",
       "2   425,891,000,000.00  \n",
       "3   180,706,600,000.00  \n",
       "4                 0.00  "
      ]
     },
     "execution_count": 3,
     "metadata": {},
     "output_type": "execute_result"
    }
   ],
   "source": [
    "#Observing the data\n",
    "df.head()"
   ]
  },
  {
   "cell_type": "markdown",
   "metadata": {},
   "source": [
    "From the code above we can see that there is an unnamed column name containing the list of companies.Hence,\n",
    "we will rename the column giving it a suitable name and set it as our dataframe index"
   ]
  },
  {
   "cell_type": "code",
   "execution_count": 4,
   "metadata": {},
   "outputs": [],
   "source": [
    "df.rename(columns={'Unnamed: 0':'Company'},inplace=True)"
   ]
  },
  {
   "cell_type": "code",
   "execution_count": 5,
   "metadata": {},
   "outputs": [],
   "source": [
    "df.set_index('Company',inplace=True)"
   ]
  },
  {
   "cell_type": "code",
   "execution_count": 6,
   "metadata": {
    "scrolled": true
   },
   "outputs": [
    {
     "data": {
      "text/html": [
       "<div>\n",
       "<style scoped>\n",
       "    .dataframe tbody tr th:only-of-type {\n",
       "        vertical-align: middle;\n",
       "    }\n",
       "\n",
       "    .dataframe tbody tr th {\n",
       "        vertical-align: top;\n",
       "    }\n",
       "\n",
       "    .dataframe thead th {\n",
       "        text-align: right;\n",
       "    }\n",
       "</style>\n",
       "<table border=\"1\" class=\"dataframe\">\n",
       "  <thead>\n",
       "    <tr style=\"text-align: right;\">\n",
       "      <th></th>\n",
       "      <th>Total Liab</th>\n",
       "      <th>Total Stockholder Equity</th>\n",
       "      <th>Total Assets</th>\n",
       "      <th>Total Current Liabilities</th>\n",
       "      <th>Total Current Assets</th>\n",
       "      <th>Long Term Debt</th>\n",
       "      <th>Inventory</th>\n",
       "      <th>Net Income</th>\n",
       "      <th>Gross Profit</th>\n",
       "      <th>Ebit</th>\n",
       "      <th>Total Revenue</th>\n",
       "      <th>Cost Of Revenue</th>\n",
       "    </tr>\n",
       "    <tr>\n",
       "      <th>Company</th>\n",
       "      <th></th>\n",
       "      <th></th>\n",
       "      <th></th>\n",
       "      <th></th>\n",
       "      <th></th>\n",
       "      <th></th>\n",
       "      <th></th>\n",
       "      <th></th>\n",
       "      <th></th>\n",
       "      <th></th>\n",
       "      <th></th>\n",
       "      <th></th>\n",
       "    </tr>\n",
       "  </thead>\n",
       "  <tbody>\n",
       "    <tr>\n",
       "      <th>RELIANCE.BO</th>\n",
       "      <td>6,070,140,000,000.00</td>\n",
       "      <td>3,871,120,000,000.00</td>\n",
       "      <td>10,024,060,000,000.00</td>\n",
       "      <td>3,173,220,000,000.00</td>\n",
       "      <td>2,320,530,000,000.00</td>\n",
       "      <td>2,075,060,000,000.00</td>\n",
       "      <td>675,610,000,000.00</td>\n",
       "      <td>395,880,000,000.00</td>\n",
       "      <td>1,720,530,000,000.00</td>\n",
       "      <td>645,560,000,000.00</td>\n",
       "      <td>5,692,090,000,000.00</td>\n",
       "      <td>3,971,560,000,000.00</td>\n",
       "    </tr>\n",
       "    <tr>\n",
       "      <th>KOTAKBANK.BO</th>\n",
       "      <td>3,368,894,434,000.00</td>\n",
       "      <td>577,818,047,000.00</td>\n",
       "      <td>3,951,712,481,000.00</td>\n",
       "      <td>2,286,002,144,000.00</td>\n",
       "      <td>345,512,682,000.00</td>\n",
       "      <td>664,389,383,000.00</td>\n",
       "      <td>NaN</td>\n",
       "      <td>72,041,305,000.00</td>\n",
       "      <td>297,471,420,000.00</td>\n",
       "      <td>0.00</td>\n",
       "      <td>297,471,420,000.00</td>\n",
       "      <td>0.00</td>\n",
       "    </tr>\n",
       "    <tr>\n",
       "      <th>BHARTIARTL.BO</th>\n",
       "      <td>1,902,080,000,000.00</td>\n",
       "      <td>714,222,000,000.00</td>\n",
       "      <td>2,751,560,000,000.00</td>\n",
       "      <td>930,134,000,000.00</td>\n",
       "      <td>328,642,000,000.00</td>\n",
       "      <td>824,901,000,000.00</td>\n",
       "      <td>884,000,000.00</td>\n",
       "      <td>4,095,000,000.00</td>\n",
       "      <td>385,199,000,000.00</td>\n",
       "      <td>47,451,000,000.00</td>\n",
       "      <td>811,090,000,000.00</td>\n",
       "      <td>425,891,000,000.00</td>\n",
       "    </tr>\n",
       "    <tr>\n",
       "      <th>ITC.BO</th>\n",
       "      <td>123,140,700,000.00</td>\n",
       "      <td>591,408,700,000.00</td>\n",
       "      <td>717,984,100,000.00</td>\n",
       "      <td>100,119,900,000.00</td>\n",
       "      <td>317,472,700,000.00</td>\n",
       "      <td>81,500,000.00</td>\n",
       "      <td>79,439,700,000.00</td>\n",
       "      <td>125,923,300,000.00</td>\n",
       "      <td>302,820,200,000.00</td>\n",
       "      <td>171,148,000,000.00</td>\n",
       "      <td>483,526,800,000.00</td>\n",
       "      <td>180,706,600,000.00</td>\n",
       "    </tr>\n",
       "    <tr>\n",
       "      <th>ICICIBANK.BO</th>\n",
       "      <td>11,179,599,481,000.00</td>\n",
       "      <td>1,142,534,068,000.00</td>\n",
       "      <td>12,387,938,907,000.00</td>\n",
       "      <td>7,292,903,383,000.00</td>\n",
       "      <td>1,101,087,373,000.00</td>\n",
       "      <td>2,084,145,868,000.00</td>\n",
       "      <td>10,040,166,000.00</td>\n",
       "      <td>42,542,387,000.00</td>\n",
       "      <td>716,671,406,000.00</td>\n",
       "      <td>0.00</td>\n",
       "      <td>716,671,406,000.00</td>\n",
       "      <td>0.00</td>\n",
       "    </tr>\n",
       "  </tbody>\n",
       "</table>\n",
       "</div>"
      ],
      "text/plain": [
       "                         Total Liab  Total Stockholder Equity  \\\n",
       "Company                                                         \n",
       "RELIANCE.BO    6,070,140,000,000.00      3,871,120,000,000.00   \n",
       "KOTAKBANK.BO   3,368,894,434,000.00        577,818,047,000.00   \n",
       "BHARTIARTL.BO  1,902,080,000,000.00        714,222,000,000.00   \n",
       "ITC.BO           123,140,700,000.00        591,408,700,000.00   \n",
       "ICICIBANK.BO  11,179,599,481,000.00      1,142,534,068,000.00   \n",
       "\n",
       "                       Total Assets  Total Current Liabilities  \\\n",
       "Company                                                          \n",
       "RELIANCE.BO   10,024,060,000,000.00       3,173,220,000,000.00   \n",
       "KOTAKBANK.BO   3,951,712,481,000.00       2,286,002,144,000.00   \n",
       "BHARTIARTL.BO  2,751,560,000,000.00         930,134,000,000.00   \n",
       "ITC.BO           717,984,100,000.00         100,119,900,000.00   \n",
       "ICICIBANK.BO  12,387,938,907,000.00       7,292,903,383,000.00   \n",
       "\n",
       "               Total Current Assets       Long Term Debt          Inventory  \\\n",
       "Company                                                                       \n",
       "RELIANCE.BO    2,320,530,000,000.00 2,075,060,000,000.00 675,610,000,000.00   \n",
       "KOTAKBANK.BO     345,512,682,000.00   664,389,383,000.00                NaN   \n",
       "BHARTIARTL.BO    328,642,000,000.00   824,901,000,000.00     884,000,000.00   \n",
       "ITC.BO           317,472,700,000.00        81,500,000.00  79,439,700,000.00   \n",
       "ICICIBANK.BO   1,101,087,373,000.00 2,084,145,868,000.00  10,040,166,000.00   \n",
       "\n",
       "                      Net Income         Gross Profit               Ebit  \\\n",
       "Company                                                                    \n",
       "RELIANCE.BO   395,880,000,000.00 1,720,530,000,000.00 645,560,000,000.00   \n",
       "KOTAKBANK.BO   72,041,305,000.00   297,471,420,000.00               0.00   \n",
       "BHARTIARTL.BO   4,095,000,000.00   385,199,000,000.00  47,451,000,000.00   \n",
       "ITC.BO        125,923,300,000.00   302,820,200,000.00 171,148,000,000.00   \n",
       "ICICIBANK.BO   42,542,387,000.00   716,671,406,000.00               0.00   \n",
       "\n",
       "                     Total Revenue      Cost Of Revenue  \n",
       "Company                                                  \n",
       "RELIANCE.BO   5,692,090,000,000.00 3,971,560,000,000.00  \n",
       "KOTAKBANK.BO    297,471,420,000.00                 0.00  \n",
       "BHARTIARTL.BO   811,090,000,000.00   425,891,000,000.00  \n",
       "ITC.BO          483,526,800,000.00   180,706,600,000.00  \n",
       "ICICIBANK.BO    716,671,406,000.00                 0.00  "
      ]
     },
     "execution_count": 6,
     "metadata": {},
     "output_type": "execute_result"
    }
   ],
   "source": [
    "df.head()"
   ]
  },
  {
   "cell_type": "markdown",
   "metadata": {},
   "source": [
    "Checking for any missing or null values"
   ]
  },
  {
   "cell_type": "code",
   "execution_count": 7,
   "metadata": {},
   "outputs": [
    {
     "data": {
      "text/plain": [
       "Total Liab                    0\n",
       "Total Stockholder Equity      0\n",
       "Total Assets                  0\n",
       "Total Current Liabilities     0\n",
       "Total Current Assets          0\n",
       "Long Term Debt               10\n",
       "Inventory                    43\n",
       "Net Income                    0\n",
       "Gross Profit                  0\n",
       "Ebit                          0\n",
       "Total Revenue                 0\n",
       "Cost Of Revenue               0\n",
       "dtype: int64"
      ]
     },
     "execution_count": 7,
     "metadata": {},
     "output_type": "execute_result"
    }
   ],
   "source": [
    "df.isnull().sum()"
   ]
  },
  {
   "cell_type": "markdown",
   "metadata": {},
   "source": [
    "# Imputing the missing values in the dataset"
   ]
  },
  {
   "cell_type": "code",
   "execution_count": 8,
   "metadata": {
    "scrolled": false
   },
   "outputs": [
    {
     "data": {
      "text/html": [
       "<div>\n",
       "<style scoped>\n",
       "    .dataframe tbody tr th:only-of-type {\n",
       "        vertical-align: middle;\n",
       "    }\n",
       "\n",
       "    .dataframe tbody tr th {\n",
       "        vertical-align: top;\n",
       "    }\n",
       "\n",
       "    .dataframe thead th {\n",
       "        text-align: right;\n",
       "    }\n",
       "</style>\n",
       "<table border=\"1\" class=\"dataframe\">\n",
       "  <thead>\n",
       "    <tr style=\"text-align: right;\">\n",
       "      <th></th>\n",
       "      <th>Total Liab</th>\n",
       "      <th>Total Stockholder Equity</th>\n",
       "      <th>Total Assets</th>\n",
       "      <th>Total Current Liabilities</th>\n",
       "      <th>Total Current Assets</th>\n",
       "      <th>Long Term Debt</th>\n",
       "      <th>Inventory</th>\n",
       "      <th>Net Income</th>\n",
       "      <th>Gross Profit</th>\n",
       "      <th>Ebit</th>\n",
       "      <th>Total Revenue</th>\n",
       "      <th>Cost Of Revenue</th>\n",
       "    </tr>\n",
       "    <tr>\n",
       "      <th>Company</th>\n",
       "      <th></th>\n",
       "      <th></th>\n",
       "      <th></th>\n",
       "      <th></th>\n",
       "      <th></th>\n",
       "      <th></th>\n",
       "      <th></th>\n",
       "      <th></th>\n",
       "      <th></th>\n",
       "      <th></th>\n",
       "      <th></th>\n",
       "      <th></th>\n",
       "    </tr>\n",
       "  </thead>\n",
       "  <tbody>\n",
       "    <tr>\n",
       "      <th>KOTAKBANK.BO</th>\n",
       "      <td>3,368,894,434,000.00</td>\n",
       "      <td>577,818,047,000.00</td>\n",
       "      <td>3,951,712,481,000.00</td>\n",
       "      <td>2,286,002,144,000.00</td>\n",
       "      <td>345,512,682,000.00</td>\n",
       "      <td>664,389,383,000.00</td>\n",
       "      <td>NaN</td>\n",
       "      <td>72,041,305,000.00</td>\n",
       "      <td>297,471,420,000.00</td>\n",
       "      <td>0.00</td>\n",
       "      <td>297,471,420,000.00</td>\n",
       "      <td>0.00</td>\n",
       "    </tr>\n",
       "    <tr>\n",
       "      <th>ABB.BO</th>\n",
       "      <td>41,807,200,000.00</td>\n",
       "      <td>35,201,100,000.00</td>\n",
       "      <td>77,008,300,000.00</td>\n",
       "      <td>41,251,300,000.00</td>\n",
       "      <td>63,981,900,000.00</td>\n",
       "      <td>8,617,300,000.00</td>\n",
       "      <td>NaN</td>\n",
       "      <td>3,034,000,000.00</td>\n",
       "      <td>24,251,800,000.00</td>\n",
       "      <td>4,828,700,000.00</td>\n",
       "      <td>73,150,600,000.00</td>\n",
       "      <td>48,898,800,000.00</td>\n",
       "    </tr>\n",
       "    <tr>\n",
       "      <th>BEL.BO</th>\n",
       "      <td>115,957,800,000.00</td>\n",
       "      <td>92,115,000,000.00</td>\n",
       "      <td>208,205,800,000.00</td>\n",
       "      <td>104,487,500,000.00</td>\n",
       "      <td>158,744,400,000.00</td>\n",
       "      <td>44,433,500,000.00</td>\n",
       "      <td>NaN</td>\n",
       "      <td>18,864,000,000.00</td>\n",
       "      <td>60,725,600,000.00</td>\n",
       "      <td>26,238,600,000.00</td>\n",
       "      <td>121,641,700,000.00</td>\n",
       "      <td>60,916,100,000.00</td>\n",
       "    </tr>\n",
       "    <tr>\n",
       "      <th>RECLTD.BO</th>\n",
       "      <td>2,639,074,900,000.00</td>\n",
       "      <td>345,463,400,000.00</td>\n",
       "      <td>2,984,538,300,000.00</td>\n",
       "      <td>495,671,400,000.00</td>\n",
       "      <td>2,932,588,400,000.00</td>\n",
       "      <td>2,131,002,800,000.00</td>\n",
       "      <td>NaN</td>\n",
       "      <td>57,413,800,000.00</td>\n",
       "      <td>96,539,600,000.00</td>\n",
       "      <td>0.00</td>\n",
       "      <td>97,813,000,000.00</td>\n",
       "      <td>1,273,400,000.00</td>\n",
       "    </tr>\n",
       "    <tr>\n",
       "      <th>RELAXO.BO</th>\n",
       "      <td>5,063,600,000.00</td>\n",
       "      <td>11,050,700,000.00</td>\n",
       "      <td>16,114,300,000.00</td>\n",
       "      <td>4,629,100,000.00</td>\n",
       "      <td>7,269,800,000.00</td>\n",
       "      <td>3,966,600,000.00</td>\n",
       "      <td>NaN</td>\n",
       "      <td>1,754,400,000.00</td>\n",
       "      <td>11,936,100,000.00</td>\n",
       "      <td>2,631,200,000.00</td>\n",
       "      <td>22,920,800,000.00</td>\n",
       "      <td>10,984,700,000.00</td>\n",
       "    </tr>\n",
       "    <tr>\n",
       "      <th>AJANTPHARM.BO</th>\n",
       "      <td>4,509,700,000.00</td>\n",
       "      <td>22,452,100,000.00</td>\n",
       "      <td>26,961,800,000.00</td>\n",
       "      <td>3,776,400,000.00</td>\n",
       "      <td>11,798,100,000.00</td>\n",
       "      <td>4,357,100,000.00</td>\n",
       "      <td>NaN</td>\n",
       "      <td>3,869,700,000.00</td>\n",
       "      <td>16,432,500,000.00</td>\n",
       "      <td>4,945,800,000.00</td>\n",
       "      <td>20,553,700,000.00</td>\n",
       "      <td>4,121,200,000.00</td>\n",
       "    </tr>\n",
       "    <tr>\n",
       "      <th>SCHAEFFLER.BO</th>\n",
       "      <td>6,830,700,000.00</td>\n",
       "      <td>29,621,600,000.00</td>\n",
       "      <td>36,452,300,000.00</td>\n",
       "      <td>6,375,800,000.00</td>\n",
       "      <td>22,646,900,000.00</td>\n",
       "      <td>7,383,100,000.00</td>\n",
       "      <td>NaN</td>\n",
       "      <td>3,676,400,000.00</td>\n",
       "      <td>16,110,400,000.00</td>\n",
       "      <td>5,069,200,000.00</td>\n",
       "      <td>43,606,300,000.00</td>\n",
       "      <td>27,495,900,000.00</td>\n",
       "    </tr>\n",
       "    <tr>\n",
       "      <th>MGL.BO</th>\n",
       "      <td>10,421,543,000.00</td>\n",
       "      <td>23,988,701,000.00</td>\n",
       "      <td>34,410,244,000.00</td>\n",
       "      <td>8,211,956,000.00</td>\n",
       "      <td>11,740,986,000.00</td>\n",
       "      <td>191,179,000.00</td>\n",
       "      <td>NaN</td>\n",
       "      <td>5,463,891,000.00</td>\n",
       "      <td>13,864,158,000.00</td>\n",
       "      <td>7,637,391,000.00</td>\n",
       "      <td>27,910,734,000.00</td>\n",
       "      <td>14,046,576,000.00</td>\n",
       "    </tr>\n",
       "    <tr>\n",
       "      <th>VGUARD.BO</th>\n",
       "      <td>4,697,684,000.00</td>\n",
       "      <td>8,994,090,000.00</td>\n",
       "      <td>13,716,770,000.00</td>\n",
       "      <td>4,519,994,000.00</td>\n",
       "      <td>10,861,329,000.00</td>\n",
       "      <td>3,763,944,000.00</td>\n",
       "      <td>NaN</td>\n",
       "      <td>1,672,368,000.00</td>\n",
       "      <td>7,673,434,000.00</td>\n",
       "      <td>2,041,919,000.00</td>\n",
       "      <td>25,940,087,000.00</td>\n",
       "      <td>18,266,653,000.00</td>\n",
       "    </tr>\n",
       "    <tr>\n",
       "      <th>NAVINFLUOR.BO</th>\n",
       "      <td>2,347,511,000.00</td>\n",
       "      <td>10,724,479,000.00</td>\n",
       "      <td>13,071,990,000.00</td>\n",
       "      <td>1,768,541,000.00</td>\n",
       "      <td>5,607,467,000.00</td>\n",
       "      <td>1,119,094,000.00</td>\n",
       "      <td>NaN</td>\n",
       "      <td>1,490,980,000.00</td>\n",
       "      <td>5,098,525,000.00</td>\n",
       "      <td>2,058,816,000.00</td>\n",
       "      <td>9,959,373,000.00</td>\n",
       "      <td>4,860,848,000.00</td>\n",
       "    </tr>\n",
       "    <tr>\n",
       "      <th>GRINDWELL.BO</th>\n",
       "      <td>3,374,990,000.00</td>\n",
       "      <td>10,979,180,000.00</td>\n",
       "      <td>14,492,726,000.00</td>\n",
       "      <td>2,887,241,000.00</td>\n",
       "      <td>8,591,262,000.00</td>\n",
       "      <td>3,285,806,000.00</td>\n",
       "      <td>NaN</td>\n",
       "      <td>1,672,448,000.00</td>\n",
       "      <td>8,795,361,000.00</td>\n",
       "      <td>2,265,452,000.00</td>\n",
       "      <td>15,980,636,000.00</td>\n",
       "      <td>7,185,275,000.00</td>\n",
       "    </tr>\n",
       "    <tr>\n",
       "      <th>LINDEINDIA.BO</th>\n",
       "      <td>10,779,760,000.00</td>\n",
       "      <td>21,719,090,000.00</td>\n",
       "      <td>32,498,850,000.00</td>\n",
       "      <td>7,844,670,000.00</td>\n",
       "      <td>9,565,800,000.00</td>\n",
       "      <td>686,480,000.00</td>\n",
       "      <td>NaN</td>\n",
       "      <td>7,271,790,000.00</td>\n",
       "      <td>9,513,430,000.00</td>\n",
       "      <td>2,435,690,000.00</td>\n",
       "      <td>17,617,860,000.00</td>\n",
       "      <td>8,104,430,000.00</td>\n",
       "    </tr>\n",
       "    <tr>\n",
       "      <th>CGCL.BO</th>\n",
       "      <td>28,943,335,000.00</td>\n",
       "      <td>13,826,792,000.00</td>\n",
       "      <td>42,770,127,000.00</td>\n",
       "      <td>8,294,425,000.00</td>\n",
       "      <td>42,072,232,000.00</td>\n",
       "      <td>20,490,951,000.00</td>\n",
       "      <td>NaN</td>\n",
       "      <td>1,356,630,000.00</td>\n",
       "      <td>3,749,724,000.00</td>\n",
       "      <td>0.00</td>\n",
       "      <td>3,754,583,000.00</td>\n",
       "      <td>4,859,000.00</td>\n",
       "    </tr>\n",
       "    <tr>\n",
       "      <th>IIFL.BO</th>\n",
       "      <td>288,801,460,000.00</td>\n",
       "      <td>43,542,980,000.00</td>\n",
       "      <td>332,388,510,000.00</td>\n",
       "      <td>62,754,750,000.00</td>\n",
       "      <td>325,666,400,000.00</td>\n",
       "      <td>214,562,860,000.00</td>\n",
       "      <td>NaN</td>\n",
       "      <td>7,946,200,000.00</td>\n",
       "      <td>25,258,470,000.00</td>\n",
       "      <td>0.00</td>\n",
       "      <td>25,372,270,000.00</td>\n",
       "      <td>113,800,000.00</td>\n",
       "    </tr>\n",
       "    <tr>\n",
       "      <th>INFIBEAM.BO</th>\n",
       "      <td>4,373,870,000.00</td>\n",
       "      <td>27,376,400,000.00</td>\n",
       "      <td>31,743,550,000.00</td>\n",
       "      <td>3,863,280,000.00</td>\n",
       "      <td>8,252,180,000.00</td>\n",
       "      <td>265,330,000.00</td>\n",
       "      <td>NaN</td>\n",
       "      <td>1,270,240,000.00</td>\n",
       "      <td>4,898,700,000.00</td>\n",
       "      <td>939,780,000.00</td>\n",
       "      <td>11,590,680,000.00</td>\n",
       "      <td>6,691,980,000.00</td>\n",
       "    </tr>\n",
       "    <tr>\n",
       "      <th>HEG.BO</th>\n",
       "      <td>13,506,720,000.00</td>\n",
       "      <td>37,936,861,000.00</td>\n",
       "      <td>51,443,581,000.00</td>\n",
       "      <td>12,178,657,000.00</td>\n",
       "      <td>34,355,115,000.00</td>\n",
       "      <td>13,083,865,000.00</td>\n",
       "      <td>NaN</td>\n",
       "      <td>30,261,566,000.00</td>\n",
       "      <td>54,780,424,000.00</td>\n",
       "      <td>46,005,382,000.00</td>\n",
       "      <td>65,928,252,000.00</td>\n",
       "      <td>11,147,828,000.00</td>\n",
       "    </tr>\n",
       "    <tr>\n",
       "      <th>FMGOETZE.BO</th>\n",
       "      <td>3,121,852,000.00</td>\n",
       "      <td>7,943,767,000.00</td>\n",
       "      <td>11,700,907,000.00</td>\n",
       "      <td>2,514,120,000.00</td>\n",
       "      <td>5,265,425,000.00</td>\n",
       "      <td>2,176,248,000.00</td>\n",
       "      <td>NaN</td>\n",
       "      <td>874,130,000.00</td>\n",
       "      <td>9,180,123,000.00</td>\n",
       "      <td>1,427,771,000.00</td>\n",
       "      <td>13,418,299,000.00</td>\n",
       "      <td>4,238,176,000.00</td>\n",
       "    </tr>\n",
       "    <tr>\n",
       "      <th>GNFC.BO</th>\n",
       "      <td>25,445,100,000.00</td>\n",
       "      <td>50,647,300,000.00</td>\n",
       "      <td>76,092,400,000.00</td>\n",
       "      <td>10,221,100,000.00</td>\n",
       "      <td>24,878,800,000.00</td>\n",
       "      <td>8,290,300,000.00</td>\n",
       "      <td>NaN</td>\n",
       "      <td>7,497,400,000.00</td>\n",
       "      <td>19,687,400,000.00</td>\n",
       "      <td>7,056,500,000.00</td>\n",
       "      <td>58,960,200,000.00</td>\n",
       "      <td>39,272,800,000.00</td>\n",
       "    </tr>\n",
       "    <tr>\n",
       "      <th>DELTACORP.BO</th>\n",
       "      <td>1,447,000,000.00</td>\n",
       "      <td>19,422,700,000.00</td>\n",
       "      <td>20,949,800,000.00</td>\n",
       "      <td>1,181,400,000.00</td>\n",
       "      <td>7,444,800,000.00</td>\n",
       "      <td>958,200,000.00</td>\n",
       "      <td>NaN</td>\n",
       "      <td>1,967,600,000.00</td>\n",
       "      <td>5,325,300,000.00</td>\n",
       "      <td>2,820,000,000.00</td>\n",
       "      <td>7,978,100,000.00</td>\n",
       "      <td>2,652,800,000.00</td>\n",
       "    </tr>\n",
       "    <tr>\n",
       "      <th>DIAMONDYD.BO</th>\n",
       "      <td>2,642,694,000.00</td>\n",
       "      <td>5,613,571,000.00</td>\n",
       "      <td>8,256,265,000.00</td>\n",
       "      <td>1,245,674,000.00</td>\n",
       "      <td>2,584,181,000.00</td>\n",
       "      <td>1,194,843,000.00</td>\n",
       "      <td>NaN</td>\n",
       "      <td>446,413,000.00</td>\n",
       "      <td>3,404,509,000.00</td>\n",
       "      <td>457,066,000.00</td>\n",
       "      <td>11,706,096,000.00</td>\n",
       "      <td>8,301,587,000.00</td>\n",
       "    </tr>\n",
       "    <tr>\n",
       "      <th>ITDC.BO</th>\n",
       "      <td>3,360,494,000.00</td>\n",
       "      <td>3,314,266,000.00</td>\n",
       "      <td>6,625,161,000.00</td>\n",
       "      <td>2,758,093,000.00</td>\n",
       "      <td>5,577,849,000.00</td>\n",
       "      <td>101,131,000.00</td>\n",
       "      <td>NaN</td>\n",
       "      <td>419,423,000.00</td>\n",
       "      <td>1,712,644,000.00</td>\n",
       "      <td>175,530,000.00</td>\n",
       "      <td>3,559,487,000.00</td>\n",
       "      <td>1,846,843,000.00</td>\n",
       "    </tr>\n",
       "    <tr>\n",
       "      <th>UNICHEMLAB.BO</th>\n",
       "      <td>5,297,046,000.00</td>\n",
       "      <td>26,199,069,000.00</td>\n",
       "      <td>31,496,115,000.00</td>\n",
       "      <td>5,029,178,000.00</td>\n",
       "      <td>20,392,861,000.00</td>\n",
       "      <td>3,386,646,000.00</td>\n",
       "      <td>NaN</td>\n",
       "      <td>-238,004,000.00</td>\n",
       "      <td>6,912,309,000.00</td>\n",
       "      <td>-1,361,622,000.00</td>\n",
       "      <td>11,800,468,000.00</td>\n",
       "      <td>4,888,159,000.00</td>\n",
       "    </tr>\n",
       "    <tr>\n",
       "      <th>NOCIL.BO</th>\n",
       "      <td>2,792,600,000.00</td>\n",
       "      <td>11,630,100,000.00</td>\n",
       "      <td>14,422,700,000.00</td>\n",
       "      <td>1,548,200,000.00</td>\n",
       "      <td>5,797,700,000.00</td>\n",
       "      <td>1,707,100,000.00</td>\n",
       "      <td>NaN</td>\n",
       "      <td>1,848,500,000.00</td>\n",
       "      <td>5,627,400,000.00</td>\n",
       "      <td>2,728,800,000.00</td>\n",
       "      <td>10,429,000,000.00</td>\n",
       "      <td>4,801,600,000.00</td>\n",
       "    </tr>\n",
       "    <tr>\n",
       "      <th>PRAJIND.BO</th>\n",
       "      <td>5,012,843,000.00</td>\n",
       "      <td>7,450,152,000.00</td>\n",
       "      <td>12,469,638,000.00</td>\n",
       "      <td>4,854,045,000.00</td>\n",
       "      <td>8,607,006,000.00</td>\n",
       "      <td>1,263,768,000.00</td>\n",
       "      <td>NaN</td>\n",
       "      <td>682,032,000.00</td>\n",
       "      <td>3,642,592,000.00</td>\n",
       "      <td>594,697,000.00</td>\n",
       "      <td>11,411,120,000.00</td>\n",
       "      <td>7,768,528,000.00</td>\n",
       "    </tr>\n",
       "    <tr>\n",
       "      <th>TVTODAY.BO</th>\n",
       "      <td>1,755,343,000.00</td>\n",
       "      <td>8,959,401,000.00</td>\n",
       "      <td>10,714,744,000.00</td>\n",
       "      <td>1,661,328,000.00</td>\n",
       "      <td>7,288,024,000.00</td>\n",
       "      <td>25,012,000.00</td>\n",
       "      <td>NaN</td>\n",
       "      <td>1,311,016,000.00</td>\n",
       "      <td>4,420,002,000.00</td>\n",
       "      <td>1,704,254,000.00</td>\n",
       "      <td>7,422,417,000.00</td>\n",
       "      <td>3,002,415,000.00</td>\n",
       "    </tr>\n",
       "    <tr>\n",
       "      <th>WONDERLA.BO</th>\n",
       "      <td>1,557,811,000.00</td>\n",
       "      <td>8,185,257,000.00</td>\n",
       "      <td>9,743,068,000.00</td>\n",
       "      <td>845,086,000.00</td>\n",
       "      <td>1,300,896,000.00</td>\n",
       "      <td>86,766,000.00</td>\n",
       "      <td>NaN</td>\n",
       "      <td>554,141,000.00</td>\n",
       "      <td>2,354,075,000.00</td>\n",
       "      <td>775,180,000.00</td>\n",
       "      <td>2,820,419,000.00</td>\n",
       "      <td>466,344,000.00</td>\n",
       "    </tr>\n",
       "    <tr>\n",
       "      <th>ASTEC.BO</th>\n",
       "      <td>2,582,831,000.00</td>\n",
       "      <td>2,024,865,000.00</td>\n",
       "      <td>4,610,821,000.00</td>\n",
       "      <td>2,488,043,000.00</td>\n",
       "      <td>2,484,776,000.00</td>\n",
       "      <td>928,495,000.00</td>\n",
       "      <td>NaN</td>\n",
       "      <td>357,368,000.00</td>\n",
       "      <td>1,559,969,000.00</td>\n",
       "      <td>662,156,000.00</td>\n",
       "      <td>4,382,096,000.00</td>\n",
       "      <td>2,822,127,000.00</td>\n",
       "    </tr>\n",
       "    <tr>\n",
       "      <th>TANLA.BO</th>\n",
       "      <td>3,813,336,211.00</td>\n",
       "      <td>7,255,428,317.00</td>\n",
       "      <td>11,068,764,528.00</td>\n",
       "      <td>3,341,295,028.00</td>\n",
       "      <td>7,125,187,160.00</td>\n",
       "      <td>469,253,174.00</td>\n",
       "      <td>NaN</td>\n",
       "      <td>298,210,494.00</td>\n",
       "      <td>1,163,977,501.00</td>\n",
       "      <td>291,492,090.00</td>\n",
       "      <td>10,039,647,403.00</td>\n",
       "      <td>8,875,669,902.00</td>\n",
       "    </tr>\n",
       "    <tr>\n",
       "      <th>PAISALO.BO</th>\n",
       "      <td>15,109,852,000.00</td>\n",
       "      <td>6,641,248,000.00</td>\n",
       "      <td>21,751,100,000.00</td>\n",
       "      <td>9,188,260,000.00</td>\n",
       "      <td>21,341,258,000.00</td>\n",
       "      <td>2,880,957,000.00</td>\n",
       "      <td>NaN</td>\n",
       "      <td>563,834,000.00</td>\n",
       "      <td>2,108,529,000.00</td>\n",
       "      <td>0.00</td>\n",
       "      <td>2,114,875,000.00</td>\n",
       "      <td>6,346,000.00</td>\n",
       "    </tr>\n",
       "    <tr>\n",
       "      <th>FOSECOIND.BO</th>\n",
       "      <td>772,708,000.00</td>\n",
       "      <td>1,713,883,000.00</td>\n",
       "      <td>2,486,591,000.00</td>\n",
       "      <td>764,628,000.00</td>\n",
       "      <td>2,061,478,000.00</td>\n",
       "      <td>196,897,000.00</td>\n",
       "      <td>NaN</td>\n",
       "      <td>345,329,000.00</td>\n",
       "      <td>1,360,143,000.00</td>\n",
       "      <td>446,574,000.00</td>\n",
       "      <td>3,225,239,000.00</td>\n",
       "      <td>1,865,096,000.00</td>\n",
       "    </tr>\n",
       "    <tr>\n",
       "      <th>KITEX.BO</th>\n",
       "      <td>1,941,850,000.00</td>\n",
       "      <td>5,634,902,000.00</td>\n",
       "      <td>7,576,752,000.00</td>\n",
       "      <td>1,663,205,000.00</td>\n",
       "      <td>4,911,699,000.00</td>\n",
       "      <td>1,288,802,000.00</td>\n",
       "      <td>NaN</td>\n",
       "      <td>714,455,000.00</td>\n",
       "      <td>3,543,021,000.00</td>\n",
       "      <td>1,167,733,000.00</td>\n",
       "      <td>6,068,046,000.00</td>\n",
       "      <td>2,525,025,000.00</td>\n",
       "    </tr>\n",
       "    <tr>\n",
       "      <th>PRABHAT.BO</th>\n",
       "      <td>6,754,212,000.00</td>\n",
       "      <td>7,800,197,000.00</td>\n",
       "      <td>14,554,409,000.00</td>\n",
       "      <td>6,754,211,000.00</td>\n",
       "      <td>14,461,439,000.00</td>\n",
       "      <td>2,436,000.00</td>\n",
       "      <td>NaN</td>\n",
       "      <td>488,549,000.00</td>\n",
       "      <td>129,707,000.00</td>\n",
       "      <td>27,008,000.00</td>\n",
       "      <td>2,387,251,000.00</td>\n",
       "      <td>2,257,544,000.00</td>\n",
       "    </tr>\n",
       "    <tr>\n",
       "      <th>TTML.BO</th>\n",
       "      <td>193,504,300,000.00</td>\n",
       "      <td>-148,198,300,000.00</td>\n",
       "      <td>45,306,000,000.00</td>\n",
       "      <td>136,197,500,000.00</td>\n",
       "      <td>35,178,400,000.00</td>\n",
       "      <td>57,083,300,000.00</td>\n",
       "      <td>NaN</td>\n",
       "      <td>-6,676,000,000.00</td>\n",
       "      <td>5,053,300,000.00</td>\n",
       "      <td>741,300,000.00</td>\n",
       "      <td>12,772,000,000.00</td>\n",
       "      <td>7,718,700,000.00</td>\n",
       "    </tr>\n",
       "    <tr>\n",
       "      <th>ADFFOODS.BO</th>\n",
       "      <td>324,104,000.00</td>\n",
       "      <td>1,718,246,000.00</td>\n",
       "      <td>2,042,350,000.00</td>\n",
       "      <td>222,716,000.00</td>\n",
       "      <td>1,148,947,000.00</td>\n",
       "      <td>351,048,000.00</td>\n",
       "      <td>NaN</td>\n",
       "      <td>253,346,000.00</td>\n",
       "      <td>1,096,795,000.00</td>\n",
       "      <td>358,081,000.00</td>\n",
       "      <td>2,314,350,000.00</td>\n",
       "      <td>1,217,555,000.00</td>\n",
       "    </tr>\n",
       "    <tr>\n",
       "      <th>GTLINFRA.BO</th>\n",
       "      <td>58,952,700,000.00</td>\n",
       "      <td>16,705,000,000.00</td>\n",
       "      <td>75,657,700,000.00</td>\n",
       "      <td>56,713,900,000.00</td>\n",
       "      <td>6,398,900,000.00</td>\n",
       "      <td>31,100,000.00</td>\n",
       "      <td>NaN</td>\n",
       "      <td>-15,394,000,000.00</td>\n",
       "      <td>6,043,300,000.00</td>\n",
       "      <td>-4,129,600,000.00</td>\n",
       "      <td>15,002,100,000.00</td>\n",
       "      <td>8,958,800,000.00</td>\n",
       "    </tr>\n",
       "    <tr>\n",
       "      <th>TEJASNET.BO</th>\n",
       "      <td>2,650,400,000.00</td>\n",
       "      <td>13,202,400,000.00</td>\n",
       "      <td>15,852,800,000.00</td>\n",
       "      <td>2,632,900,000.00</td>\n",
       "      <td>12,224,100,000.00</td>\n",
       "      <td>1,813,900,000.00</td>\n",
       "      <td>NaN</td>\n",
       "      <td>1,472,400,000.00</td>\n",
       "      <td>4,313,800,000.00</td>\n",
       "      <td>1,303,600,000.00</td>\n",
       "      <td>9,003,200,000.00</td>\n",
       "      <td>4,689,400,000.00</td>\n",
       "    </tr>\n",
       "    <tr>\n",
       "      <th>APCL.BO</th>\n",
       "      <td>1,166,900,000.00</td>\n",
       "      <td>2,416,500,000.00</td>\n",
       "      <td>3,583,400,000.00</td>\n",
       "      <td>865,200,000.00</td>\n",
       "      <td>1,183,900,000.00</td>\n",
       "      <td>365,400,000.00</td>\n",
       "      <td>NaN</td>\n",
       "      <td>231,600,000.00</td>\n",
       "      <td>2,114,200,000.00</td>\n",
       "      <td>372,500,000.00</td>\n",
       "      <td>4,374,700,000.00</td>\n",
       "      <td>2,260,500,000.00</td>\n",
       "    </tr>\n",
       "    <tr>\n",
       "      <th>RAMCOSYS.BO</th>\n",
       "      <td>2,638,490,000.00</td>\n",
       "      <td>5,775,680,000.00</td>\n",
       "      <td>8,427,490,000.00</td>\n",
       "      <td>2,454,450,000.00</td>\n",
       "      <td>3,642,470,000.00</td>\n",
       "      <td>NaN</td>\n",
       "      <td>NaN</td>\n",
       "      <td>163,780,000.00</td>\n",
       "      <td>3,067,380,000.00</td>\n",
       "      <td>434,110,000.00</td>\n",
       "      <td>5,422,590,000.00</td>\n",
       "      <td>2,355,210,000.00</td>\n",
       "    </tr>\n",
       "    <tr>\n",
       "      <th>TNPETRO.BO</th>\n",
       "      <td>2,043,052,000.00</td>\n",
       "      <td>4,251,409,000.00</td>\n",
       "      <td>6,294,461,000.00</td>\n",
       "      <td>1,552,062,000.00</td>\n",
       "      <td>3,683,581,000.00</td>\n",
       "      <td>787,631,000.00</td>\n",
       "      <td>NaN</td>\n",
       "      <td>570,324,000.00</td>\n",
       "      <td>5,320,265,000.00</td>\n",
       "      <td>718,120,000.00</td>\n",
       "      <td>12,453,273,000.00</td>\n",
       "      <td>7,133,008,000.00</td>\n",
       "    </tr>\n",
       "    <tr>\n",
       "      <th>IFBAGRO.BO</th>\n",
       "      <td>916,021,000.00</td>\n",
       "      <td>3,695,641,000.00</td>\n",
       "      <td>4,611,662,000.00</td>\n",
       "      <td>739,382,000.00</td>\n",
       "      <td>2,813,931,000.00</td>\n",
       "      <td>653,498,000.00</td>\n",
       "      <td>NaN</td>\n",
       "      <td>313,630,000.00</td>\n",
       "      <td>2,484,033,000.00</td>\n",
       "      <td>350,323,000.00</td>\n",
       "      <td>9,452,151,000.00</td>\n",
       "      <td>6,968,118,000.00</td>\n",
       "    </tr>\n",
       "    <tr>\n",
       "      <th>GOLDIAM.BO</th>\n",
       "      <td>850,957,000.00</td>\n",
       "      <td>3,840,622,000.00</td>\n",
       "      <td>4,776,325,000.00</td>\n",
       "      <td>848,583,000.00</td>\n",
       "      <td>4,032,879,000.00</td>\n",
       "      <td>1,060,108,000.00</td>\n",
       "      <td>NaN</td>\n",
       "      <td>495,792,000.00</td>\n",
       "      <td>1,253,513,000.00</td>\n",
       "      <td>617,056,000.00</td>\n",
       "      <td>4,536,941,000.00</td>\n",
       "      <td>3,283,428,000.00</td>\n",
       "    </tr>\n",
       "    <tr>\n",
       "      <th>SASTASUNDR.BO</th>\n",
       "      <td>301,075,000.00</td>\n",
       "      <td>1,425,122,000.00</td>\n",
       "      <td>2,304,960,000.00</td>\n",
       "      <td>173,146,000.00</td>\n",
       "      <td>1,111,999,000.00</td>\n",
       "      <td>325,852,000.00</td>\n",
       "      <td>NaN</td>\n",
       "      <td>-375,570,000.00</td>\n",
       "      <td>-40,989,000.00</td>\n",
       "      <td>-413,729,000.00</td>\n",
       "      <td>2,201,091,000.00</td>\n",
       "      <td>2,242,080,000.00</td>\n",
       "    </tr>\n",
       "    <tr>\n",
       "      <th>SREINFRA.BO</th>\n",
       "      <td>360,951,600,000.00</td>\n",
       "      <td>41,111,700,000.00</td>\n",
       "      <td>402,064,600,000.00</td>\n",
       "      <td>202,957,500,000.00</td>\n",
       "      <td>321,208,300,000.00</td>\n",
       "      <td>150,840,200,000.00</td>\n",
       "      <td>NaN</td>\n",
       "      <td>4,868,500,000.00</td>\n",
       "      <td>24,046,400,000.00</td>\n",
       "      <td>0.00</td>\n",
       "      <td>29,627,700,000.00</td>\n",
       "      <td>5,581,300,000.00</td>\n",
       "    </tr>\n",
       "  </tbody>\n",
       "</table>\n",
       "</div>"
      ],
      "text/plain": [
       "                        Total Liab  Total Stockholder Equity  \\\n",
       "Company                                                        \n",
       "KOTAKBANK.BO  3,368,894,434,000.00        577,818,047,000.00   \n",
       "ABB.BO           41,807,200,000.00         35,201,100,000.00   \n",
       "BEL.BO          115,957,800,000.00         92,115,000,000.00   \n",
       "RECLTD.BO     2,639,074,900,000.00        345,463,400,000.00   \n",
       "RELAXO.BO         5,063,600,000.00         11,050,700,000.00   \n",
       "AJANTPHARM.BO     4,509,700,000.00         22,452,100,000.00   \n",
       "SCHAEFFLER.BO     6,830,700,000.00         29,621,600,000.00   \n",
       "MGL.BO           10,421,543,000.00         23,988,701,000.00   \n",
       "VGUARD.BO         4,697,684,000.00          8,994,090,000.00   \n",
       "NAVINFLUOR.BO     2,347,511,000.00         10,724,479,000.00   \n",
       "GRINDWELL.BO      3,374,990,000.00         10,979,180,000.00   \n",
       "LINDEINDIA.BO    10,779,760,000.00         21,719,090,000.00   \n",
       "CGCL.BO          28,943,335,000.00         13,826,792,000.00   \n",
       "IIFL.BO         288,801,460,000.00         43,542,980,000.00   \n",
       "INFIBEAM.BO       4,373,870,000.00         27,376,400,000.00   \n",
       "HEG.BO           13,506,720,000.00         37,936,861,000.00   \n",
       "FMGOETZE.BO       3,121,852,000.00          7,943,767,000.00   \n",
       "GNFC.BO          25,445,100,000.00         50,647,300,000.00   \n",
       "DELTACORP.BO      1,447,000,000.00         19,422,700,000.00   \n",
       "DIAMONDYD.BO      2,642,694,000.00          5,613,571,000.00   \n",
       "ITDC.BO           3,360,494,000.00          3,314,266,000.00   \n",
       "UNICHEMLAB.BO     5,297,046,000.00         26,199,069,000.00   \n",
       "NOCIL.BO          2,792,600,000.00         11,630,100,000.00   \n",
       "PRAJIND.BO        5,012,843,000.00          7,450,152,000.00   \n",
       "TVTODAY.BO        1,755,343,000.00          8,959,401,000.00   \n",
       "WONDERLA.BO       1,557,811,000.00          8,185,257,000.00   \n",
       "ASTEC.BO          2,582,831,000.00          2,024,865,000.00   \n",
       "TANLA.BO          3,813,336,211.00          7,255,428,317.00   \n",
       "PAISALO.BO       15,109,852,000.00          6,641,248,000.00   \n",
       "FOSECOIND.BO        772,708,000.00          1,713,883,000.00   \n",
       "KITEX.BO          1,941,850,000.00          5,634,902,000.00   \n",
       "PRABHAT.BO        6,754,212,000.00          7,800,197,000.00   \n",
       "TTML.BO         193,504,300,000.00       -148,198,300,000.00   \n",
       "ADFFOODS.BO         324,104,000.00          1,718,246,000.00   \n",
       "GTLINFRA.BO      58,952,700,000.00         16,705,000,000.00   \n",
       "TEJASNET.BO       2,650,400,000.00         13,202,400,000.00   \n",
       "APCL.BO           1,166,900,000.00          2,416,500,000.00   \n",
       "RAMCOSYS.BO       2,638,490,000.00          5,775,680,000.00   \n",
       "TNPETRO.BO        2,043,052,000.00          4,251,409,000.00   \n",
       "IFBAGRO.BO          916,021,000.00          3,695,641,000.00   \n",
       "GOLDIAM.BO          850,957,000.00          3,840,622,000.00   \n",
       "SASTASUNDR.BO       301,075,000.00          1,425,122,000.00   \n",
       "SREINFRA.BO     360,951,600,000.00         41,111,700,000.00   \n",
       "\n",
       "                      Total Assets  Total Current Liabilities  \\\n",
       "Company                                                         \n",
       "KOTAKBANK.BO  3,951,712,481,000.00       2,286,002,144,000.00   \n",
       "ABB.BO           77,008,300,000.00          41,251,300,000.00   \n",
       "BEL.BO          208,205,800,000.00         104,487,500,000.00   \n",
       "RECLTD.BO     2,984,538,300,000.00         495,671,400,000.00   \n",
       "RELAXO.BO        16,114,300,000.00           4,629,100,000.00   \n",
       "AJANTPHARM.BO    26,961,800,000.00           3,776,400,000.00   \n",
       "SCHAEFFLER.BO    36,452,300,000.00           6,375,800,000.00   \n",
       "MGL.BO           34,410,244,000.00           8,211,956,000.00   \n",
       "VGUARD.BO        13,716,770,000.00           4,519,994,000.00   \n",
       "NAVINFLUOR.BO    13,071,990,000.00           1,768,541,000.00   \n",
       "GRINDWELL.BO     14,492,726,000.00           2,887,241,000.00   \n",
       "LINDEINDIA.BO    32,498,850,000.00           7,844,670,000.00   \n",
       "CGCL.BO          42,770,127,000.00           8,294,425,000.00   \n",
       "IIFL.BO         332,388,510,000.00          62,754,750,000.00   \n",
       "INFIBEAM.BO      31,743,550,000.00           3,863,280,000.00   \n",
       "HEG.BO           51,443,581,000.00          12,178,657,000.00   \n",
       "FMGOETZE.BO      11,700,907,000.00           2,514,120,000.00   \n",
       "GNFC.BO          76,092,400,000.00          10,221,100,000.00   \n",
       "DELTACORP.BO     20,949,800,000.00           1,181,400,000.00   \n",
       "DIAMONDYD.BO      8,256,265,000.00           1,245,674,000.00   \n",
       "ITDC.BO           6,625,161,000.00           2,758,093,000.00   \n",
       "UNICHEMLAB.BO    31,496,115,000.00           5,029,178,000.00   \n",
       "NOCIL.BO         14,422,700,000.00           1,548,200,000.00   \n",
       "PRAJIND.BO       12,469,638,000.00           4,854,045,000.00   \n",
       "TVTODAY.BO       10,714,744,000.00           1,661,328,000.00   \n",
       "WONDERLA.BO       9,743,068,000.00             845,086,000.00   \n",
       "ASTEC.BO          4,610,821,000.00           2,488,043,000.00   \n",
       "TANLA.BO         11,068,764,528.00           3,341,295,028.00   \n",
       "PAISALO.BO       21,751,100,000.00           9,188,260,000.00   \n",
       "FOSECOIND.BO      2,486,591,000.00             764,628,000.00   \n",
       "KITEX.BO          7,576,752,000.00           1,663,205,000.00   \n",
       "PRABHAT.BO       14,554,409,000.00           6,754,211,000.00   \n",
       "TTML.BO          45,306,000,000.00         136,197,500,000.00   \n",
       "ADFFOODS.BO       2,042,350,000.00             222,716,000.00   \n",
       "GTLINFRA.BO      75,657,700,000.00          56,713,900,000.00   \n",
       "TEJASNET.BO      15,852,800,000.00           2,632,900,000.00   \n",
       "APCL.BO           3,583,400,000.00             865,200,000.00   \n",
       "RAMCOSYS.BO       8,427,490,000.00           2,454,450,000.00   \n",
       "TNPETRO.BO        6,294,461,000.00           1,552,062,000.00   \n",
       "IFBAGRO.BO        4,611,662,000.00             739,382,000.00   \n",
       "GOLDIAM.BO        4,776,325,000.00             848,583,000.00   \n",
       "SASTASUNDR.BO     2,304,960,000.00             173,146,000.00   \n",
       "SREINFRA.BO     402,064,600,000.00         202,957,500,000.00   \n",
       "\n",
       "               Total Current Assets       Long Term Debt  Inventory  \\\n",
       "Company                                                               \n",
       "KOTAKBANK.BO     345,512,682,000.00   664,389,383,000.00        NaN   \n",
       "ABB.BO            63,981,900,000.00     8,617,300,000.00        NaN   \n",
       "BEL.BO           158,744,400,000.00    44,433,500,000.00        NaN   \n",
       "RECLTD.BO      2,932,588,400,000.00 2,131,002,800,000.00        NaN   \n",
       "RELAXO.BO          7,269,800,000.00     3,966,600,000.00        NaN   \n",
       "AJANTPHARM.BO     11,798,100,000.00     4,357,100,000.00        NaN   \n",
       "SCHAEFFLER.BO     22,646,900,000.00     7,383,100,000.00        NaN   \n",
       "MGL.BO            11,740,986,000.00       191,179,000.00        NaN   \n",
       "VGUARD.BO         10,861,329,000.00     3,763,944,000.00        NaN   \n",
       "NAVINFLUOR.BO      5,607,467,000.00     1,119,094,000.00        NaN   \n",
       "GRINDWELL.BO       8,591,262,000.00     3,285,806,000.00        NaN   \n",
       "LINDEINDIA.BO      9,565,800,000.00       686,480,000.00        NaN   \n",
       "CGCL.BO           42,072,232,000.00    20,490,951,000.00        NaN   \n",
       "IIFL.BO          325,666,400,000.00   214,562,860,000.00        NaN   \n",
       "INFIBEAM.BO        8,252,180,000.00       265,330,000.00        NaN   \n",
       "HEG.BO            34,355,115,000.00    13,083,865,000.00        NaN   \n",
       "FMGOETZE.BO        5,265,425,000.00     2,176,248,000.00        NaN   \n",
       "GNFC.BO           24,878,800,000.00     8,290,300,000.00        NaN   \n",
       "DELTACORP.BO       7,444,800,000.00       958,200,000.00        NaN   \n",
       "DIAMONDYD.BO       2,584,181,000.00     1,194,843,000.00        NaN   \n",
       "ITDC.BO            5,577,849,000.00       101,131,000.00        NaN   \n",
       "UNICHEMLAB.BO     20,392,861,000.00     3,386,646,000.00        NaN   \n",
       "NOCIL.BO           5,797,700,000.00     1,707,100,000.00        NaN   \n",
       "PRAJIND.BO         8,607,006,000.00     1,263,768,000.00        NaN   \n",
       "TVTODAY.BO         7,288,024,000.00        25,012,000.00        NaN   \n",
       "WONDERLA.BO        1,300,896,000.00        86,766,000.00        NaN   \n",
       "ASTEC.BO           2,484,776,000.00       928,495,000.00        NaN   \n",
       "TANLA.BO           7,125,187,160.00       469,253,174.00        NaN   \n",
       "PAISALO.BO        21,341,258,000.00     2,880,957,000.00        NaN   \n",
       "FOSECOIND.BO       2,061,478,000.00       196,897,000.00        NaN   \n",
       "KITEX.BO           4,911,699,000.00     1,288,802,000.00        NaN   \n",
       "PRABHAT.BO        14,461,439,000.00         2,436,000.00        NaN   \n",
       "TTML.BO           35,178,400,000.00    57,083,300,000.00        NaN   \n",
       "ADFFOODS.BO        1,148,947,000.00       351,048,000.00        NaN   \n",
       "GTLINFRA.BO        6,398,900,000.00        31,100,000.00        NaN   \n",
       "TEJASNET.BO       12,224,100,000.00     1,813,900,000.00        NaN   \n",
       "APCL.BO            1,183,900,000.00       365,400,000.00        NaN   \n",
       "RAMCOSYS.BO        3,642,470,000.00                  NaN        NaN   \n",
       "TNPETRO.BO         3,683,581,000.00       787,631,000.00        NaN   \n",
       "IFBAGRO.BO         2,813,931,000.00       653,498,000.00        NaN   \n",
       "GOLDIAM.BO         4,032,879,000.00     1,060,108,000.00        NaN   \n",
       "SASTASUNDR.BO      1,111,999,000.00       325,852,000.00        NaN   \n",
       "SREINFRA.BO      321,208,300,000.00   150,840,200,000.00        NaN   \n",
       "\n",
       "                      Net Income       Gross Profit              Ebit  \\\n",
       "Company                                                                 \n",
       "KOTAKBANK.BO   72,041,305,000.00 297,471,420,000.00              0.00   \n",
       "ABB.BO          3,034,000,000.00  24,251,800,000.00  4,828,700,000.00   \n",
       "BEL.BO         18,864,000,000.00  60,725,600,000.00 26,238,600,000.00   \n",
       "RECLTD.BO      57,413,800,000.00  96,539,600,000.00              0.00   \n",
       "RELAXO.BO       1,754,400,000.00  11,936,100,000.00  2,631,200,000.00   \n",
       "AJANTPHARM.BO   3,869,700,000.00  16,432,500,000.00  4,945,800,000.00   \n",
       "SCHAEFFLER.BO   3,676,400,000.00  16,110,400,000.00  5,069,200,000.00   \n",
       "MGL.BO          5,463,891,000.00  13,864,158,000.00  7,637,391,000.00   \n",
       "VGUARD.BO       1,672,368,000.00   7,673,434,000.00  2,041,919,000.00   \n",
       "NAVINFLUOR.BO   1,490,980,000.00   5,098,525,000.00  2,058,816,000.00   \n",
       "GRINDWELL.BO    1,672,448,000.00   8,795,361,000.00  2,265,452,000.00   \n",
       "LINDEINDIA.BO   7,271,790,000.00   9,513,430,000.00  2,435,690,000.00   \n",
       "CGCL.BO         1,356,630,000.00   3,749,724,000.00              0.00   \n",
       "IIFL.BO         7,946,200,000.00  25,258,470,000.00              0.00   \n",
       "INFIBEAM.BO     1,270,240,000.00   4,898,700,000.00    939,780,000.00   \n",
       "HEG.BO         30,261,566,000.00  54,780,424,000.00 46,005,382,000.00   \n",
       "FMGOETZE.BO       874,130,000.00   9,180,123,000.00  1,427,771,000.00   \n",
       "GNFC.BO         7,497,400,000.00  19,687,400,000.00  7,056,500,000.00   \n",
       "DELTACORP.BO    1,967,600,000.00   5,325,300,000.00  2,820,000,000.00   \n",
       "DIAMONDYD.BO      446,413,000.00   3,404,509,000.00    457,066,000.00   \n",
       "ITDC.BO           419,423,000.00   1,712,644,000.00    175,530,000.00   \n",
       "UNICHEMLAB.BO    -238,004,000.00   6,912,309,000.00 -1,361,622,000.00   \n",
       "NOCIL.BO        1,848,500,000.00   5,627,400,000.00  2,728,800,000.00   \n",
       "PRAJIND.BO        682,032,000.00   3,642,592,000.00    594,697,000.00   \n",
       "TVTODAY.BO      1,311,016,000.00   4,420,002,000.00  1,704,254,000.00   \n",
       "WONDERLA.BO       554,141,000.00   2,354,075,000.00    775,180,000.00   \n",
       "ASTEC.BO          357,368,000.00   1,559,969,000.00    662,156,000.00   \n",
       "TANLA.BO          298,210,494.00   1,163,977,501.00    291,492,090.00   \n",
       "PAISALO.BO        563,834,000.00   2,108,529,000.00              0.00   \n",
       "FOSECOIND.BO      345,329,000.00   1,360,143,000.00    446,574,000.00   \n",
       "KITEX.BO          714,455,000.00   3,543,021,000.00  1,167,733,000.00   \n",
       "PRABHAT.BO        488,549,000.00     129,707,000.00     27,008,000.00   \n",
       "TTML.BO        -6,676,000,000.00   5,053,300,000.00    741,300,000.00   \n",
       "ADFFOODS.BO       253,346,000.00   1,096,795,000.00    358,081,000.00   \n",
       "GTLINFRA.BO   -15,394,000,000.00   6,043,300,000.00 -4,129,600,000.00   \n",
       "TEJASNET.BO     1,472,400,000.00   4,313,800,000.00  1,303,600,000.00   \n",
       "APCL.BO           231,600,000.00   2,114,200,000.00    372,500,000.00   \n",
       "RAMCOSYS.BO       163,780,000.00   3,067,380,000.00    434,110,000.00   \n",
       "TNPETRO.BO        570,324,000.00   5,320,265,000.00    718,120,000.00   \n",
       "IFBAGRO.BO        313,630,000.00   2,484,033,000.00    350,323,000.00   \n",
       "GOLDIAM.BO        495,792,000.00   1,253,513,000.00    617,056,000.00   \n",
       "SASTASUNDR.BO    -375,570,000.00     -40,989,000.00   -413,729,000.00   \n",
       "SREINFRA.BO     4,868,500,000.00  24,046,400,000.00              0.00   \n",
       "\n",
       "                   Total Revenue   Cost Of Revenue  \n",
       "Company                                             \n",
       "KOTAKBANK.BO  297,471,420,000.00              0.00  \n",
       "ABB.BO         73,150,600,000.00 48,898,800,000.00  \n",
       "BEL.BO        121,641,700,000.00 60,916,100,000.00  \n",
       "RECLTD.BO      97,813,000,000.00  1,273,400,000.00  \n",
       "RELAXO.BO      22,920,800,000.00 10,984,700,000.00  \n",
       "AJANTPHARM.BO  20,553,700,000.00  4,121,200,000.00  \n",
       "SCHAEFFLER.BO  43,606,300,000.00 27,495,900,000.00  \n",
       "MGL.BO         27,910,734,000.00 14,046,576,000.00  \n",
       "VGUARD.BO      25,940,087,000.00 18,266,653,000.00  \n",
       "NAVINFLUOR.BO   9,959,373,000.00  4,860,848,000.00  \n",
       "GRINDWELL.BO   15,980,636,000.00  7,185,275,000.00  \n",
       "LINDEINDIA.BO  17,617,860,000.00  8,104,430,000.00  \n",
       "CGCL.BO         3,754,583,000.00      4,859,000.00  \n",
       "IIFL.BO        25,372,270,000.00    113,800,000.00  \n",
       "INFIBEAM.BO    11,590,680,000.00  6,691,980,000.00  \n",
       "HEG.BO         65,928,252,000.00 11,147,828,000.00  \n",
       "FMGOETZE.BO    13,418,299,000.00  4,238,176,000.00  \n",
       "GNFC.BO        58,960,200,000.00 39,272,800,000.00  \n",
       "DELTACORP.BO    7,978,100,000.00  2,652,800,000.00  \n",
       "DIAMONDYD.BO   11,706,096,000.00  8,301,587,000.00  \n",
       "ITDC.BO         3,559,487,000.00  1,846,843,000.00  \n",
       "UNICHEMLAB.BO  11,800,468,000.00  4,888,159,000.00  \n",
       "NOCIL.BO       10,429,000,000.00  4,801,600,000.00  \n",
       "PRAJIND.BO     11,411,120,000.00  7,768,528,000.00  \n",
       "TVTODAY.BO      7,422,417,000.00  3,002,415,000.00  \n",
       "WONDERLA.BO     2,820,419,000.00    466,344,000.00  \n",
       "ASTEC.BO        4,382,096,000.00  2,822,127,000.00  \n",
       "TANLA.BO       10,039,647,403.00  8,875,669,902.00  \n",
       "PAISALO.BO      2,114,875,000.00      6,346,000.00  \n",
       "FOSECOIND.BO    3,225,239,000.00  1,865,096,000.00  \n",
       "KITEX.BO        6,068,046,000.00  2,525,025,000.00  \n",
       "PRABHAT.BO      2,387,251,000.00  2,257,544,000.00  \n",
       "TTML.BO        12,772,000,000.00  7,718,700,000.00  \n",
       "ADFFOODS.BO     2,314,350,000.00  1,217,555,000.00  \n",
       "GTLINFRA.BO    15,002,100,000.00  8,958,800,000.00  \n",
       "TEJASNET.BO     9,003,200,000.00  4,689,400,000.00  \n",
       "APCL.BO         4,374,700,000.00  2,260,500,000.00  \n",
       "RAMCOSYS.BO     5,422,590,000.00  2,355,210,000.00  \n",
       "TNPETRO.BO     12,453,273,000.00  7,133,008,000.00  \n",
       "IFBAGRO.BO      9,452,151,000.00  6,968,118,000.00  \n",
       "GOLDIAM.BO      4,536,941,000.00  3,283,428,000.00  \n",
       "SASTASUNDR.BO   2,201,091,000.00  2,242,080,000.00  \n",
       "SREINFRA.BO    29,627,700,000.00  5,581,300,000.00  "
      ]
     },
     "execution_count": 8,
     "metadata": {},
     "output_type": "execute_result"
    }
   ],
   "source": [
    "#Checking the null values for 'Inventory' variable\n",
    "df[df['Inventory'].isnull()]"
   ]
  },
  {
   "cell_type": "markdown",
   "metadata": {},
   "source": [
    "Here we can see that the 'Inventory' values are null for the companies"
   ]
  },
  {
   "cell_type": "code",
   "execution_count": 21,
   "metadata": {},
   "outputs": [],
   "source": [
    "df.drop(df[df['Inventory'].isnull()].index,inplace=True)"
   ]
  },
  {
   "cell_type": "markdown",
   "metadata": {},
   "source": [
    "As,it is possible in certain scenarios wherein a company may not have any inventory, we can impute its missing values with 0.\n",
    "However,doing so might affect corresponding values of derived ratio:'Inventory Turnover Ratio' to have values above infinity.\n",
    "Hence,we will remove these missing records"
   ]
  },
  {
   "cell_type": "code",
   "execution_count": 22,
   "metadata": {
    "scrolled": true
   },
   "outputs": [
    {
     "data": {
      "text/html": [
       "<div>\n",
       "<style scoped>\n",
       "    .dataframe tbody tr th:only-of-type {\n",
       "        vertical-align: middle;\n",
       "    }\n",
       "\n",
       "    .dataframe tbody tr th {\n",
       "        vertical-align: top;\n",
       "    }\n",
       "\n",
       "    .dataframe thead th {\n",
       "        text-align: right;\n",
       "    }\n",
       "</style>\n",
       "<table border=\"1\" class=\"dataframe\">\n",
       "  <thead>\n",
       "    <tr style=\"text-align: right;\">\n",
       "      <th></th>\n",
       "      <th>Total Liab</th>\n",
       "      <th>Total Stockholder Equity</th>\n",
       "      <th>Total Assets</th>\n",
       "      <th>Total Current Liabilities</th>\n",
       "      <th>Total Current Assets</th>\n",
       "      <th>Long Term Debt</th>\n",
       "      <th>Inventory</th>\n",
       "      <th>Net Income</th>\n",
       "      <th>Gross Profit</th>\n",
       "      <th>Ebit</th>\n",
       "      <th>Total Revenue</th>\n",
       "      <th>Cost Of Revenue</th>\n",
       "      <th>Current Ratio</th>\n",
       "      <th>Debt to Equity Ratio</th>\n",
       "      <th>ROI</th>\n",
       "      <th>ROA</th>\n",
       "      <th>Inventory Turnover Ratio</th>\n",
       "      <th>Net Profit Margin</th>\n",
       "      <th>Total Expenses</th>\n",
       "      <th>In_stress</th>\n",
       "    </tr>\n",
       "    <tr>\n",
       "      <th>Company</th>\n",
       "      <th></th>\n",
       "      <th></th>\n",
       "      <th></th>\n",
       "      <th></th>\n",
       "      <th></th>\n",
       "      <th></th>\n",
       "      <th></th>\n",
       "      <th></th>\n",
       "      <th></th>\n",
       "      <th></th>\n",
       "      <th></th>\n",
       "      <th></th>\n",
       "      <th></th>\n",
       "      <th></th>\n",
       "      <th></th>\n",
       "      <th></th>\n",
       "      <th></th>\n",
       "      <th></th>\n",
       "      <th></th>\n",
       "      <th></th>\n",
       "    </tr>\n",
       "  </thead>\n",
       "  <tbody>\n",
       "    <tr>\n",
       "      <th>RATNAMANI.BO</th>\n",
       "      <td>5,303,719,000.00</td>\n",
       "      <td>15,227,509,000.00</td>\n",
       "      <td>20,531,228,000.00</td>\n",
       "      <td>4,871,533,000.00</td>\n",
       "      <td>14,182,943,000.00</td>\n",
       "      <td>NaN</td>\n",
       "      <td>5,900,293,000.00</td>\n",
       "      <td>2,529,189,000.00</td>\n",
       "      <td>8,405,020,000.00</td>\n",
       "      <td>3,441,138,000.00</td>\n",
       "      <td>27,549,032,000.00</td>\n",
       "      <td>19,144,012,000.00</td>\n",
       "      <td>2.91</td>\n",
       "      <td>0.35</td>\n",
       "      <td>NaN</td>\n",
       "      <td>0.12</td>\n",
       "      <td>3.24</td>\n",
       "      <td>0.31</td>\n",
       "      <td>25,019,843,000.00</td>\n",
       "      <td>0</td>\n",
       "    </tr>\n",
       "    <tr>\n",
       "      <th>RESPONIND.BO</th>\n",
       "      <td>1,693,290,000.00</td>\n",
       "      <td>9,221,640,000.00</td>\n",
       "      <td>12,508,490,000.00</td>\n",
       "      <td>1,378,280,000.00</td>\n",
       "      <td>2,893,640,000.00</td>\n",
       "      <td>NaN</td>\n",
       "      <td>768,170,000.00</td>\n",
       "      <td>287,040,000.00</td>\n",
       "      <td>2,244,020,000.00</td>\n",
       "      <td>338,680,000.00</td>\n",
       "      <td>7,750,380,000.00</td>\n",
       "      <td>5,506,360,000.00</td>\n",
       "      <td>2.10</td>\n",
       "      <td>0.18</td>\n",
       "      <td>NaN</td>\n",
       "      <td>0.02</td>\n",
       "      <td>7.17</td>\n",
       "      <td>0.29</td>\n",
       "      <td>7,463,340,000.00</td>\n",
       "      <td>0</td>\n",
       "    </tr>\n",
       "    <tr>\n",
       "      <th>MMTC.BO</th>\n",
       "      <td>31,110,900,000.00</td>\n",
       "      <td>12,687,300,000.00</td>\n",
       "      <td>43,798,200,000.00</td>\n",
       "      <td>29,225,400,000.00</td>\n",
       "      <td>38,785,900,000.00</td>\n",
       "      <td>NaN</td>\n",
       "      <td>2,799,100,000.00</td>\n",
       "      <td>1,087,200,000.00</td>\n",
       "      <td>13,734,300,000.00</td>\n",
       "      <td>1,859,000,000.00</td>\n",
       "      <td>294,396,900,000.00</td>\n",
       "      <td>280,662,600,000.00</td>\n",
       "      <td>1.33</td>\n",
       "      <td>2.45</td>\n",
       "      <td>NaN</td>\n",
       "      <td>0.02</td>\n",
       "      <td>100.27</td>\n",
       "      <td>0.05</td>\n",
       "      <td>293,309,700,000.00</td>\n",
       "      <td>0</td>\n",
       "    </tr>\n",
       "    <tr>\n",
       "      <th>ATFL.BO</th>\n",
       "      <td>931,420,000.00</td>\n",
       "      <td>3,763,900,000.00</td>\n",
       "      <td>4,695,320,000.00</td>\n",
       "      <td>782,460,000.00</td>\n",
       "      <td>2,351,400,000.00</td>\n",
       "      <td>NaN</td>\n",
       "      <td>840,250,000.00</td>\n",
       "      <td>342,540,000.00</td>\n",
       "      <td>2,586,760,000.00</td>\n",
       "      <td>477,270,000.00</td>\n",
       "      <td>8,236,610,000.00</td>\n",
       "      <td>5,649,850,000.00</td>\n",
       "      <td>3.01</td>\n",
       "      <td>0.25</td>\n",
       "      <td>NaN</td>\n",
       "      <td>0.07</td>\n",
       "      <td>6.72</td>\n",
       "      <td>0.31</td>\n",
       "      <td>7,894,070,000.00</td>\n",
       "      <td>0</td>\n",
       "    </tr>\n",
       "    <tr>\n",
       "      <th>JAICORPLTD.BO</th>\n",
       "      <td>4,079,301,000.00</td>\n",
       "      <td>10,341,067,000.00</td>\n",
       "      <td>17,062,876,000.00</td>\n",
       "      <td>3,813,402,000.00</td>\n",
       "      <td>5,090,606,000.00</td>\n",
       "      <td>NaN</td>\n",
       "      <td>2,200,356,000.00</td>\n",
       "      <td>-1,081,006,000.00</td>\n",
       "      <td>2,433,335,000.00</td>\n",
       "      <td>860,516,000.00</td>\n",
       "      <td>6,605,232,000.00</td>\n",
       "      <td>4,171,897,000.00</td>\n",
       "      <td>1.33</td>\n",
       "      <td>0.39</td>\n",
       "      <td>NaN</td>\n",
       "      <td>-0.06</td>\n",
       "      <td>1.90</td>\n",
       "      <td>0.37</td>\n",
       "      <td>7,686,238,000.00</td>\n",
       "      <td>1</td>\n",
       "    </tr>\n",
       "    <tr>\n",
       "      <th>ORIENTHOT.BO</th>\n",
       "      <td>3,180,984,000.00</td>\n",
       "      <td>5,338,073,000.00</td>\n",
       "      <td>8,519,057,000.00</td>\n",
       "      <td>3,089,409,000.00</td>\n",
       "      <td>1,378,895,000.00</td>\n",
       "      <td>NaN</td>\n",
       "      <td>71,755,000.00</td>\n",
       "      <td>915,852,000.00</td>\n",
       "      <td>1,966,389,000.00</td>\n",
       "      <td>230,657,000.00</td>\n",
       "      <td>3,467,858,000.00</td>\n",
       "      <td>1,501,469,000.00</td>\n",
       "      <td>0.45</td>\n",
       "      <td>0.60</td>\n",
       "      <td>NaN</td>\n",
       "      <td>0.11</td>\n",
       "      <td>20.92</td>\n",
       "      <td>0.57</td>\n",
       "      <td>2,552,006,000.00</td>\n",
       "      <td>0</td>\n",
       "    </tr>\n",
       "    <tr>\n",
       "      <th>STCINDIA.BO</th>\n",
       "      <td>73,209,800,000.00</td>\n",
       "      <td>-45,132,600,000.00</td>\n",
       "      <td>28,077,200,000.00</td>\n",
       "      <td>61,751,100,000.00</td>\n",
       "      <td>8,156,200,000.00</td>\n",
       "      <td>NaN</td>\n",
       "      <td>1,600,000.00</td>\n",
       "      <td>-8,830,200,000.00</td>\n",
       "      <td>7,058,100,000.00</td>\n",
       "      <td>-757,700,000.00</td>\n",
       "      <td>89,034,400,000.00</td>\n",
       "      <td>81,976,300,000.00</td>\n",
       "      <td>0.13</td>\n",
       "      <td>-1.62</td>\n",
       "      <td>NaN</td>\n",
       "      <td>-0.31</td>\n",
       "      <td>51,235.19</td>\n",
       "      <td>0.08</td>\n",
       "      <td>97,864,600,000.00</td>\n",
       "      <td>1</td>\n",
       "    </tr>\n",
       "    <tr>\n",
       "      <th>RCOM.BO</th>\n",
       "      <td>714,160,000,000.00</td>\n",
       "      <td>-41,800,000,000.00</td>\n",
       "      <td>675,580,000,000.00</td>\n",
       "      <td>668,910,000,000.00</td>\n",
       "      <td>439,590,000,000.00</td>\n",
       "      <td>NaN</td>\n",
       "      <td>630,000,000.00</td>\n",
       "      <td>-72,060,000,000.00</td>\n",
       "      <td>15,160,000,000.00</td>\n",
       "      <td>-2,630,000,000.00</td>\n",
       "      <td>41,910,000,000.00</td>\n",
       "      <td>26,750,000,000.00</td>\n",
       "      <td>0.66</td>\n",
       "      <td>-17.09</td>\n",
       "      <td>NaN</td>\n",
       "      <td>-0.11</td>\n",
       "      <td>42.46</td>\n",
       "      <td>0.36</td>\n",
       "      <td>113,970,000,000.00</td>\n",
       "      <td>1</td>\n",
       "    </tr>\n",
       "    <tr>\n",
       "      <th>GALLANTT.BO</th>\n",
       "      <td>827,074,000.00</td>\n",
       "      <td>6,350,702,000.00</td>\n",
       "      <td>7,177,776,000.00</td>\n",
       "      <td>817,127,000.00</td>\n",
       "      <td>1,631,724,000.00</td>\n",
       "      <td>NaN</td>\n",
       "      <td>1,107,250,000.00</td>\n",
       "      <td>1,043,419,000.00</td>\n",
       "      <td>2,649,758,000.00</td>\n",
       "      <td>1,122,304,000.00</td>\n",
       "      <td>10,637,853,000.00</td>\n",
       "      <td>7,988,095,000.00</td>\n",
       "      <td>2.00</td>\n",
       "      <td>0.13</td>\n",
       "      <td>NaN</td>\n",
       "      <td>0.15</td>\n",
       "      <td>7.21</td>\n",
       "      <td>0.25</td>\n",
       "      <td>9,594,434,000.00</td>\n",
       "      <td>0</td>\n",
       "    </tr>\n",
       "  </tbody>\n",
       "</table>\n",
       "</div>"
      ],
      "text/plain": [
       "                      Total Liab  Total Stockholder Equity       Total Assets  \\\n",
       "Company                                                                         \n",
       "RATNAMANI.BO    5,303,719,000.00         15,227,509,000.00  20,531,228,000.00   \n",
       "RESPONIND.BO    1,693,290,000.00          9,221,640,000.00  12,508,490,000.00   \n",
       "MMTC.BO        31,110,900,000.00         12,687,300,000.00  43,798,200,000.00   \n",
       "ATFL.BO           931,420,000.00          3,763,900,000.00   4,695,320,000.00   \n",
       "JAICORPLTD.BO   4,079,301,000.00         10,341,067,000.00  17,062,876,000.00   \n",
       "ORIENTHOT.BO    3,180,984,000.00          5,338,073,000.00   8,519,057,000.00   \n",
       "STCINDIA.BO    73,209,800,000.00        -45,132,600,000.00  28,077,200,000.00   \n",
       "RCOM.BO       714,160,000,000.00        -41,800,000,000.00 675,580,000,000.00   \n",
       "GALLANTT.BO       827,074,000.00          6,350,702,000.00   7,177,776,000.00   \n",
       "\n",
       "               Total Current Liabilities  Total Current Assets  \\\n",
       "Company                                                          \n",
       "RATNAMANI.BO            4,871,533,000.00     14,182,943,000.00   \n",
       "RESPONIND.BO            1,378,280,000.00      2,893,640,000.00   \n",
       "MMTC.BO                29,225,400,000.00     38,785,900,000.00   \n",
       "ATFL.BO                   782,460,000.00      2,351,400,000.00   \n",
       "JAICORPLTD.BO           3,813,402,000.00      5,090,606,000.00   \n",
       "ORIENTHOT.BO            3,089,409,000.00      1,378,895,000.00   \n",
       "STCINDIA.BO            61,751,100,000.00      8,156,200,000.00   \n",
       "RCOM.BO               668,910,000,000.00    439,590,000,000.00   \n",
       "GALLANTT.BO               817,127,000.00      1,631,724,000.00   \n",
       "\n",
       "               Long Term Debt        Inventory         Net Income  \\\n",
       "Company                                                             \n",
       "RATNAMANI.BO              NaN 5,900,293,000.00   2,529,189,000.00   \n",
       "RESPONIND.BO              NaN   768,170,000.00     287,040,000.00   \n",
       "MMTC.BO                   NaN 2,799,100,000.00   1,087,200,000.00   \n",
       "ATFL.BO                   NaN   840,250,000.00     342,540,000.00   \n",
       "JAICORPLTD.BO             NaN 2,200,356,000.00  -1,081,006,000.00   \n",
       "ORIENTHOT.BO              NaN    71,755,000.00     915,852,000.00   \n",
       "STCINDIA.BO               NaN     1,600,000.00  -8,830,200,000.00   \n",
       "RCOM.BO                   NaN   630,000,000.00 -72,060,000,000.00   \n",
       "GALLANTT.BO               NaN 1,107,250,000.00   1,043,419,000.00   \n",
       "\n",
       "                   Gross Profit              Ebit      Total Revenue  \\\n",
       "Company                                                                \n",
       "RATNAMANI.BO   8,405,020,000.00  3,441,138,000.00  27,549,032,000.00   \n",
       "RESPONIND.BO   2,244,020,000.00    338,680,000.00   7,750,380,000.00   \n",
       "MMTC.BO       13,734,300,000.00  1,859,000,000.00 294,396,900,000.00   \n",
       "ATFL.BO        2,586,760,000.00    477,270,000.00   8,236,610,000.00   \n",
       "JAICORPLTD.BO  2,433,335,000.00    860,516,000.00   6,605,232,000.00   \n",
       "ORIENTHOT.BO   1,966,389,000.00    230,657,000.00   3,467,858,000.00   \n",
       "STCINDIA.BO    7,058,100,000.00   -757,700,000.00  89,034,400,000.00   \n",
       "RCOM.BO       15,160,000,000.00 -2,630,000,000.00  41,910,000,000.00   \n",
       "GALLANTT.BO    2,649,758,000.00  1,122,304,000.00  10,637,853,000.00   \n",
       "\n",
       "                 Cost Of Revenue  Current Ratio  Debt to Equity Ratio  ROI  \\\n",
       "Company                                                                      \n",
       "RATNAMANI.BO   19,144,012,000.00           2.91                  0.35  NaN   \n",
       "RESPONIND.BO    5,506,360,000.00           2.10                  0.18  NaN   \n",
       "MMTC.BO       280,662,600,000.00           1.33                  2.45  NaN   \n",
       "ATFL.BO         5,649,850,000.00           3.01                  0.25  NaN   \n",
       "JAICORPLTD.BO   4,171,897,000.00           1.33                  0.39  NaN   \n",
       "ORIENTHOT.BO    1,501,469,000.00           0.45                  0.60  NaN   \n",
       "STCINDIA.BO    81,976,300,000.00           0.13                 -1.62  NaN   \n",
       "RCOM.BO        26,750,000,000.00           0.66                -17.09  NaN   \n",
       "GALLANTT.BO     7,988,095,000.00           2.00                  0.13  NaN   \n",
       "\n",
       "                ROA  Inventory Turnover Ratio  Net Profit Margin  \\\n",
       "Company                                                            \n",
       "RATNAMANI.BO   0.12                      3.24               0.31   \n",
       "RESPONIND.BO   0.02                      7.17               0.29   \n",
       "MMTC.BO        0.02                    100.27               0.05   \n",
       "ATFL.BO        0.07                      6.72               0.31   \n",
       "JAICORPLTD.BO -0.06                      1.90               0.37   \n",
       "ORIENTHOT.BO   0.11                     20.92               0.57   \n",
       "STCINDIA.BO   -0.31                 51,235.19               0.08   \n",
       "RCOM.BO       -0.11                     42.46               0.36   \n",
       "GALLANTT.BO    0.15                      7.21               0.25   \n",
       "\n",
       "                  Total Expenses  In_stress  \n",
       "Company                                      \n",
       "RATNAMANI.BO   25,019,843,000.00          0  \n",
       "RESPONIND.BO    7,463,340,000.00          0  \n",
       "MMTC.BO       293,309,700,000.00          0  \n",
       "ATFL.BO         7,894,070,000.00          0  \n",
       "JAICORPLTD.BO   7,686,238,000.00          1  \n",
       "ORIENTHOT.BO    2,552,006,000.00          0  \n",
       "STCINDIA.BO    97,864,600,000.00          1  \n",
       "RCOM.BO       113,970,000,000.00          1  \n",
       "GALLANTT.BO     9,594,434,000.00          0  "
      ]
     },
     "execution_count": 22,
     "metadata": {},
     "output_type": "execute_result"
    }
   ],
   "source": [
    "#Checking the null values for 'Long Term Debt' variable\n",
    "df[df['Long Term Debt'].isnull()]"
   ]
  },
  {
   "cell_type": "markdown",
   "metadata": {},
   "source": [
    "As we can see the variable 'Long Term Debt' is NaN for the given companies.Hover,after looking into it from an analytical\n",
    "perspective these values can be assumed to be null as a company might be debt free"
   ]
  },
  {
   "cell_type": "code",
   "execution_count": 23,
   "metadata": {},
   "outputs": [],
   "source": [
    "df.fillna(0,inplace=True)"
   ]
  },
  {
   "cell_type": "markdown",
   "metadata": {},
   "source": [
    "# Deriving the necessary financial ratios from the dataset"
   ]
  },
  {
   "cell_type": "markdown",
   "metadata": {},
   "source": [
    "Calculating Current Ratio"
   ]
  },
  {
   "cell_type": "code",
   "execution_count": 8,
   "metadata": {},
   "outputs": [],
   "source": [
    "df['Current Ratio'] = df['Total Current Assets']/df['Total Current Liabilities']"
   ]
  },
  {
   "cell_type": "markdown",
   "metadata": {},
   "source": [
    "Calculating Debt to Equity Ratio"
   ]
  },
  {
   "cell_type": "code",
   "execution_count": 9,
   "metadata": {},
   "outputs": [],
   "source": [
    "df['Debt to Equity Ratio']=df['Total Liab']/df['Total Stockholder Equity']"
   ]
  },
  {
   "cell_type": "markdown",
   "metadata": {},
   "source": [
    "Calculating Return on Investment"
   ]
  },
  {
   "cell_type": "code",
   "execution_count": 10,
   "metadata": {},
   "outputs": [],
   "source": [
    "df['ROI']=df['Ebit']/(df['Total Stockholder Equity']+df['Long Term Debt'])"
   ]
  },
  {
   "cell_type": "markdown",
   "metadata": {},
   "source": [
    "Calculating Return on Assests"
   ]
  },
  {
   "cell_type": "code",
   "execution_count": 11,
   "metadata": {},
   "outputs": [],
   "source": [
    "df['ROA']=df['Net Income']/df['Total Assets']"
   ]
  },
  {
   "cell_type": "markdown",
   "metadata": {},
   "source": [
    "Calculating Inventory Turnover Ratio"
   ]
  },
  {
   "cell_type": "code",
   "execution_count": 12,
   "metadata": {},
   "outputs": [],
   "source": [
    "df['Inventory Turnover Ratio']=(df['Total Revenue']-df['Gross Profit'])/df['Inventory']"
   ]
  },
  {
   "cell_type": "markdown",
   "metadata": {},
   "source": [
    "Calculating Net Profit Margin"
   ]
  },
  {
   "cell_type": "code",
   "execution_count": 13,
   "metadata": {},
   "outputs": [],
   "source": [
    "df['Net Profit Margin']=df['Gross Profit']/df['Total Revenue']"
   ]
  },
  {
   "cell_type": "markdown",
   "metadata": {},
   "source": [
    "Calculating the Total Expenses"
   ]
  },
  {
   "cell_type": "code",
   "execution_count": 14,
   "metadata": {},
   "outputs": [],
   "source": [
    "df['Total Expenses']=df['Total Revenue']-df['Net Income']"
   ]
  },
  {
   "cell_type": "markdown",
   "metadata": {},
   "source": [
    "Calculating the Company-in-stress ratio"
   ]
  },
  {
   "cell_type": "code",
   "execution_count": 15,
   "metadata": {},
   "outputs": [],
   "source": [
    "df['In_stress']=df['Total Revenue']/df['Total Expenses']"
   ]
  },
  {
   "cell_type": "code",
   "execution_count": 16,
   "metadata": {},
   "outputs": [],
   "source": [
    "df['In_stress']=(df['In_stress']<1)"
   ]
  },
  {
   "cell_type": "code",
   "execution_count": 17,
   "metadata": {},
   "outputs": [],
   "source": [
    "df['In_stress']=df['In_stress'].replace({False:0,True:1})"
   ]
  },
  {
   "cell_type": "code",
   "execution_count": 18,
   "metadata": {},
   "outputs": [
    {
     "data": {
      "text/plain": [
       "0    545\n",
       "1     87\n",
       "Name: In_stress, dtype: int64"
      ]
     },
     "execution_count": 18,
     "metadata": {},
     "output_type": "execute_result"
    }
   ],
   "source": [
    "df['In_stress'].value_counts()"
   ]
  },
  {
   "cell_type": "code",
   "execution_count": 19,
   "metadata": {},
   "outputs": [
    {
     "data": {
      "text/plain": [
       "0   0.86\n",
       "1   0.14\n",
       "Name: In_stress, dtype: float64"
      ]
     },
     "execution_count": 19,
     "metadata": {},
     "output_type": "execute_result"
    }
   ],
   "source": [
    "df['In_stress'].value_counts()/len(df)"
   ]
  },
  {
   "cell_type": "code",
   "execution_count": 507,
   "metadata": {
    "scrolled": true
   },
   "outputs": [
    {
     "data": {
      "text/html": [
       "<div>\n",
       "<style scoped>\n",
       "    .dataframe tbody tr th:only-of-type {\n",
       "        vertical-align: middle;\n",
       "    }\n",
       "\n",
       "    .dataframe tbody tr th {\n",
       "        vertical-align: top;\n",
       "    }\n",
       "\n",
       "    .dataframe thead th {\n",
       "        text-align: right;\n",
       "    }\n",
       "</style>\n",
       "<table border=\"1\" class=\"dataframe\">\n",
       "  <thead>\n",
       "    <tr style=\"text-align: right;\">\n",
       "      <th></th>\n",
       "      <th>Total Liab</th>\n",
       "      <th>Total Stockholder Equity</th>\n",
       "      <th>Total Assets</th>\n",
       "      <th>Total Current Liabilities</th>\n",
       "      <th>Total Current Assets</th>\n",
       "      <th>Long Term Debt</th>\n",
       "      <th>Inventory</th>\n",
       "      <th>Net Income</th>\n",
       "      <th>Gross Profit</th>\n",
       "      <th>Ebit</th>\n",
       "      <th>Total Revenue</th>\n",
       "      <th>Cost Of Revenue</th>\n",
       "      <th>Current Ratio</th>\n",
       "      <th>Debt to Equity Ratio</th>\n",
       "      <th>ROI</th>\n",
       "      <th>ROA</th>\n",
       "      <th>Inventory Turnover Ratio</th>\n",
       "      <th>Net Profit Margin</th>\n",
       "      <th>Total Expenses</th>\n",
       "      <th>In_stress</th>\n",
       "    </tr>\n",
       "    <tr>\n",
       "      <th>Company</th>\n",
       "      <th></th>\n",
       "      <th></th>\n",
       "      <th></th>\n",
       "      <th></th>\n",
       "      <th></th>\n",
       "      <th></th>\n",
       "      <th></th>\n",
       "      <th></th>\n",
       "      <th></th>\n",
       "      <th></th>\n",
       "      <th></th>\n",
       "      <th></th>\n",
       "      <th></th>\n",
       "      <th></th>\n",
       "      <th></th>\n",
       "      <th></th>\n",
       "      <th></th>\n",
       "      <th></th>\n",
       "      <th></th>\n",
       "      <th></th>\n",
       "    </tr>\n",
       "  </thead>\n",
       "  <tbody>\n",
       "    <tr>\n",
       "      <th>RELIANCE.BO</th>\n",
       "      <td>3.39</td>\n",
       "      <td>15.70</td>\n",
       "      <td>5.16</td>\n",
       "      <td>2.17</td>\n",
       "      <td>8.98</td>\n",
       "      <td>7.92</td>\n",
       "      <td>12.03</td>\n",
       "      <td>12.43</td>\n",
       "      <td>12.23</td>\n",
       "      <td>14.57</td>\n",
       "      <td>12.42</td>\n",
       "      <td>11.41</td>\n",
       "      <td>-0.58</td>\n",
       "      <td>-0.00</td>\n",
       "      <td>-0.22</td>\n",
       "      <td>-0.14</td>\n",
       "      <td>-0.10</td>\n",
       "      <td>-0.63</td>\n",
       "      <td>12.04</td>\n",
       "      <td>0</td>\n",
       "    </tr>\n",
       "    <tr>\n",
       "      <th>BHARTIARTL.BO</th>\n",
       "      <td>0.96</td>\n",
       "      <td>2.68</td>\n",
       "      <td>1.29</td>\n",
       "      <td>0.54</td>\n",
       "      <td>1.03</td>\n",
       "      <td>3.02</td>\n",
       "      <td>-0.25</td>\n",
       "      <td>-0.02</td>\n",
       "      <td>2.51</td>\n",
       "      <td>0.84</td>\n",
       "      <td>1.55</td>\n",
       "      <td>1.03</td>\n",
       "      <td>-0.84</td>\n",
       "      <td>0.10</td>\n",
       "      <td>-0.70</td>\n",
       "      <td>-0.64</td>\n",
       "      <td>0.04</td>\n",
       "      <td>0.20</td>\n",
       "      <td>1.62</td>\n",
       "      <td>0</td>\n",
       "    </tr>\n",
       "    <tr>\n",
       "      <th>ITC.BO</th>\n",
       "      <td>-0.08</td>\n",
       "      <td>2.17</td>\n",
       "      <td>0.21</td>\n",
       "      <td>-0.06</td>\n",
       "      <td>0.99</td>\n",
       "      <td>-0.22</td>\n",
       "      <td>1.18</td>\n",
       "      <td>3.85</td>\n",
       "      <td>1.91</td>\n",
       "      <td>3.68</td>\n",
       "      <td>0.82</td>\n",
       "      <td>0.31</td>\n",
       "      <td>1.04</td>\n",
       "      <td>-0.12</td>\n",
       "      <td>0.91</td>\n",
       "      <td>1.66</td>\n",
       "      <td>-0.10</td>\n",
       "      <td>0.93</td>\n",
       "      <td>0.58</td>\n",
       "      <td>0</td>\n",
       "    </tr>\n",
       "    <tr>\n",
       "      <th>ICICIBANK.BO</th>\n",
       "      <td>6.37</td>\n",
       "      <td>4.45</td>\n",
       "      <td>6.41</td>\n",
       "      <td>5.15</td>\n",
       "      <td>4.11</td>\n",
       "      <td>7.95</td>\n",
       "      <td>-0.08</td>\n",
       "      <td>1.20</td>\n",
       "      <td>4.92</td>\n",
       "      <td>-0.25</td>\n",
       "      <td>1.34</td>\n",
       "      <td>-0.22</td>\n",
       "      <td>-0.97</td>\n",
       "      <td>0.74</td>\n",
       "      <td>-0.89</td>\n",
       "      <td>-0.61</td>\n",
       "      <td>-0.10</td>\n",
       "      <td>2.74</td>\n",
       "      <td>1.31</td>\n",
       "      <td>0</td>\n",
       "    </tr>\n",
       "    <tr>\n",
       "      <th>SBIN.BO</th>\n",
       "      <td>21.13</td>\n",
       "      <td>9.41</td>\n",
       "      <td>20.50</td>\n",
       "      <td>21.60</td>\n",
       "      <td>16.38</td>\n",
       "      <td>16.00</td>\n",
       "      <td>-0.26</td>\n",
       "      <td>0.58</td>\n",
       "      <td>8.28</td>\n",
       "      <td>-0.25</td>\n",
       "      <td>2.37</td>\n",
       "      <td>-0.22</td>\n",
       "      <td>-0.98</td>\n",
       "      <td>1.26</td>\n",
       "      <td>-0.89</td>\n",
       "      <td>-0.65</td>\n",
       "      <td>-0.10</td>\n",
       "      <td>2.74</td>\n",
       "      <td>2.43</td>\n",
       "      <td>0</td>\n",
       "    </tr>\n",
       "    <tr>\n",
       "      <th>ASIANPAINT.BO</th>\n",
       "      <td>-0.11</td>\n",
       "      <td>0.12</td>\n",
       "      <td>-0.09</td>\n",
       "      <td>-0.09</td>\n",
       "      <td>0.02</td>\n",
       "      <td>-0.22</td>\n",
       "      <td>0.31</td>\n",
       "      <td>0.53</td>\n",
       "      <td>0.27</td>\n",
       "      <td>0.47</td>\n",
       "      <td>0.17</td>\n",
       "      <td>0.12</td>\n",
       "      <td>-0.09</td>\n",
       "      <td>-0.08</td>\n",
       "      <td>1.18</td>\n",
       "      <td>1.09</td>\n",
       "      <td>-0.10</td>\n",
       "      <td>-0.14</td>\n",
       "      <td>0.14</td>\n",
       "      <td>0</td>\n",
       "    </tr>\n",
       "    <tr>\n",
       "      <th>DMART.BO</th>\n",
       "      <td>-0.14</td>\n",
       "      <td>-0.04</td>\n",
       "      <td>-0.14</td>\n",
       "      <td>-0.12</td>\n",
       "      <td>-0.20</td>\n",
       "      <td>-0.15</td>\n",
       "      <td>-0.24</td>\n",
       "      <td>0.13</td>\n",
       "      <td>-0.08</td>\n",
       "      <td>0.08</td>\n",
       "      <td>0.19</td>\n",
       "      <td>0.28</td>\n",
       "      <td>0.06</td>\n",
       "      <td>-0.12</td>\n",
       "      <td>0.34</td>\n",
       "      <td>1.04</td>\n",
       "      <td>-0.06</td>\n",
       "      <td>-1.39</td>\n",
       "      <td>0.19</td>\n",
       "      <td>0</td>\n",
       "    </tr>\n",
       "    <tr>\n",
       "      <th>MARUTI.BO</th>\n",
       "      <td>-0.05</td>\n",
       "      <td>1.67</td>\n",
       "      <td>0.17</td>\n",
       "      <td>-0.03</td>\n",
       "      <td>0.21</td>\n",
       "      <td>-0.22</td>\n",
       "      <td>0.34</td>\n",
       "      <td>2.28</td>\n",
       "      <td>1.59</td>\n",
       "      <td>1.64</td>\n",
       "      <td>1.66</td>\n",
       "      <td>1.55</td>\n",
       "      <td>-0.49</td>\n",
       "      <td>-0.11</td>\n",
       "      <td>0.19</td>\n",
       "      <td>0.92</td>\n",
       "      <td>-0.09</td>\n",
       "      <td>-0.64</td>\n",
       "      <td>1.57</td>\n",
       "      <td>0</td>\n",
       "    </tr>\n",
       "    <tr>\n",
       "      <th>HCLTECH.BO</th>\n",
       "      <td>-0.15</td>\n",
       "      <td>-0.24</td>\n",
       "      <td>-0.17</td>\n",
       "      <td>-0.13</td>\n",
       "      <td>-0.26</td>\n",
       "      <td>-0.22</td>\n",
       "      <td>-0.27</td>\n",
       "      <td>-0.11</td>\n",
       "      <td>-0.27</td>\n",
       "      <td>-0.21</td>\n",
       "      <td>-0.23</td>\n",
       "      <td>-0.20</td>\n",
       "      <td>0.54</td>\n",
       "      <td>-0.11</td>\n",
       "      <td>0.74</td>\n",
       "      <td>1.57</td>\n",
       "      <td>0.02</td>\n",
       "      <td>-0.33</td>\n",
       "      <td>-0.24</td>\n",
       "      <td>0</td>\n",
       "    </tr>\n",
       "    <tr>\n",
       "      <th>LT.BO</th>\n",
       "      <td>1.07</td>\n",
       "      <td>2.31</td>\n",
       "      <td>1.31</td>\n",
       "      <td>0.84</td>\n",
       "      <td>6.37</td>\n",
       "      <td>2.69</td>\n",
       "      <td>0.90</td>\n",
       "      <td>2.68</td>\n",
       "      <td>2.68</td>\n",
       "      <td>3.29</td>\n",
       "      <td>2.80</td>\n",
       "      <td>2.60</td>\n",
       "      <td>-0.24</td>\n",
       "      <td>0.16</td>\n",
       "      <td>-0.19</td>\n",
       "      <td>-0.23</td>\n",
       "      <td>-0.09</td>\n",
       "      <td>-0.65</td>\n",
       "      <td>2.72</td>\n",
       "      <td>0</td>\n",
       "    </tr>\n",
       "    <tr>\n",
       "      <th>WIPRO.BO</th>\n",
       "      <td>0.00</td>\n",
       "      <td>2.08</td>\n",
       "      <td>0.27</td>\n",
       "      <td>0.02</td>\n",
       "      <td>2.00</td>\n",
       "      <td>-0.11</td>\n",
       "      <td>-0.20</td>\n",
       "      <td>2.71</td>\n",
       "      <td>0.98</td>\n",
       "      <td>2.04</td>\n",
       "      <td>1.05</td>\n",
       "      <td>0.99</td>\n",
       "      <td>0.70</td>\n",
       "      <td>-0.10</td>\n",
       "      <td>0.15</td>\n",
       "      <td>0.77</td>\n",
       "      <td>-0.07</td>\n",
       "      <td>-0.66</td>\n",
       "      <td>0.90</td>\n",
       "      <td>0</td>\n",
       "    </tr>\n",
       "    <tr>\n",
       "      <th>AXISBANK.BO</th>\n",
       "      <td>4.20</td>\n",
       "      <td>2.53</td>\n",
       "      <td>4.16</td>\n",
       "      <td>3.92</td>\n",
       "      <td>3.91</td>\n",
       "      <td>6.10</td>\n",
       "      <td>-0.27</td>\n",
       "      <td>1.45</td>\n",
       "      <td>1.29</td>\n",
       "      <td>-0.25</td>\n",
       "      <td>0.23</td>\n",
       "      <td>-0.22</td>\n",
       "      <td>-0.95</td>\n",
       "      <td>0.85</td>\n",
       "      <td>-0.89</td>\n",
       "      <td>-0.57</td>\n",
       "      <td>-0.10</td>\n",
       "      <td>2.74</td>\n",
       "      <td>0.13</td>\n",
       "      <td>0</td>\n",
       "    </tr>\n",
       "    <tr>\n",
       "      <th>ULTRACEMCO.BO</th>\n",
       "      <td>0.10</td>\n",
       "      <td>1.12</td>\n",
       "      <td>0.23</td>\n",
       "      <td>-0.02</td>\n",
       "      <td>0.24</td>\n",
       "      <td>0.59</td>\n",
       "      <td>0.48</td>\n",
       "      <td>0.61</td>\n",
       "      <td>1.48</td>\n",
       "      <td>0.88</td>\n",
       "      <td>0.67</td>\n",
       "      <td>0.29</td>\n",
       "      <td>-0.52</td>\n",
       "      <td>-0.03</td>\n",
       "      <td>-0.33</td>\n",
       "      <td>-0.24</td>\n",
       "      <td>-0.10</td>\n",
       "      <td>0.74</td>\n",
       "      <td>0.66</td>\n",
       "      <td>0</td>\n",
       "    </tr>\n",
       "    <tr>\n",
       "      <th>COALINDIA.BO</th>\n",
       "      <td>0.47</td>\n",
       "      <td>0.82</td>\n",
       "      <td>0.53</td>\n",
       "      <td>0.20</td>\n",
       "      <td>2.50</td>\n",
       "      <td>-0.16</td>\n",
       "      <td>0.75</td>\n",
       "      <td>5.40</td>\n",
       "      <td>5.45</td>\n",
       "      <td>4.73</td>\n",
       "      <td>1.88</td>\n",
       "      <td>0.28</td>\n",
       "      <td>-0.07</td>\n",
       "      <td>0.22</td>\n",
       "      <td>3.96</td>\n",
       "      <td>1.07</td>\n",
       "      <td>-0.10</td>\n",
       "      <td>1.89</td>\n",
       "      <td>1.57</td>\n",
       "      <td>0</td>\n",
       "    </tr>\n",
       "    <tr>\n",
       "      <th>ONGC.BO</th>\n",
       "      <td>1.36</td>\n",
       "      <td>8.68</td>\n",
       "      <td>2.45</td>\n",
       "      <td>0.81</td>\n",
       "      <td>3.20</td>\n",
       "      <td>1.83</td>\n",
       "      <td>6.13</td>\n",
       "      <td>9.55</td>\n",
       "      <td>6.87</td>\n",
       "      <td>11.52</td>\n",
       "      <td>9.14</td>\n",
       "      <td>9.24</td>\n",
       "      <td>-0.62</td>\n",
       "      <td>-0.03</td>\n",
       "      <td>0.30</td>\n",
       "      <td>0.16</td>\n",
       "      <td>-0.10</td>\n",
       "      <td>-0.97</td>\n",
       "      <td>8.82</td>\n",
       "      <td>0</td>\n",
       "    </tr>\n",
       "    <tr>\n",
       "      <th>SUNPHARMA.BO</th>\n",
       "      <td>-0.03</td>\n",
       "      <td>1.44</td>\n",
       "      <td>0.17</td>\n",
       "      <td>-0.00</td>\n",
       "      <td>0.96</td>\n",
       "      <td>-0.16</td>\n",
       "      <td>1.17</td>\n",
       "      <td>0.69</td>\n",
       "      <td>1.21</td>\n",
       "      <td>0.84</td>\n",
       "      <td>0.39</td>\n",
       "      <td>0.03</td>\n",
       "      <td>0.12</td>\n",
       "      <td>-0.10</td>\n",
       "      <td>-0.20</td>\n",
       "      <td>-0.11</td>\n",
       "      <td>-0.10</td>\n",
       "      <td>1.35</td>\n",
       "      <td>0.36</td>\n",
       "      <td>0</td>\n",
       "    </tr>\n",
       "    <tr>\n",
       "      <th>NTPC.BO</th>\n",
       "      <td>1.21</td>\n",
       "      <td>4.33</td>\n",
       "      <td>1.67</td>\n",
       "      <td>0.41</td>\n",
       "      <td>1.64</td>\n",
       "      <td>5.54</td>\n",
       "      <td>1.23</td>\n",
       "      <td>4.21</td>\n",
       "      <td>2.66</td>\n",
       "      <td>3.94</td>\n",
       "      <td>1.98</td>\n",
       "      <td>1.53</td>\n",
       "      <td>-0.64</td>\n",
       "      <td>0.05</td>\n",
       "      <td>-0.45</td>\n",
       "      <td>-0.13</td>\n",
       "      <td>-0.10</td>\n",
       "      <td>-0.14</td>\n",
       "      <td>1.76</td>\n",
       "      <td>0</td>\n",
       "    </tr>\n",
       "    <tr>\n",
       "      <th>POWERGRID.BO</th>\n",
       "      <td>0.95</td>\n",
       "      <td>2.17</td>\n",
       "      <td>1.14</td>\n",
       "      <td>0.11</td>\n",
       "      <td>0.42</td>\n",
       "      <td>5.07</td>\n",
       "      <td>-0.04</td>\n",
       "      <td>3.04</td>\n",
       "      <td>2.20</td>\n",
       "      <td>4.38</td>\n",
       "      <td>0.53</td>\n",
       "      <td>-0.19</td>\n",
       "      <td>-0.71</td>\n",
       "      <td>0.15</td>\n",
       "      <td>-0.24</td>\n",
       "      <td>-0.12</td>\n",
       "      <td>-0.10</td>\n",
       "      <td>2.63</td>\n",
       "      <td>0.33</td>\n",
       "      <td>0</td>\n",
       "    </tr>\n",
       "    <tr>\n",
       "      <th>TITAN.BO</th>\n",
       "      <td>-0.12</td>\n",
       "      <td>-0.02</td>\n",
       "      <td>-0.11</td>\n",
       "      <td>-0.09</td>\n",
       "      <td>0.10</td>\n",
       "      <td>-0.22</td>\n",
       "      <td>1.01</td>\n",
       "      <td>0.29</td>\n",
       "      <td>0.10</td>\n",
       "      <td>0.21</td>\n",
       "      <td>0.19</td>\n",
       "      <td>0.21</td>\n",
       "      <td>0.10</td>\n",
       "      <td>-0.06</td>\n",
       "      <td>1.13</td>\n",
       "      <td>0.92</td>\n",
       "      <td>-0.10</td>\n",
       "      <td>-0.79</td>\n",
       "      <td>0.17</td>\n",
       "      <td>0</td>\n",
       "    </tr>\n",
       "    <tr>\n",
       "      <th>DABUR.BO</th>\n",
       "      <td>-0.13</td>\n",
       "      <td>-0.04</td>\n",
       "      <td>-0.13</td>\n",
       "      <td>-0.11</td>\n",
       "      <td>-0.14</td>\n",
       "      <td>-0.17</td>\n",
       "      <td>-0.26</td>\n",
       "      <td>0.30</td>\n",
       "      <td>0.01</td>\n",
       "      <td>0.11</td>\n",
       "      <td>-0.06</td>\n",
       "      <td>-0.09</td>\n",
       "      <td>-0.17</td>\n",
       "      <td>-0.10</td>\n",
       "      <td>0.52</td>\n",
       "      <td>1.60</td>\n",
       "      <td>-0.05</td>\n",
       "      <td>0.27</td>\n",
       "      <td>-0.09</td>\n",
       "      <td>0</td>\n",
       "    </tr>\n",
       "  </tbody>\n",
       "</table>\n",
       "</div>"
      ],
      "text/plain": [
       "               Total Liab  Total Stockholder Equity  Total Assets  \\\n",
       "Company                                                             \n",
       "RELIANCE.BO          3.39                     15.70          5.16   \n",
       "BHARTIARTL.BO        0.96                      2.68          1.29   \n",
       "ITC.BO              -0.08                      2.17          0.21   \n",
       "ICICIBANK.BO         6.37                      4.45          6.41   \n",
       "SBIN.BO             21.13                      9.41         20.50   \n",
       "ASIANPAINT.BO       -0.11                      0.12         -0.09   \n",
       "DMART.BO            -0.14                     -0.04         -0.14   \n",
       "MARUTI.BO           -0.05                      1.67          0.17   \n",
       "HCLTECH.BO          -0.15                     -0.24         -0.17   \n",
       "LT.BO                1.07                      2.31          1.31   \n",
       "WIPRO.BO             0.00                      2.08          0.27   \n",
       "AXISBANK.BO          4.20                      2.53          4.16   \n",
       "ULTRACEMCO.BO        0.10                      1.12          0.23   \n",
       "COALINDIA.BO         0.47                      0.82          0.53   \n",
       "ONGC.BO              1.36                      8.68          2.45   \n",
       "SUNPHARMA.BO        -0.03                      1.44          0.17   \n",
       "NTPC.BO              1.21                      4.33          1.67   \n",
       "POWERGRID.BO         0.95                      2.17          1.14   \n",
       "TITAN.BO            -0.12                     -0.02         -0.11   \n",
       "DABUR.BO            -0.13                     -0.04         -0.13   \n",
       "\n",
       "               Total Current Liabilities  Total Current Assets  \\\n",
       "Company                                                          \n",
       "RELIANCE.BO                         2.17                  8.98   \n",
       "BHARTIARTL.BO                       0.54                  1.03   \n",
       "ITC.BO                             -0.06                  0.99   \n",
       "ICICIBANK.BO                        5.15                  4.11   \n",
       "SBIN.BO                            21.60                 16.38   \n",
       "ASIANPAINT.BO                      -0.09                  0.02   \n",
       "DMART.BO                           -0.12                 -0.20   \n",
       "MARUTI.BO                          -0.03                  0.21   \n",
       "HCLTECH.BO                         -0.13                 -0.26   \n",
       "LT.BO                               0.84                  6.37   \n",
       "WIPRO.BO                            0.02                  2.00   \n",
       "AXISBANK.BO                         3.92                  3.91   \n",
       "ULTRACEMCO.BO                      -0.02                  0.24   \n",
       "COALINDIA.BO                        0.20                  2.50   \n",
       "ONGC.BO                             0.81                  3.20   \n",
       "SUNPHARMA.BO                       -0.00                  0.96   \n",
       "NTPC.BO                             0.41                  1.64   \n",
       "POWERGRID.BO                        0.11                  0.42   \n",
       "TITAN.BO                           -0.09                  0.10   \n",
       "DABUR.BO                           -0.11                 -0.14   \n",
       "\n",
       "               Long Term Debt  Inventory  Net Income  Gross Profit  Ebit  \\\n",
       "Company                                                                    \n",
       "RELIANCE.BO              7.92      12.03       12.43         12.23 14.57   \n",
       "BHARTIARTL.BO            3.02      -0.25       -0.02          2.51  0.84   \n",
       "ITC.BO                  -0.22       1.18        3.85          1.91  3.68   \n",
       "ICICIBANK.BO             7.95      -0.08        1.20          4.92 -0.25   \n",
       "SBIN.BO                 16.00      -0.26        0.58          8.28 -0.25   \n",
       "ASIANPAINT.BO           -0.22       0.31        0.53          0.27  0.47   \n",
       "DMART.BO                -0.15      -0.24        0.13         -0.08  0.08   \n",
       "MARUTI.BO               -0.22       0.34        2.28          1.59  1.64   \n",
       "HCLTECH.BO              -0.22      -0.27       -0.11         -0.27 -0.21   \n",
       "LT.BO                    2.69       0.90        2.68          2.68  3.29   \n",
       "WIPRO.BO                -0.11      -0.20        2.71          0.98  2.04   \n",
       "AXISBANK.BO              6.10      -0.27        1.45          1.29 -0.25   \n",
       "ULTRACEMCO.BO            0.59       0.48        0.61          1.48  0.88   \n",
       "COALINDIA.BO            -0.16       0.75        5.40          5.45  4.73   \n",
       "ONGC.BO                  1.83       6.13        9.55          6.87 11.52   \n",
       "SUNPHARMA.BO            -0.16       1.17        0.69          1.21  0.84   \n",
       "NTPC.BO                  5.54       1.23        4.21          2.66  3.94   \n",
       "POWERGRID.BO             5.07      -0.04        3.04          2.20  4.38   \n",
       "TITAN.BO                -0.22       1.01        0.29          0.10  0.21   \n",
       "DABUR.BO                -0.17      -0.26        0.30          0.01  0.11   \n",
       "\n",
       "               Total Revenue  Cost Of Revenue  Current Ratio  \\\n",
       "Company                                                        \n",
       "RELIANCE.BO            12.42            11.41          -0.58   \n",
       "BHARTIARTL.BO           1.55             1.03          -0.84   \n",
       "ITC.BO                  0.82             0.31           1.04   \n",
       "ICICIBANK.BO            1.34            -0.22          -0.97   \n",
       "SBIN.BO                 2.37            -0.22          -0.98   \n",
       "ASIANPAINT.BO           0.17             0.12          -0.09   \n",
       "DMART.BO                0.19             0.28           0.06   \n",
       "MARUTI.BO               1.66             1.55          -0.49   \n",
       "HCLTECH.BO             -0.23            -0.20           0.54   \n",
       "LT.BO                   2.80             2.60          -0.24   \n",
       "WIPRO.BO                1.05             0.99           0.70   \n",
       "AXISBANK.BO             0.23            -0.22          -0.95   \n",
       "ULTRACEMCO.BO           0.67             0.29          -0.52   \n",
       "COALINDIA.BO            1.88             0.28          -0.07   \n",
       "ONGC.BO                 9.14             9.24          -0.62   \n",
       "SUNPHARMA.BO            0.39             0.03           0.12   \n",
       "NTPC.BO                 1.98             1.53          -0.64   \n",
       "POWERGRID.BO            0.53            -0.19          -0.71   \n",
       "TITAN.BO                0.19             0.21           0.10   \n",
       "DABUR.BO               -0.06            -0.09          -0.17   \n",
       "\n",
       "               Debt to Equity Ratio   ROI   ROA  Inventory Turnover Ratio  \\\n",
       "Company                                                                     \n",
       "RELIANCE.BO                   -0.00 -0.22 -0.14                     -0.10   \n",
       "BHARTIARTL.BO                  0.10 -0.70 -0.64                      0.04   \n",
       "ITC.BO                        -0.12  0.91  1.66                     -0.10   \n",
       "ICICIBANK.BO                   0.74 -0.89 -0.61                     -0.10   \n",
       "SBIN.BO                        1.26 -0.89 -0.65                     -0.10   \n",
       "ASIANPAINT.BO                 -0.08  1.18  1.09                     -0.10   \n",
       "DMART.BO                      -0.12  0.34  1.04                     -0.06   \n",
       "MARUTI.BO                     -0.11  0.19  0.92                     -0.09   \n",
       "HCLTECH.BO                    -0.11  0.74  1.57                      0.02   \n",
       "LT.BO                          0.16 -0.19 -0.23                     -0.09   \n",
       "WIPRO.BO                      -0.10  0.15  0.77                     -0.07   \n",
       "AXISBANK.BO                    0.85 -0.89 -0.57                     -0.10   \n",
       "ULTRACEMCO.BO                 -0.03 -0.33 -0.24                     -0.10   \n",
       "COALINDIA.BO                   0.22  3.96  1.07                     -0.10   \n",
       "ONGC.BO                       -0.03  0.30  0.16                     -0.10   \n",
       "SUNPHARMA.BO                  -0.10 -0.20 -0.11                     -0.10   \n",
       "NTPC.BO                        0.05 -0.45 -0.13                     -0.10   \n",
       "POWERGRID.BO                   0.15 -0.24 -0.12                     -0.10   \n",
       "TITAN.BO                      -0.06  1.13  0.92                     -0.10   \n",
       "DABUR.BO                      -0.10  0.52  1.60                     -0.05   \n",
       "\n",
       "               Net Profit Margin  Total Expenses  In_stress  \n",
       "Company                                                      \n",
       "RELIANCE.BO                -0.63           12.04          0  \n",
       "BHARTIARTL.BO               0.20            1.62          0  \n",
       "ITC.BO                      0.93            0.58          0  \n",
       "ICICIBANK.BO                2.74            1.31          0  \n",
       "SBIN.BO                     2.74            2.43          0  \n",
       "ASIANPAINT.BO              -0.14            0.14          0  \n",
       "DMART.BO                   -1.39            0.19          0  \n",
       "MARUTI.BO                  -0.64            1.57          0  \n",
       "HCLTECH.BO                 -0.33           -0.24          0  \n",
       "LT.BO                      -0.65            2.72          0  \n",
       "WIPRO.BO                   -0.66            0.90          0  \n",
       "AXISBANK.BO                 2.74            0.13          0  \n",
       "ULTRACEMCO.BO               0.74            0.66          0  \n",
       "COALINDIA.BO                1.89            1.57          0  \n",
       "ONGC.BO                    -0.97            8.82          0  \n",
       "SUNPHARMA.BO                1.35            0.36          0  \n",
       "NTPC.BO                    -0.14            1.76          0  \n",
       "POWERGRID.BO                2.63            0.33          0  \n",
       "TITAN.BO                   -0.79            0.17          0  \n",
       "DABUR.BO                    0.27           -0.09          0  "
      ]
     },
     "execution_count": 507,
     "metadata": {},
     "output_type": "execute_result"
    }
   ],
   "source": [
    "df.head(20)"
   ]
  },
  {
   "cell_type": "code",
   "execution_count": 24,
   "metadata": {},
   "outputs": [
    {
     "data": {
      "text/plain": [
       "0    506\n",
       "1     83\n",
       "Name: In_stress, dtype: int64"
      ]
     },
     "execution_count": 24,
     "metadata": {},
     "output_type": "execute_result"
    }
   ],
   "source": [
    "df['In_stress'].value_counts()"
   ]
  },
  {
   "cell_type": "markdown",
   "metadata": {},
   "source": [
    "# Performing Univariate analysis on the dataset"
   ]
  },
  {
   "cell_type": "code",
   "execution_count": 25,
   "metadata": {
    "scrolled": true
   },
   "outputs": [
    {
     "data": {
      "text/html": [
       "<div>\n",
       "<style scoped>\n",
       "    .dataframe tbody tr th:only-of-type {\n",
       "        vertical-align: middle;\n",
       "    }\n",
       "\n",
       "    .dataframe tbody tr th {\n",
       "        vertical-align: top;\n",
       "    }\n",
       "\n",
       "    .dataframe thead th {\n",
       "        text-align: right;\n",
       "    }\n",
       "</style>\n",
       "<table border=\"1\" class=\"dataframe\">\n",
       "  <thead>\n",
       "    <tr style=\"text-align: right;\">\n",
       "      <th></th>\n",
       "      <th>Total Liab</th>\n",
       "      <th>Total Stockholder Equity</th>\n",
       "      <th>Total Assets</th>\n",
       "      <th>Total Current Liabilities</th>\n",
       "      <th>Total Current Assets</th>\n",
       "      <th>Long Term Debt</th>\n",
       "      <th>Inventory</th>\n",
       "      <th>Net Income</th>\n",
       "      <th>Gross Profit</th>\n",
       "      <th>Ebit</th>\n",
       "      <th>Total Revenue</th>\n",
       "      <th>Cost Of Revenue</th>\n",
       "      <th>Current Ratio</th>\n",
       "      <th>Debt to Equity Ratio</th>\n",
       "      <th>ROI</th>\n",
       "      <th>ROA</th>\n",
       "      <th>Inventory Turnover Ratio</th>\n",
       "      <th>Net Profit Margin</th>\n",
       "      <th>Total Expenses</th>\n",
       "      <th>In_stress</th>\n",
       "    </tr>\n",
       "    <tr>\n",
       "      <th>Company</th>\n",
       "      <th></th>\n",
       "      <th></th>\n",
       "      <th></th>\n",
       "      <th></th>\n",
       "      <th></th>\n",
       "      <th></th>\n",
       "      <th></th>\n",
       "      <th></th>\n",
       "      <th></th>\n",
       "      <th></th>\n",
       "      <th></th>\n",
       "      <th></th>\n",
       "      <th></th>\n",
       "      <th></th>\n",
       "      <th></th>\n",
       "      <th></th>\n",
       "      <th></th>\n",
       "      <th></th>\n",
       "      <th></th>\n",
       "      <th></th>\n",
       "    </tr>\n",
       "  </thead>\n",
       "  <tbody>\n",
       "    <tr>\n",
       "      <th>RELIANCE.BO</th>\n",
       "      <td>6,070,140,000,000.00</td>\n",
       "      <td>3,871,120,000,000.00</td>\n",
       "      <td>10,024,060,000,000.00</td>\n",
       "      <td>3,173,220,000,000.00</td>\n",
       "      <td>2,320,530,000,000.00</td>\n",
       "      <td>2,075,060,000,000.00</td>\n",
       "      <td>675,610,000,000.00</td>\n",
       "      <td>395,880,000,000.00</td>\n",
       "      <td>1,720,530,000,000.00</td>\n",
       "      <td>645,560,000,000.00</td>\n",
       "      <td>5,692,090,000,000.00</td>\n",
       "      <td>3,971,560,000,000.00</td>\n",
       "      <td>0.73</td>\n",
       "      <td>1.57</td>\n",
       "      <td>0.11</td>\n",
       "      <td>0.04</td>\n",
       "      <td>5.88</td>\n",
       "      <td>0.30</td>\n",
       "      <td>5,296,210,000,000.00</td>\n",
       "      <td>0</td>\n",
       "    </tr>\n",
       "    <tr>\n",
       "      <th>BHARTIARTL.BO</th>\n",
       "      <td>1,902,080,000,000.00</td>\n",
       "      <td>714,222,000,000.00</td>\n",
       "      <td>2,751,560,000,000.00</td>\n",
       "      <td>930,134,000,000.00</td>\n",
       "      <td>328,642,000,000.00</td>\n",
       "      <td>824,901,000,000.00</td>\n",
       "      <td>884,000,000.00</td>\n",
       "      <td>4,095,000,000.00</td>\n",
       "      <td>385,199,000,000.00</td>\n",
       "      <td>47,451,000,000.00</td>\n",
       "      <td>811,090,000,000.00</td>\n",
       "      <td>425,891,000,000.00</td>\n",
       "      <td>0.35</td>\n",
       "      <td>2.66</td>\n",
       "      <td>0.03</td>\n",
       "      <td>0.00</td>\n",
       "      <td>481.78</td>\n",
       "      <td>0.47</td>\n",
       "      <td>806,995,000,000.00</td>\n",
       "      <td>0</td>\n",
       "    </tr>\n",
       "    <tr>\n",
       "      <th>ITC.BO</th>\n",
       "      <td>123,140,700,000.00</td>\n",
       "      <td>591,408,700,000.00</td>\n",
       "      <td>717,984,100,000.00</td>\n",
       "      <td>100,119,900,000.00</td>\n",
       "      <td>317,472,700,000.00</td>\n",
       "      <td>81,500,000.00</td>\n",
       "      <td>79,439,700,000.00</td>\n",
       "      <td>125,923,300,000.00</td>\n",
       "      <td>302,820,200,000.00</td>\n",
       "      <td>171,148,000,000.00</td>\n",
       "      <td>483,526,800,000.00</td>\n",
       "      <td>180,706,600,000.00</td>\n",
       "      <td>3.17</td>\n",
       "      <td>0.21</td>\n",
       "      <td>0.29</td>\n",
       "      <td>0.18</td>\n",
       "      <td>2.27</td>\n",
       "      <td>0.63</td>\n",
       "      <td>357,603,500,000.00</td>\n",
       "      <td>0</td>\n",
       "    </tr>\n",
       "    <tr>\n",
       "      <th>ICICIBANK.BO</th>\n",
       "      <td>11,179,599,481,000.00</td>\n",
       "      <td>1,142,534,068,000.00</td>\n",
       "      <td>12,387,938,907,000.00</td>\n",
       "      <td>7,292,903,383,000.00</td>\n",
       "      <td>1,101,087,373,000.00</td>\n",
       "      <td>2,084,145,868,000.00</td>\n",
       "      <td>10,040,166,000.00</td>\n",
       "      <td>42,542,387,000.00</td>\n",
       "      <td>716,671,406,000.00</td>\n",
       "      <td>0.00</td>\n",
       "      <td>716,671,406,000.00</td>\n",
       "      <td>0.00</td>\n",
       "      <td>0.15</td>\n",
       "      <td>9.78</td>\n",
       "      <td>0.00</td>\n",
       "      <td>0.00</td>\n",
       "      <td>0.00</td>\n",
       "      <td>1.00</td>\n",
       "      <td>674,129,019,000.00</td>\n",
       "      <td>0</td>\n",
       "    </tr>\n",
       "    <tr>\n",
       "      <th>SBIN.BO</th>\n",
       "      <td>36,479,315,443,000.00</td>\n",
       "      <td>2,344,956,605,000.00</td>\n",
       "      <td>38,884,641,961,000.00</td>\n",
       "      <td>30,004,424,063,000.00</td>\n",
       "      <td>4,175,283,407,000.00</td>\n",
       "      <td>4,137,476,610,000.00</td>\n",
       "      <td>236,584,000.00</td>\n",
       "      <td>22,996,391,000.00</td>\n",
       "      <td>1,178,693,354,520.00</td>\n",
       "      <td>0.00</td>\n",
       "      <td>1,178,693,354,520.00</td>\n",
       "      <td>0.00</td>\n",
       "      <td>0.14</td>\n",
       "      <td>15.56</td>\n",
       "      <td>0.00</td>\n",
       "      <td>0.00</td>\n",
       "      <td>0.00</td>\n",
       "      <td>1.00</td>\n",
       "      <td>1,155,696,963,520.00</td>\n",
       "      <td>0</td>\n",
       "    </tr>\n",
       "  </tbody>\n",
       "</table>\n",
       "</div>"
      ],
      "text/plain": [
       "                         Total Liab  Total Stockholder Equity  \\\n",
       "Company                                                         \n",
       "RELIANCE.BO    6,070,140,000,000.00      3,871,120,000,000.00   \n",
       "BHARTIARTL.BO  1,902,080,000,000.00        714,222,000,000.00   \n",
       "ITC.BO           123,140,700,000.00        591,408,700,000.00   \n",
       "ICICIBANK.BO  11,179,599,481,000.00      1,142,534,068,000.00   \n",
       "SBIN.BO       36,479,315,443,000.00      2,344,956,605,000.00   \n",
       "\n",
       "                       Total Assets  Total Current Liabilities  \\\n",
       "Company                                                          \n",
       "RELIANCE.BO   10,024,060,000,000.00       3,173,220,000,000.00   \n",
       "BHARTIARTL.BO  2,751,560,000,000.00         930,134,000,000.00   \n",
       "ITC.BO           717,984,100,000.00         100,119,900,000.00   \n",
       "ICICIBANK.BO  12,387,938,907,000.00       7,292,903,383,000.00   \n",
       "SBIN.BO       38,884,641,961,000.00      30,004,424,063,000.00   \n",
       "\n",
       "               Total Current Assets       Long Term Debt          Inventory  \\\n",
       "Company                                                                       \n",
       "RELIANCE.BO    2,320,530,000,000.00 2,075,060,000,000.00 675,610,000,000.00   \n",
       "BHARTIARTL.BO    328,642,000,000.00   824,901,000,000.00     884,000,000.00   \n",
       "ITC.BO           317,472,700,000.00        81,500,000.00  79,439,700,000.00   \n",
       "ICICIBANK.BO   1,101,087,373,000.00 2,084,145,868,000.00  10,040,166,000.00   \n",
       "SBIN.BO        4,175,283,407,000.00 4,137,476,610,000.00     236,584,000.00   \n",
       "\n",
       "                      Net Income         Gross Profit               Ebit  \\\n",
       "Company                                                                    \n",
       "RELIANCE.BO   395,880,000,000.00 1,720,530,000,000.00 645,560,000,000.00   \n",
       "BHARTIARTL.BO   4,095,000,000.00   385,199,000,000.00  47,451,000,000.00   \n",
       "ITC.BO        125,923,300,000.00   302,820,200,000.00 171,148,000,000.00   \n",
       "ICICIBANK.BO   42,542,387,000.00   716,671,406,000.00               0.00   \n",
       "SBIN.BO        22,996,391,000.00 1,178,693,354,520.00               0.00   \n",
       "\n",
       "                     Total Revenue      Cost Of Revenue  Current Ratio  \\\n",
       "Company                                                                  \n",
       "RELIANCE.BO   5,692,090,000,000.00 3,971,560,000,000.00           0.73   \n",
       "BHARTIARTL.BO   811,090,000,000.00   425,891,000,000.00           0.35   \n",
       "ITC.BO          483,526,800,000.00   180,706,600,000.00           3.17   \n",
       "ICICIBANK.BO    716,671,406,000.00                 0.00           0.15   \n",
       "SBIN.BO       1,178,693,354,520.00                 0.00           0.14   \n",
       "\n",
       "               Debt to Equity Ratio  ROI  ROA  Inventory Turnover Ratio  \\\n",
       "Company                                                                   \n",
       "RELIANCE.BO                    1.57 0.11 0.04                      5.88   \n",
       "BHARTIARTL.BO                  2.66 0.03 0.00                    481.78   \n",
       "ITC.BO                         0.21 0.29 0.18                      2.27   \n",
       "ICICIBANK.BO                   9.78 0.00 0.00                      0.00   \n",
       "SBIN.BO                       15.56 0.00 0.00                      0.00   \n",
       "\n",
       "               Net Profit Margin       Total Expenses  In_stress  \n",
       "Company                                                           \n",
       "RELIANCE.BO                 0.30 5,296,210,000,000.00          0  \n",
       "BHARTIARTL.BO               0.47   806,995,000,000.00          0  \n",
       "ITC.BO                      0.63   357,603,500,000.00          0  \n",
       "ICICIBANK.BO                1.00   674,129,019,000.00          0  \n",
       "SBIN.BO                     1.00 1,155,696,963,520.00          0  "
      ]
     },
     "execution_count": 25,
     "metadata": {},
     "output_type": "execute_result"
    }
   ],
   "source": [
    "df.head()"
   ]
  },
  {
   "cell_type": "code",
   "execution_count": 26,
   "metadata": {
    "scrolled": true
   },
   "outputs": [
    {
     "data": {
      "text/html": [
       "<div>\n",
       "<style scoped>\n",
       "    .dataframe tbody tr th:only-of-type {\n",
       "        vertical-align: middle;\n",
       "    }\n",
       "\n",
       "    .dataframe tbody tr th {\n",
       "        vertical-align: top;\n",
       "    }\n",
       "\n",
       "    .dataframe thead th {\n",
       "        text-align: right;\n",
       "    }\n",
       "</style>\n",
       "<table border=\"1\" class=\"dataframe\">\n",
       "  <thead>\n",
       "    <tr style=\"text-align: right;\">\n",
       "      <th></th>\n",
       "      <th>Total Liab</th>\n",
       "      <th>Total Stockholder Equity</th>\n",
       "      <th>Total Assets</th>\n",
       "      <th>Total Current Liabilities</th>\n",
       "      <th>Total Current Assets</th>\n",
       "      <th>Long Term Debt</th>\n",
       "      <th>Inventory</th>\n",
       "      <th>Net Income</th>\n",
       "      <th>Gross Profit</th>\n",
       "      <th>Ebit</th>\n",
       "      <th>Total Revenue</th>\n",
       "      <th>Cost Of Revenue</th>\n",
       "      <th>Current Ratio</th>\n",
       "      <th>Debt to Equity Ratio</th>\n",
       "      <th>ROI</th>\n",
       "      <th>ROA</th>\n",
       "      <th>Inventory Turnover Ratio</th>\n",
       "      <th>Net Profit Margin</th>\n",
       "      <th>Total Expenses</th>\n",
       "      <th>In_stress</th>\n",
       "    </tr>\n",
       "  </thead>\n",
       "  <tbody>\n",
       "    <tr>\n",
       "      <th>count</th>\n",
       "      <td>589.00</td>\n",
       "      <td>589.00</td>\n",
       "      <td>589.00</td>\n",
       "      <td>589.00</td>\n",
       "      <td>589.00</td>\n",
       "      <td>589.00</td>\n",
       "      <td>589.00</td>\n",
       "      <td>589.00</td>\n",
       "      <td>589.00</td>\n",
       "      <td>589.00</td>\n",
       "      <td>589.00</td>\n",
       "      <td>589.00</td>\n",
       "      <td>589.00</td>\n",
       "      <td>589.00</td>\n",
       "      <td>589.00</td>\n",
       "      <td>589.00</td>\n",
       "      <td>589.00</td>\n",
       "      <td>589.00</td>\n",
       "      <td>589.00</td>\n",
       "      <td>589.00</td>\n",
       "    </tr>\n",
       "    <tr>\n",
       "      <th>mean</th>\n",
       "      <td>256,347,703,955.88</td>\n",
       "      <td>65,037,457,407.86</td>\n",
       "      <td>324,475,245,551.79</td>\n",
       "      <td>179,932,835,419.62</td>\n",
       "      <td>70,466,851,051.41</td>\n",
       "      <td>55,282,749,037.32</td>\n",
       "      <td>14,700,046,898.26</td>\n",
       "      <td>4,833,620,974.47</td>\n",
       "      <td>40,275,066,257.49</td>\n",
       "      <td>10,828,527,075.95</td>\n",
       "      <td>113,943,628,409.79</td>\n",
       "      <td>73,668,562,152.30</td>\n",
       "      <td>1.61</td>\n",
       "      <td>1.57</td>\n",
       "      <td>0.14</td>\n",
       "      <td>0.05</td>\n",
       "      <td>341.45</td>\n",
       "      <td>0.43</td>\n",
       "      <td>109,110,007,435.32</td>\n",
       "      <td>0.14</td>\n",
       "    </tr>\n",
       "    <tr>\n",
       "      <th>std</th>\n",
       "      <td>1,715,662,702,562.69</td>\n",
       "      <td>242,561,504,526.77</td>\n",
       "      <td>1,882,211,905,171.75</td>\n",
       "      <td>1,381,775,743,568.62</td>\n",
       "      <td>250,841,059,104.38</td>\n",
       "      <td>255,391,884,075.88</td>\n",
       "      <td>54,972,207,114.78</td>\n",
       "      <td>31,491,102,241.44</td>\n",
       "      <td>137,557,383,607.67</td>\n",
       "      <td>43,599,549,880.60</td>\n",
       "      <td>449,440,441,337.92</td>\n",
       "      <td>341,929,370,506.08</td>\n",
       "      <td>1.51</td>\n",
       "      <td>11.11</td>\n",
       "      <td>0.16</td>\n",
       "      <td>0.08</td>\n",
       "      <td>3,478.39</td>\n",
       "      <td>0.21</td>\n",
       "      <td>431,316,864,819.92</td>\n",
       "      <td>0.35</td>\n",
       "    </tr>\n",
       "    <tr>\n",
       "      <th>min</th>\n",
       "      <td>20,078,000.00</td>\n",
       "      <td>-97,278,300,000.00</td>\n",
       "      <td>760,460,910.00</td>\n",
       "      <td>78,102,000.00</td>\n",
       "      <td>13,888,000.00</td>\n",
       "      <td>0.00</td>\n",
       "      <td>140,000.00</td>\n",
       "      <td>-288,262,300,000.00</td>\n",
       "      <td>-97,545,098,000.00</td>\n",
       "      <td>-104,872,000,000.00</td>\n",
       "      <td>-97,545,098,000.00</td>\n",
       "      <td>0.00</td>\n",
       "      <td>0.01</td>\n",
       "      <td>-148.54</td>\n",
       "      <td>-2.24</td>\n",
       "      <td>-0.36</td>\n",
       "      <td>0.00</td>\n",
       "      <td>-0.27</td>\n",
       "      <td>-21,094,900,000.00</td>\n",
       "      <td>0.00</td>\n",
       "    </tr>\n",
       "    <tr>\n",
       "      <th>25%</th>\n",
       "      <td>5,120,418,000.00</td>\n",
       "      <td>4,951,619,000.00</td>\n",
       "      <td>12,212,267,000.00</td>\n",
       "      <td>3,707,800,000.00</td>\n",
       "      <td>5,414,989,000.00</td>\n",
       "      <td>444,181,000.00</td>\n",
       "      <td>942,846,000.00</td>\n",
       "      <td>311,960,000.00</td>\n",
       "      <td>3,758,091,000.00</td>\n",
       "      <td>729,545,000.00</td>\n",
       "      <td>10,504,066,000.00</td>\n",
       "      <td>4,953,133,000.00</td>\n",
       "      <td>1.01</td>\n",
       "      <td>0.60</td>\n",
       "      <td>0.08</td>\n",
       "      <td>0.02</td>\n",
       "      <td>2.05</td>\n",
       "      <td>0.29</td>\n",
       "      <td>9,890,095,000.00</td>\n",
       "      <td>0.00</td>\n",
       "    </tr>\n",
       "    <tr>\n",
       "      <th>50%</th>\n",
       "      <td>14,177,100,000.00</td>\n",
       "      <td>10,811,380,000.00</td>\n",
       "      <td>27,643,300,000.00</td>\n",
       "      <td>9,416,800,000.00</td>\n",
       "      <td>12,398,700,000.00</td>\n",
       "      <td>2,151,938,000.00</td>\n",
       "      <td>3,095,800,000.00</td>\n",
       "      <td>1,030,750,000.00</td>\n",
       "      <td>8,349,717,000.00</td>\n",
       "      <td>1,806,800,000.00</td>\n",
       "      <td>22,389,936,000.00</td>\n",
       "      <td>12,822,990,000.00</td>\n",
       "      <td>1.34</td>\n",
       "      <td>1.06</td>\n",
       "      <td>0.15</td>\n",
       "      <td>0.05</td>\n",
       "      <td>3.77</td>\n",
       "      <td>0.40</td>\n",
       "      <td>21,319,435,000.00</td>\n",
       "      <td>0.00</td>\n",
       "    </tr>\n",
       "    <tr>\n",
       "      <th>75%</th>\n",
       "      <td>52,565,900,000.00</td>\n",
       "      <td>31,223,900,000.00</td>\n",
       "      <td>89,364,100,000.00</td>\n",
       "      <td>31,587,600,000.00</td>\n",
       "      <td>37,806,000,000.00</td>\n",
       "      <td>12,873,400,000.00</td>\n",
       "      <td>8,560,063,000.00</td>\n",
       "      <td>3,246,180,000.00</td>\n",
       "      <td>23,327,100,000.00</td>\n",
       "      <td>5,906,668,000.00</td>\n",
       "      <td>59,831,400,000.00</td>\n",
       "      <td>31,515,084,000.00</td>\n",
       "      <td>1.78</td>\n",
       "      <td>2.09</td>\n",
       "      <td>0.21</td>\n",
       "      <td>0.08</td>\n",
       "      <td>7.84</td>\n",
       "      <td>0.54</td>\n",
       "      <td>58,570,530,000.00</td>\n",
       "      <td>0.00</td>\n",
       "    </tr>\n",
       "    <tr>\n",
       "      <th>max</th>\n",
       "      <td>36,479,315,443,000.00</td>\n",
       "      <td>3,871,120,000,000.00</td>\n",
       "      <td>38,884,641,961,000.00</td>\n",
       "      <td>30,004,424,063,000.00</td>\n",
       "      <td>4,175,283,407,000.00</td>\n",
       "      <td>4,137,476,610,000.00</td>\n",
       "      <td>771,264,800,000.00</td>\n",
       "      <td>395,880,000,000.00</td>\n",
       "      <td>1,720,530,000,000.00</td>\n",
       "      <td>645,560,000,000.00</td>\n",
       "      <td>5,692,090,000,000.00</td>\n",
       "      <td>4,475,481,800,000.00</td>\n",
       "      <td>20.81</td>\n",
       "      <td>129.22</td>\n",
       "      <td>0.78</td>\n",
       "      <td>0.98</td>\n",
       "      <td>52,003.43</td>\n",
       "      <td>1.00</td>\n",
       "      <td>5,296,210,000,000.00</td>\n",
       "      <td>1.00</td>\n",
       "    </tr>\n",
       "  </tbody>\n",
       "</table>\n",
       "</div>"
      ],
      "text/plain": [
       "                 Total Liab  Total Stockholder Equity          Total Assets  \\\n",
       "count                589.00                    589.00                589.00   \n",
       "mean     256,347,703,955.88         65,037,457,407.86    324,475,245,551.79   \n",
       "std    1,715,662,702,562.69        242,561,504,526.77  1,882,211,905,171.75   \n",
       "min           20,078,000.00        -97,278,300,000.00        760,460,910.00   \n",
       "25%        5,120,418,000.00          4,951,619,000.00     12,212,267,000.00   \n",
       "50%       14,177,100,000.00         10,811,380,000.00     27,643,300,000.00   \n",
       "75%       52,565,900,000.00         31,223,900,000.00     89,364,100,000.00   \n",
       "max   36,479,315,443,000.00      3,871,120,000,000.00 38,884,641,961,000.00   \n",
       "\n",
       "       Total Current Liabilities  Total Current Assets       Long Term Debt  \\\n",
       "count                     589.00                589.00               589.00   \n",
       "mean          179,932,835,419.62     70,466,851,051.41    55,282,749,037.32   \n",
       "std         1,381,775,743,568.62    250,841,059,104.38   255,391,884,075.88   \n",
       "min                78,102,000.00         13,888,000.00                 0.00   \n",
       "25%             3,707,800,000.00      5,414,989,000.00       444,181,000.00   \n",
       "50%             9,416,800,000.00     12,398,700,000.00     2,151,938,000.00   \n",
       "75%            31,587,600,000.00     37,806,000,000.00    12,873,400,000.00   \n",
       "max        30,004,424,063,000.00  4,175,283,407,000.00 4,137,476,610,000.00   \n",
       "\n",
       "               Inventory          Net Income         Gross Profit  \\\n",
       "count             589.00              589.00               589.00   \n",
       "mean   14,700,046,898.26    4,833,620,974.47    40,275,066,257.49   \n",
       "std    54,972,207,114.78   31,491,102,241.44   137,557,383,607.67   \n",
       "min           140,000.00 -288,262,300,000.00   -97,545,098,000.00   \n",
       "25%       942,846,000.00      311,960,000.00     3,758,091,000.00   \n",
       "50%     3,095,800,000.00    1,030,750,000.00     8,349,717,000.00   \n",
       "75%     8,560,063,000.00    3,246,180,000.00    23,327,100,000.00   \n",
       "max   771,264,800,000.00  395,880,000,000.00 1,720,530,000,000.00   \n",
       "\n",
       "                     Ebit        Total Revenue      Cost Of Revenue  \\\n",
       "count              589.00               589.00               589.00   \n",
       "mean    10,828,527,075.95   113,943,628,409.79    73,668,562,152.30   \n",
       "std     43,599,549,880.60   449,440,441,337.92   341,929,370,506.08   \n",
       "min   -104,872,000,000.00   -97,545,098,000.00                 0.00   \n",
       "25%        729,545,000.00    10,504,066,000.00     4,953,133,000.00   \n",
       "50%      1,806,800,000.00    22,389,936,000.00    12,822,990,000.00   \n",
       "75%      5,906,668,000.00    59,831,400,000.00    31,515,084,000.00   \n",
       "max    645,560,000,000.00 5,692,090,000,000.00 4,475,481,800,000.00   \n",
       "\n",
       "       Current Ratio  Debt to Equity Ratio    ROI    ROA  \\\n",
       "count         589.00                589.00 589.00 589.00   \n",
       "mean            1.61                  1.57   0.14   0.05   \n",
       "std             1.51                 11.11   0.16   0.08   \n",
       "min             0.01               -148.54  -2.24  -0.36   \n",
       "25%             1.01                  0.60   0.08   0.02   \n",
       "50%             1.34                  1.06   0.15   0.05   \n",
       "75%             1.78                  2.09   0.21   0.08   \n",
       "max            20.81                129.22   0.78   0.98   \n",
       "\n",
       "       Inventory Turnover Ratio  Net Profit Margin       Total Expenses  \\\n",
       "count                    589.00             589.00               589.00   \n",
       "mean                     341.45               0.43   109,110,007,435.32   \n",
       "std                    3,478.39               0.21   431,316,864,819.92   \n",
       "min                        0.00              -0.27   -21,094,900,000.00   \n",
       "25%                        2.05               0.29     9,890,095,000.00   \n",
       "50%                        3.77               0.40    21,319,435,000.00   \n",
       "75%                        7.84               0.54    58,570,530,000.00   \n",
       "max                   52,003.43               1.00 5,296,210,000,000.00   \n",
       "\n",
       "       In_stress  \n",
       "count     589.00  \n",
       "mean        0.14  \n",
       "std         0.35  \n",
       "min         0.00  \n",
       "25%         0.00  \n",
       "50%         0.00  \n",
       "75%         0.00  \n",
       "max         1.00  "
      ]
     },
     "execution_count": 26,
     "metadata": {},
     "output_type": "execute_result"
    }
   ],
   "source": [
    "df.describe()"
   ]
  },
  {
   "cell_type": "markdown",
   "metadata": {},
   "source": [
    "From the dataframe description above we can observe that the medians for the variables:\n",
    "\n",
    "'Total Liab',\n",
    "\n",
    "'Total Stockholder equity',\n",
    "\n",
    "'Total Assets',\n",
    "\n",
    "'Total Current Liabilities',\n",
    "\n",
    "'Total Current Assets',\n",
    "\n",
    "'Long Term Debt',\n",
    "\n",
    "'Inventory',\n",
    "\n",
    "'Cost of Revenue'\n",
    "\n",
    " is much closer towards 25% quantile rather than towards 75% quantile of its data values.Hence,these features seem to have a left skewed distribution"
   ]
  },
  {
   "cell_type": "code",
   "execution_count": 27,
   "metadata": {},
   "outputs": [
    {
     "data": {
      "text/plain": [
       "Total Liab                   0\n",
       "Total Stockholder Equity     0\n",
       "Total Assets                 0\n",
       "Total Current Liabilities    0\n",
       "Total Current Assets         0\n",
       "Long Term Debt               0\n",
       "Inventory                    0\n",
       "Net Income                   0\n",
       "Gross Profit                 0\n",
       "Ebit                         0\n",
       "Total Revenue                0\n",
       "Cost Of Revenue              0\n",
       "Current Ratio                0\n",
       "Debt to Equity Ratio         0\n",
       "ROI                          0\n",
       "ROA                          0\n",
       "Inventory Turnover Ratio     0\n",
       "Net Profit Margin            0\n",
       "Total Expenses               0\n",
       "In_stress                    0\n",
       "dtype: int64"
      ]
     },
     "execution_count": 27,
     "metadata": {},
     "output_type": "execute_result"
    }
   ],
   "source": [
    "df.isnull().sum()"
   ]
  },
  {
   "cell_type": "markdown",
   "metadata": {},
   "source": [
    "Segregating the columns of the dataframe into continuous variable and categorical variable columns"
   ]
  },
  {
   "cell_type": "code",
   "execution_count": 28,
   "metadata": {},
   "outputs": [],
   "source": [
    "#Selecting a threshold of 20 \n",
    "continuous_cols = [col for col in df.columns if df[col].nunique()>=20]\n",
    "categorical_cols = [col for col in df.columns if df[col].nunique()<20]"
   ]
  },
  {
   "cell_type": "code",
   "execution_count": 29,
   "metadata": {},
   "outputs": [
    {
     "data": {
      "text/plain": [
       "0   0.86\n",
       "1   0.14\n",
       "Name: In_stress, dtype: float64"
      ]
     },
     "execution_count": 29,
     "metadata": {},
     "output_type": "execute_result"
    }
   ],
   "source": [
    "(df['In_stress'].value_counts()/len(df))"
   ]
  },
  {
   "cell_type": "code",
   "execution_count": 30,
   "metadata": {},
   "outputs": [
    {
     "data": {
      "text/plain": [
       "<matplotlib.axes._subplots.AxesSubplot at 0x220a7fdbc08>"
      ]
     },
     "execution_count": 30,
     "metadata": {},
     "output_type": "execute_result"
    },
    {
     "data": {
      "image/png": "[encoded data removed]",
      "text/plain": [
       "<Figure size 432x288 with 1 Axes>"
      ]
     },
     "metadata": {
      "needs_background": "light"
     },
     "output_type": "display_data"
    }
   ],
   "source": [
    "(df['In_stress'].value_counts()/len(df)).plot(kind='bar')"
   ]
  },
  {
   "cell_type": "markdown",
   "metadata": {},
   "source": [
    "From the code above we can observe that the 'In_stress' variable has an imbalanced distribution and only 10% of the total records in the dataset are of companies that are actually 'In_stress'"
   ]
  },
  {
   "cell_type": "code",
   "execution_count": 31,
   "metadata": {},
   "outputs": [
    {
     "name": "stdout",
     "output_type": "stream",
     "text": [
      "<class 'pandas.core.frame.DataFrame'>\n",
      "Index: 589 entries, RELIANCE.BO to ADVANIHOTR.BO\n",
      "Data columns (total 20 columns):\n",
      " #   Column                     Non-Null Count  Dtype  \n",
      "---  ------                     --------------  -----  \n",
      " 0   Total Liab                 589 non-null    float64\n",
      " 1   Total Stockholder Equity   589 non-null    float64\n",
      " 2   Total Assets               589 non-null    float64\n",
      " 3   Total Current Liabilities  589 non-null    float64\n",
      " 4   Total Current Assets       589 non-null    float64\n",
      " 5   Long Term Debt             589 non-null    float64\n",
      " 6   Inventory                  589 non-null    float64\n",
      " 7   Net Income                 589 non-null    float64\n",
      " 8   Gross Profit               589 non-null    float64\n",
      " 9   Ebit                       589 non-null    float64\n",
      " 10  Total Revenue              589 non-null    float64\n",
      " 11  Cost Of Revenue            589 non-null    float64\n",
      " 12  Current Ratio              589 non-null    float64\n",
      " 13  Debt to Equity Ratio       589 non-null    float64\n",
      " 14  ROI                        589 non-null    float64\n",
      " 15  ROA                        589 non-null    float64\n",
      " 16  Inventory Turnover Ratio   589 non-null    float64\n",
      " 17  Net Profit Margin          589 non-null    float64\n",
      " 18  Total Expenses             589 non-null    float64\n",
      " 19  In_stress                  589 non-null    int64  \n",
      "dtypes: float64(19), int64(1)\n",
      "memory usage: 96.6+ KB\n"
     ]
    }
   ],
   "source": [
    "df.info()"
   ]
  },
  {
   "cell_type": "code",
   "execution_count": 32,
   "metadata": {},
   "outputs": [
    {
     "data": {
      "text/plain": [
       "Index(['Total Liab', 'Total Stockholder Equity', 'Total Assets',\n",
       "       'Total Current Liabilities', 'Total Current Assets', 'Long Term Debt',\n",
       "       'Inventory', 'Net Income', 'Gross Profit', 'Ebit', 'Total Revenue',\n",
       "       'Cost Of Revenue', 'Current Ratio', 'Debt to Equity Ratio', 'ROI',\n",
       "       'ROA', 'Inventory Turnover Ratio', 'Net Profit Margin',\n",
       "       'Total Expenses', 'In_stress'],\n",
       "      dtype='object')"
      ]
     },
     "execution_count": 32,
     "metadata": {},
     "output_type": "execute_result"
    }
   ],
   "source": [
    "df.columns"
   ]
  },
  {
   "cell_type": "code",
   "execution_count": 33,
   "metadata": {},
   "outputs": [],
   "source": [
    "original_cols = ['Total Liab', 'Total Stockholder Equity', 'Total Assets',\n",
    "       'Total Current Liabilities', 'Total Current Assets', 'Long Term Debt',\n",
    "       'Inventory', 'Net Income', 'Gross Profit', 'Ebit', 'Total Revenue',\n",
    "       'Cost Of Revenue']"
   ]
  },
  {
   "cell_type": "code",
   "execution_count": 34,
   "metadata": {},
   "outputs": [],
   "source": [
    "new_cols=['Current Ratio', 'Debt to Equity Ratio', 'ROI',\n",
    "       'ROA', 'Net Profit Margin',\n",
    "       'Total Expenses','Inventory Turnover Ratio', 'In_stress']"
   ]
  },
  {
   "cell_type": "code",
   "execution_count": 35,
   "metadata": {},
   "outputs": [
    {
     "data": {
      "image/png": "[encoded data removed]",
      "text/plain": [
       "<Figure size 1440x720 with 6 Axes>"
      ]
     },
     "metadata": {
      "needs_background": "light"
     },
     "output_type": "display_data"
    }
   ],
   "source": [
    "figure,axs = plt.subplots(3,2, figsize=(20,10))\n",
    "figure.suptitle(\"Histogram of original variables of the dataset\")\n",
    "\n",
    "\n",
    "for ax,col in zip(axs.flatten(),original_cols[:6]):\n",
    "    sns.histplot(df[col],ax=ax)\n",
    "    ax.legend([col])"
   ]
  },
  {
   "cell_type": "markdown",
   "metadata": {},
   "source": [
    "From the plots above we can see that the all the above variables seem to have a left skewed distribution"
   ]
  },
  {
   "cell_type": "code",
   "execution_count": 36,
   "metadata": {},
   "outputs": [
    {
     "data": {
      "image/png": "[encoded data removed]",
      "text/plain": [
       "<Figure size 1080x720 with 6 Axes>"
      ]
     },
     "metadata": {
      "needs_background": "light"
     },
     "output_type": "display_data"
    }
   ],
   "source": [
    "figure,axs = plt.subplots(3,2, figsize=(15,10))\n",
    "figure.suptitle(\"Histogram of original variables of the dataset\")\n",
    "\n",
    "\n",
    "for ax,col in zip(axs.flatten(),original_cols[6:]):\n",
    "    sns.histplot(df[col],ax=ax,stat='probability',legend=True)\n",
    "    ax.legend([col])"
   ]
  },
  {
   "cell_type": "markdown",
   "metadata": {},
   "source": [
    "From the plots above we can observe that all the variables except 'Net Income' seem to follow a left skewed distribution.Whereas the variable 'Net Income' seems to follow a symmetric distribution"
   ]
  },
  {
   "cell_type": "code",
   "execution_count": 37,
   "metadata": {},
   "outputs": [
    {
     "data": {
      "image/png": "[encoded data removed]",
      "text/plain": [
       "<Figure size 1080x720 with 4 Axes>"
      ]
     },
     "metadata": {
      "needs_background": "light"
     },
     "output_type": "display_data"
    }
   ],
   "source": [
    "figure,axs = plt.subplots(2,2, figsize=(15,10))\n",
    "figure.suptitle(\"Histogram of various derived features in the dataset\")\n",
    "\n",
    "\n",
    "for ax,col in zip(axs.flatten(),new_cols[:4]):\n",
    "    sns.histplot(df[col],ax=ax,stat='probability')\n",
    "    ax.legend([col])"
   ]
  },
  {
   "cell_type": "code",
   "execution_count": 38,
   "metadata": {},
   "outputs": [
    {
     "data": {
      "image/png": "[encoded data removed]",
      "text/plain": [
       "<Figure size 1080x360 with 2 Axes>"
      ]
     },
     "metadata": {
      "needs_background": "light"
     },
     "output_type": "display_data"
    }
   ],
   "source": [
    "figure,axs = plt.subplots(1,2, figsize=(15,5))\n",
    "figure.suptitle(\"Histogram of various derived features in the dataset\")\n",
    "\n",
    "\n",
    "for ax,col in zip(axs.flatten(),new_cols[4:-1]):\n",
    "    sns.histplot(df[col],ax=ax)\n",
    "    ax.legend([col])"
   ]
  },
  {
   "cell_type": "markdown",
   "metadata": {},
   "source": [
    "From the figure above we can see that significant no of outliers are present for the above columns"
   ]
  },
  {
   "cell_type": "code",
   "execution_count": 39,
   "metadata": {
    "scrolled": false
   },
   "outputs": [
    {
     "data": {
      "text/plain": [
       "<matplotlib.legend.Legend at 0x220af2e4048>"
      ]
     },
     "execution_count": 39,
     "metadata": {},
     "output_type": "execute_result"
    },
    {
     "data": {
      "image/png": "[encoded data removed]",
      "text/plain": [
       "<Figure size 864x360 with 1 Axes>"
      ]
     },
     "metadata": {
      "needs_background": "light"
     },
     "output_type": "display_data"
    }
   ],
   "source": [
    "plt.figure(figsize=(12,5))\n",
    "plt.title('Lineplot of for Inventory_Turnover_Ratio')\n",
    "itr=sns.kdeplot(df['Inventory Turnover Ratio'])\n",
    "itr.legend(['Inventory Turnover Ratio'])"
   ]
  },
  {
   "cell_type": "markdown",
   "metadata": {},
   "source": [
    "# Checking the presence of outliers in the features using boxplots"
   ]
  },
  {
   "cell_type": "code",
   "execution_count": 40,
   "metadata": {
    "scrolled": false
   },
   "outputs": [
    {
     "data": {
      "image/png": "[encoded data removed]",
      "text/plain": [
       "<Figure size 1440x1080 with 12 Axes>"
      ]
     },
     "metadata": {
      "needs_background": "light"
     },
     "output_type": "display_data"
    }
   ],
   "source": [
    "figure,axs = plt.subplots(3,4, figsize=(20,15))\n",
    "figure.suptitle(\"Boxplot of various original features in the dataset\")\n",
    "\n",
    "\n",
    "for ax,col in zip(axs.flatten(),original_cols):\n",
    "    sns.boxplot(df[col],ax=ax)\n",
    "    ax.legend([col])"
   ]
  },
  {
   "cell_type": "code",
   "execution_count": 41,
   "metadata": {},
   "outputs": [],
   "source": [
    "for col in original_cols:\n",
    "    q1=np.percentile(df[col],25)\n",
    "    q3=np.percentile(df[col],75)\n",
    "\n",
    "    iqr = q3 - q1\n",
    "    upper_bound = q3 + (1.5 * iqr) \n",
    "    lower_bound = q1 - (1.5 * iqr)"
   ]
  },
  {
   "cell_type": "code",
   "execution_count": 42,
   "metadata": {},
   "outputs": [
    {
     "data": {
      "image/png": "[encoded data removed]",
      "text/plain": [
       "<Figure size 1440x1080 with 8 Axes>"
      ]
     },
     "metadata": {
      "needs_background": "light"
     },
     "output_type": "display_data"
    }
   ],
   "source": [
    "figure,axs = plt.subplots(2,4, figsize=(20,15))\n",
    "figure.suptitle(\"Boxplot of various original features in the dataset\")\n",
    "\n",
    "\n",
    "for ax,col in zip(axs.flatten()[:-1],new_cols[:-1]):\n",
    "    sns.boxplot(df[col],ax=ax)\n",
    "    ax.legend([col])"
   ]
  },
  {
   "cell_type": "markdown",
   "metadata": {},
   "source": [
    "From the boxplots of the original columns above,we can observe that there are significant number of outliers present for each columns.However,upon close inspection these values seem valid and are considered for the model building process"
   ]
  },
  {
   "cell_type": "markdown",
   "metadata": {},
   "source": [
    "# Performing bivariate analysis on the dataset"
   ]
  },
  {
   "cell_type": "markdown",
   "metadata": {},
   "source": [
    "Performing bivariate analysis among the independent variables"
   ]
  },
  {
   "cell_type": "markdown",
   "metadata": {},
   "source": [
    "Performing bivariate analysis with the target variable"
   ]
  },
  {
   "cell_type": "code",
   "execution_count": 44,
   "metadata": {},
   "outputs": [
    {
     "data": {
      "image/png": "[encoded data removed]",
      "text/plain": [
       "<Figure size 1440x720 with 4 Axes>"
      ]
     },
     "metadata": {
      "needs_background": "light"
     },
     "output_type": "display_data"
    }
   ],
   "source": [
    "figure,axs = plt.subplots(2,2, figsize=(20,10))\n",
    "figure.suptitle(\"Barplot of various features with the target variable of the dataset\")\n",
    "\n",
    "\n",
    "for ax,col in zip(axs.flatten(),original_cols[:4]):\n",
    "    sns.barplot(x=df['In_stress'],y=df[col],ax=ax)\n",
    "    ax.legend([col])"
   ]
  },
  {
   "cell_type": "markdown",
   "metadata": {},
   "source": [
    "From the above barplots we can see that atleast some amount of variation exists in 'In_stress'\n",
    "values due to following independent variables 'Total Liab','Total Assets','Total Current Liabilities'\n",
    "and 'Total Stockholder Equity'"
   ]
  },
  {
   "cell_type": "code",
   "execution_count": 45,
   "metadata": {
    "scrolled": false
   },
   "outputs": [
    {
     "data": {
      "image/png": "[encoded data removed]",
      "text/plain": [
       "<Figure size 1440x720 with 4 Axes>"
      ]
     },
     "metadata": {
      "needs_background": "light"
     },
     "output_type": "display_data"
    }
   ],
   "source": [
    "figure,axs = plt.subplots(2,2, figsize=(20,10))\n",
    "figure.suptitle(\"Barplot of various features in the dataset\")\n",
    "\n",
    "\n",
    "for ax,col in zip(axs.flatten(),original_cols[4:8]):\n",
    "    sns.barplot(x=df['In_stress'],y=df[col],ax=ax)\n",
    "    ax.legend([col])"
   ]
  },
  {
   "cell_type": "markdown",
   "metadata": {},
   "source": [
    "From the above barplots we can see that atleast some amount of variation exists in 'In_stress'\n",
    "values due to following independent variables 'Long Term Debt'and 'Net Income'"
   ]
  },
  {
   "cell_type": "code",
   "execution_count": 47,
   "metadata": {},
   "outputs": [
    {
     "data": {
      "image/png": "[encoded data removed]",
      "text/plain": [
       "<Figure size 1440x720 with 4 Axes>"
      ]
     },
     "metadata": {
      "needs_background": "light"
     },
     "output_type": "display_data"
    }
   ],
   "source": [
    "figure,axs = plt.subplots(2,2, figsize=(20,10))\n",
    "figure.suptitle(\"Barplot of various indpendent features with the target variable of the dataset\")\n",
    "\n",
    "\n",
    "for ax,col in zip(axs.flatten(),original_cols[8:12]):\n",
    "    sns.barplot(x=df['In_stress'],y=df[col],ax=ax)\n",
    "    ax.legend([col])"
   ]
  },
  {
   "cell_type": "markdown",
   "metadata": {},
   "source": [
    "From the above barplots we can see that atleast some amount of variation exists in 'In_stress'\n",
    "values due to following independent variables 'Gross Profit','Ebit','Total Revenue' and 'Cost of Revenue'"
   ]
  },
  {
   "cell_type": "code",
   "execution_count": 48,
   "metadata": {
    "scrolled": false
   },
   "outputs": [
    {
     "data": {
      "image/png": "[encoded data removed]",
      "text/plain": [
       "<Figure size 1440x1080 with 6 Axes>"
      ]
     },
     "metadata": {
      "needs_background": "light"
     },
     "output_type": "display_data"
    }
   ],
   "source": [
    "figure,axs = plt.subplots(3,2, figsize=(20,15))\n",
    "figure.suptitle(\"Barplot of the derived ratios with the target variable in the dataset\")\n",
    "\n",
    "\n",
    "for ax,col in zip(axs.flatten(),new_cols[:-2]):\n",
    "    sns.barplot(x=df['In_stress'],y=df[col],ax=ax)\n",
    "    ax.legend([col])"
   ]
  },
  {
   "cell_type": "markdown",
   "metadata": {},
   "source": [
    "From the above barplots we can see that atleast some amount of variation exists in 'In_stress'\n",
    "values due to following independent variables 'Debt to Equity Ratio','ROI' and 'ROA' "
   ]
  },
  {
   "cell_type": "markdown",
   "metadata": {},
   "source": [
    "# Performing Hypothesis testing on the to test the statistical dependency between independent and dependent variables."
   ]
  },
  {
   "cell_type": "markdown",
   "metadata": {},
   "source": [
    "In this case since all our independent variables and target variable are of continuous type and due to non-parametric nature \n",
    "of our independent variables,we'll be using non-parametric hypothesis tests like ManneyWhitingU and Kruskall Wallis test\n",
    "on our dataset"
   ]
  },
  {
   "cell_type": "code",
   "execution_count": 50,
   "metadata": {},
   "outputs": [],
   "source": [
    "def Kruskal_Wallis_test(col):\n",
    "    col_grouped_0 = df.loc[df.In_stress==0][col].values\n",
    "    col_grouped_1 = df.loc[df.In_stress==1][col].values\n",
    "    H, pval = kruskalwallis(col_grouped_0,col_grouped_1)\n",
    "    if pval < 0.05:\n",
    "        return(\"Null Hypothesis is rejected.The population medians are different for each of the groups\")\n",
    "    else:\n",
    "        return(\"Null Hypothesis has failed to get rejected.The population medians are same across each of the groups\")"
   ]
  },
  {
   "cell_type": "code",
   "execution_count": 51,
   "metadata": {},
   "outputs": [],
   "source": [
    "def ManneyWhitney_test(col):\n",
    "    col_grouped_0 = df.loc[df.In_stress==0][col].values\n",
    "    col_grouped_1 = df.loc[df.In_stress==1][col].values\n",
    "    H, pval = mannwhitneyu(col_grouped_0,col_grouped_1)\n",
    "    if pval < 0.05:\n",
    "        return(\"Null Hypothesis is rejected.The population medians are different for each of the groups\")\n",
    "    else:\n",
    "        return(\"Null Hypothesis has failed to get rejected.The population medians are same across each of the groups\")"
   ]
  },
  {
   "cell_type": "code",
   "execution_count": 52,
   "metadata": {
    "scrolled": false
   },
   "outputs": [
    {
     "name": "stdout",
     "output_type": "stream",
     "text": [
      "The Manny-Whitney test results for column variable 'Total Liab' are\n",
      "Null Hypothesis is rejected.The population medians are different for each of the groups \n",
      "\n",
      "The Manny-Whitney test results for column variable 'Total Stockholder Equity' are\n",
      "Null Hypothesis is rejected.The population medians are different for each of the groups \n",
      "\n",
      "The Manny-Whitney test results for column variable 'Total Assets' are\n",
      "Null Hypothesis is rejected.The population medians are different for each of the groups \n",
      "\n",
      "The Manny-Whitney test results for column variable 'Total Current Liabilities' are\n",
      "Null Hypothesis is rejected.The population medians are different for each of the groups \n",
      "\n",
      "The Manny-Whitney test results for column variable 'Total Current Assets' are\n",
      "Null Hypothesis has failed to get rejected.The population medians are same across each of the groups \n",
      "\n",
      "The Manny-Whitney test results for column variable 'Long Term Debt' are\n",
      "Null Hypothesis is rejected.The population medians are different for each of the groups \n",
      "\n",
      "The Manny-Whitney test results for column variable 'Inventory' are\n",
      "Null Hypothesis is rejected.The population medians are different for each of the groups \n",
      "\n",
      "The Manny-Whitney test results for column variable 'Net Income' are\n",
      "Null Hypothesis is rejected.The population medians are different for each of the groups \n",
      "\n",
      "The Manny-Whitney test results for column variable 'Gross Profit' are\n",
      "Null Hypothesis has failed to get rejected.The population medians are same across each of the groups \n",
      "\n",
      "The Manny-Whitney test results for column variable 'Ebit' are\n",
      "Null Hypothesis is rejected.The population medians are different for each of the groups \n",
      "\n",
      "The Manny-Whitney test results for column variable 'Total Revenue' are\n",
      "Null Hypothesis has failed to get rejected.The population medians are same across each of the groups \n",
      "\n",
      "The Manny-Whitney test results for column variable 'Cost Of Revenue' are\n",
      "Null Hypothesis has failed to get rejected.The population medians are same across each of the groups \n",
      "\n",
      "The Manny-Whitney test results for column variable 'Current Ratio' are\n",
      "Null Hypothesis is rejected.The population medians are different for each of the groups \n",
      "\n",
      "The Manny-Whitney test results for column variable 'Debt to Equity Ratio' are\n",
      "Null Hypothesis has failed to get rejected.The population medians are same across each of the groups \n",
      "\n",
      "The Manny-Whitney test results for column variable 'ROI' are\n",
      "Null Hypothesis is rejected.The population medians are different for each of the groups \n",
      "\n",
      "The Manny-Whitney test results for column variable 'ROA' are\n",
      "Null Hypothesis is rejected.The population medians are different for each of the groups \n",
      "\n",
      "The Manny-Whitney test results for column variable 'Inventory Turnover Ratio' are\n",
      "Null Hypothesis has failed to get rejected.The population medians are same across each of the groups \n",
      "\n",
      "The Manny-Whitney test results for column variable 'Net Profit Margin' are\n",
      "Null Hypothesis has failed to get rejected.The population medians are same across each of the groups \n",
      "\n",
      "The Manny-Whitney test results for column variable 'Total Expenses' are\n",
      "Null Hypothesis has failed to get rejected.The population medians are same across each of the groups \n",
      "\n"
     ]
    }
   ],
   "source": [
    "for col in continuous_cols:\n",
    "    print(\"The Manny-Whitney test results for column variable '{}' are\".format(col))\n",
    "    print(ManneyWhitney_test(col),\"\\n\")"
   ]
  },
  {
   "cell_type": "code",
   "execution_count": 53,
   "metadata": {
    "scrolled": false
   },
   "outputs": [
    {
     "name": "stdout",
     "output_type": "stream",
     "text": [
      "The Kruskal-Wallis test results for column variable 'Total Liab' are\n",
      "Null Hypothesis is rejected.The population medians are different for each of the groups \n",
      "\n",
      "The Kruskal-Wallis test results for column variable 'Total Stockholder Equity' are\n",
      "Null Hypothesis is rejected.The population medians are different for each of the groups \n",
      "\n",
      "The Kruskal-Wallis test results for column variable 'Total Assets' are\n",
      "Null Hypothesis is rejected.The population medians are different for each of the groups \n",
      "\n",
      "The Kruskal-Wallis test results for column variable 'Total Current Liabilities' are\n",
      "Null Hypothesis is rejected.The population medians are different for each of the groups \n",
      "\n",
      "The Kruskal-Wallis test results for column variable 'Total Current Assets' are\n",
      "Null Hypothesis has failed to get rejected.The population medians are same across each of the groups \n",
      "\n",
      "The Kruskal-Wallis test results for column variable 'Long Term Debt' are\n",
      "Null Hypothesis is rejected.The population medians are different for each of the groups \n",
      "\n",
      "The Kruskal-Wallis test results for column variable 'Inventory' are\n",
      "Null Hypothesis is rejected.The population medians are different for each of the groups \n",
      "\n",
      "The Kruskal-Wallis test results for column variable 'Net Income' are\n",
      "Null Hypothesis is rejected.The population medians are different for each of the groups \n",
      "\n",
      "The Kruskal-Wallis test results for column variable 'Gross Profit' are\n",
      "Null Hypothesis has failed to get rejected.The population medians are same across each of the groups \n",
      "\n",
      "The Kruskal-Wallis test results for column variable 'Ebit' are\n",
      "Null Hypothesis is rejected.The population medians are different for each of the groups \n",
      "\n",
      "The Kruskal-Wallis test results for column variable 'Total Revenue' are\n",
      "Null Hypothesis has failed to get rejected.The population medians are same across each of the groups \n",
      "\n",
      "The Kruskal-Wallis test results for column variable 'Cost Of Revenue' are\n",
      "Null Hypothesis has failed to get rejected.The population medians are same across each of the groups \n",
      "\n",
      "The Kruskal-Wallis test results for column variable 'Current Ratio' are\n",
      "Null Hypothesis is rejected.The population medians are different for each of the groups \n",
      "\n",
      "The Kruskal-Wallis test results for column variable 'Debt to Equity Ratio' are\n",
      "Null Hypothesis has failed to get rejected.The population medians are same across each of the groups \n",
      "\n",
      "The Kruskal-Wallis test results for column variable 'ROI' are\n",
      "Null Hypothesis is rejected.The population medians are different for each of the groups \n",
      "\n",
      "The Kruskal-Wallis test results for column variable 'ROA' are\n",
      "Null Hypothesis is rejected.The population medians are different for each of the groups \n",
      "\n",
      "The Kruskal-Wallis test results for column variable 'Inventory Turnover Ratio' are\n",
      "Null Hypothesis has failed to get rejected.The population medians are same across each of the groups \n",
      "\n",
      "The Kruskal-Wallis test results for column variable 'Net Profit Margin' are\n",
      "Null Hypothesis has failed to get rejected.The population medians are same across each of the groups \n",
      "\n",
      "The Kruskal-Wallis test results for column variable 'Total Expenses' are\n",
      "Null Hypothesis has failed to get rejected.The population medians are same across each of the groups \n",
      "\n"
     ]
    }
   ],
   "source": [
    "for col in continuous_cols:\n",
    "    print(\"The Kruskal-Wallis test results for column variable '{}' are\".format(col))\n",
    "    print(Kruskal_Wallis_test(col),\"\\n\")"
   ]
  },
  {
   "cell_type": "code",
   "execution_count": 54,
   "metadata": {
    "scrolled": false
   },
   "outputs": [
    {
     "name": "stdout",
     "output_type": "stream",
     "text": [
      "The results for column variable 'Total Liab' are\n",
      "Null Hypothesis is rejected.The population medians are different for each of the groups \n",
      "\n",
      "The results for column variable 'Total Stockholder Equity' are\n",
      "Null Hypothesis is rejected.The population medians are different for each of the groups \n",
      "\n",
      "The results for column variable 'Total Assets' are\n",
      "Null Hypothesis is rejected.The population medians are different for each of the groups \n",
      "\n",
      "The results for column variable 'Total Current Liabilities' are\n",
      "Null Hypothesis is rejected.The population medians are different for each of the groups \n",
      "\n",
      "The results for column variable 'Total Current Assets' are\n",
      "Null Hypothesis has failed to get rejected.The population medians are same across each of the groups \n",
      "\n",
      "The results for column variable 'Long Term Debt' are\n",
      "Null Hypothesis is rejected.The population medians are different for each of the groups \n",
      "\n",
      "The results for column variable 'Inventory' are\n",
      "Null Hypothesis is rejected.The population medians are different for each of the groups \n",
      "\n",
      "The results for column variable 'Net Income' are\n",
      "Null Hypothesis is rejected.The population medians are different for each of the groups \n",
      "\n",
      "The results for column variable 'Gross Profit' are\n",
      "Null Hypothesis has failed to get rejected.The population medians are same across each of the groups \n",
      "\n",
      "The results for column variable 'Ebit' are\n",
      "Null Hypothesis is rejected.The population medians are different for each of the groups \n",
      "\n",
      "The results for column variable 'Total Revenue' are\n",
      "Null Hypothesis has failed to get rejected.The population medians are same across each of the groups \n",
      "\n",
      "The results for column variable 'Cost Of Revenue' are\n",
      "Null Hypothesis has failed to get rejected.The population medians are same across each of the groups \n",
      "\n",
      "The results for column variable 'Current Ratio' are\n",
      "Null Hypothesis is rejected.The population medians are different for each of the groups \n",
      "\n",
      "The results for column variable 'Debt to Equity Ratio' are\n",
      "Null Hypothesis has failed to get rejected.The population medians are same across each of the groups \n",
      "\n",
      "The results for column variable 'ROI' are\n",
      "Null Hypothesis is rejected.The population medians are different for each of the groups \n",
      "\n",
      "The results for column variable 'ROA' are\n",
      "Null Hypothesis is rejected.The population medians are different for each of the groups \n",
      "\n",
      "The results for column variable 'Inventory Turnover Ratio' are\n",
      "Null Hypothesis has failed to get rejected.The population medians are same across each of the groups \n",
      "\n",
      "The results for column variable 'Net Profit Margin' are\n",
      "Null Hypothesis has failed to get rejected.The population medians are same across each of the groups \n",
      "\n",
      "The results for column variable 'Total Expenses' are\n",
      "Null Hypothesis has failed to get rejected.The population medians are same across each of the groups \n",
      "\n"
     ]
    }
   ],
   "source": [
    "for col in continuous_cols:\n",
    "    print(\"The results for column variable '{}' are\".format(col))\n",
    "    print(Kruskal_Wallis_test(col),\"\\n\")"
   ]
  },
  {
   "cell_type": "markdown",
   "metadata": {},
   "source": [
    "Based on the above test the following columns have shown a dependent relationship with the target variable:\n",
    "'Total Liab',\n",
    " 'Total Stockholder Equity',\n",
    " 'Total Assets',\n",
    " 'Total Current Liabilities',\n",
    " 'Long Term Debt',\n",
    " 'Inventory',\n",
    " 'Net Income',\n",
    " 'Ebit',\n",
    " 'Current Ratio',\n",
    " 'ROI',\n",
    " 'ROA'"
   ]
  },
  {
   "cell_type": "code",
   "execution_count": 55,
   "metadata": {},
   "outputs": [],
   "source": [
    "#Columns showing dependent relationship with the Target variable\n",
    "continuous_dependent_cols=['Total Liab',\n",
    " 'Total Stockholder Equity',\n",
    " 'Total Assets',\n",
    " 'Total Current Liabilities',\n",
    " 'Long Term Debt',\n",
    " 'Inventory',\n",
    " 'Net Income',\n",
    " 'Ebit',\n",
    " 'Current Ratio',\n",
    " 'ROI',\n",
    " 'ROA']"
   ]
  },
  {
   "cell_type": "code",
   "execution_count": 56,
   "metadata": {},
   "outputs": [
    {
     "data": {
      "text/plain": [
       "<matplotlib.axes._subplots.AxesSubplot at 0x220a7c64fc8>"
      ]
     },
     "execution_count": 56,
     "metadata": {},
     "output_type": "execute_result"
    },
    {
     "data": {
      "image/png": "[encoded data removed]",
      "text/plain": [
       "<Figure size 1440x864 with 2 Axes>"
      ]
     },
     "metadata": {
      "needs_background": "light"
     },
     "output_type": "display_data"
    }
   ],
   "source": [
    "#Plotting the heatmap to identify correlations between continuous variables\n",
    "plt.figure(figsize=(20,12))\n",
    "corr_matrix = df.corr()\n",
    "sns.heatmap(corr_matrix,cmap='Accent',annot=True)"
   ]
  },
  {
   "cell_type": "markdown",
   "metadata": {},
   "source": [
    "From the figure above we can see that significant amount of variation does exist betwen some of our independent variables.\n",
    "However,in data science as the number of independent variables increases then using heatmap to eliminate columns causing\n",
    "multicollinearity also becomes more and more difficult"
   ]
  },
  {
   "cell_type": "markdown",
   "metadata": {},
   "source": [
    "Hence,we'll use the VIF(Variance Inflation Factor) to eliminate multicollinearity"
   ]
  },
  {
   "cell_type": "code",
   "execution_count": 57,
   "metadata": {},
   "outputs": [],
   "source": [
    "from statsmodels.stats.outliers_influence import variance_inflation_factor    \n",
    "\n",
    "def calculate_vif(X, thresh=5.0):\n",
    "    variables = list(range(X.shape[1]))\n",
    "    dropped = True\n",
    "    while dropped:\n",
    "        dropped = False\n",
    "        vif = [variance_inflation_factor(X.iloc[:, variables].values, ix)\n",
    "               for ix in range(X.iloc[:, variables].shape[1])]\n",
    "\n",
    "        loc_max = vif.index(max(vif))\n",
    "        if max(vif) > thresh:\n",
    "            print('eliminating variable \\'' + X.iloc[:, variables].columns[loc_max] +'\\' from the list of dependent variables')\n",
    "            del variables[loc_max]\n",
    "            dropped = True\n",
    "\n",
    "    print('Remaining variables:')\n",
    "    print(X.columns[variables])\n",
    "    return X.iloc[:, variables]"
   ]
  },
  {
   "cell_type": "code",
   "execution_count": 58,
   "metadata": {},
   "outputs": [
    {
     "name": "stdout",
     "output_type": "stream",
     "text": [
      "eliminating variable 'Total Assets' from the list of dependent variables\n",
      "eliminating variable 'Total Liab' from the list of dependent variables\n",
      "eliminating variable 'Total Stockholder Equity' from the list of dependent variables\n",
      "eliminating variable 'Ebit' from the list of dependent variables\n",
      "Remaining variables:\n",
      "Index(['Total Current Liabilities', 'Long Term Debt', 'Inventory',\n",
      "       'Net Income', 'Current Ratio', 'ROI', 'ROA'],\n",
      "      dtype='object')\n"
     ]
    }
   ],
   "source": [
    "df_final=calculate_vif(df[continuous_dependent_cols])"
   ]
  },
  {
   "cell_type": "markdown",
   "metadata": {},
   "source": [
    "Thus based on the code above we have eliminated columns 'Total Assets','Total Liab','Total Stockholder Equity' and 'Ebit'\n",
    "from the list of continuous independent columns to eliminate multicollinearity"
   ]
  },
  {
   "cell_type": "code",
   "execution_count": 59,
   "metadata": {},
   "outputs": [
    {
     "name": "stdout",
     "output_type": "stream",
     "text": [
      "<class 'pandas.core.frame.DataFrame'>\n",
      "Index: 589 entries, RELIANCE.BO to ADVANIHOTR.BO\n",
      "Data columns (total 7 columns):\n",
      " #   Column                     Non-Null Count  Dtype  \n",
      "---  ------                     --------------  -----  \n",
      " 0   Total Current Liabilities  589 non-null    float64\n",
      " 1   Long Term Debt             589 non-null    float64\n",
      " 2   Inventory                  589 non-null    float64\n",
      " 3   Net Income                 589 non-null    float64\n",
      " 4   Current Ratio              589 non-null    float64\n",
      " 5   ROI                        589 non-null    float64\n",
      " 6   ROA                        589 non-null    float64\n",
      "dtypes: float64(7)\n",
      "memory usage: 53.0+ KB\n"
     ]
    }
   ],
   "source": [
    "df_final.info()"
   ]
  },
  {
   "cell_type": "markdown",
   "metadata": {},
   "source": [
    "# Building models too predict the target variable"
   ]
  },
  {
   "cell_type": "markdown",
   "metadata": {},
   "source": [
    "First we will scale all the continuous variables using sklearn's Standard Scaler to ease the model building process.Currently using StandardScaler to scale the data values between 0 and 1"
   ]
  },
  {
   "cell_type": "code",
   "execution_count": 60,
   "metadata": {},
   "outputs": [],
   "source": [
    "ss = StandardScaler()"
   ]
  },
  {
   "cell_type": "code",
   "execution_count": 61,
   "metadata": {},
   "outputs": [],
   "source": [
    "transformed_df = ss.fit_transform(df[continuous_cols])\n",
    "df[continuous_cols]=transformed_df"
   ]
  },
  {
   "cell_type": "code",
   "execution_count": 62,
   "metadata": {},
   "outputs": [],
   "source": [
    "X = df[continuous_dependent_cols]\n",
    "y = df['In_stress']"
   ]
  },
  {
   "cell_type": "markdown",
   "metadata": {},
   "source": [
    "Importing all the necessary packages"
   ]
  },
  {
   "cell_type": "code",
   "execution_count": 151,
   "metadata": {},
   "outputs": [],
   "source": [
    "from sklearn.linear_model import LogisticRegression\n",
    "from sklearn.ensemble import RandomForestClassifier\n",
    "from sklearn.svm import SVC\n",
    "from sklearn.naive_bayes import GaussianNB\n",
    "from sklearn.neighbors import KNeighborsClassifier\n",
    "from sklearn.model_selection import train_test_split,GridSearchCV,cross_val_score\n",
    "from sklearn.metrics import precision_score,recall_score,classification_report,log_loss,f1_score"
   ]
  },
  {
   "cell_type": "code",
   "execution_count": 64,
   "metadata": {},
   "outputs": [],
   "source": [
    "X_train,X_test,y_train,y_test = train_test_split(X,y,random_state=21,test_size=0.25,stratify=y)"
   ]
  },
  {
   "cell_type": "markdown",
   "metadata": {},
   "source": [
    "Since the target variable distribution is imbalanced is nature we'll need to balance the data using a suitable sampling technique"
   ]
  },
  {
   "cell_type": "code",
   "execution_count": 65,
   "metadata": {},
   "outputs": [
    {
     "data": {
      "text/plain": [
       "<matplotlib.axes._subplots.AxesSubplot at 0x220b4272248>"
      ]
     },
     "execution_count": 65,
     "metadata": {},
     "output_type": "execute_result"
    },
    {
     "data": {
      "image/png": "[encoded data removed]",
      "text/plain": [
       "<Figure size 432x288 with 1 Axes>"
      ]
     },
     "metadata": {
      "needs_background": "light"
     },
     "output_type": "display_data"
    }
   ],
   "source": [
    "(df.In_stress.value_counts()/len(df)).plot(kind='bar')"
   ]
  },
  {
   "cell_type": "markdown",
   "metadata": {},
   "source": [
    "Here I am using SMOTETomekLinks techniques to resample the datasize.The SMOTE techniques performs oversampling on the minority\n",
    "class and attempts to balance the data.Whereas the Tomeklinks techniques are used to remove overlapping datapoints"
   ]
  },
  {
   "cell_type": "code",
   "execution_count": 66,
   "metadata": {},
   "outputs": [],
   "source": [
    "smtom =SMOTETomek(random_state=23)"
   ]
  },
  {
   "cell_type": "code",
   "execution_count": 67,
   "metadata": {},
   "outputs": [],
   "source": [
    "X_train_smtom,y_train_smtom = smtom.fit_resample(X_train,y_train)"
   ]
  },
  {
   "cell_type": "code",
   "execution_count": 68,
   "metadata": {},
   "outputs": [
    {
     "data": {
      "text/plain": [
       "(756, 11)"
      ]
     },
     "execution_count": 68,
     "metadata": {},
     "output_type": "execute_result"
    }
   ],
   "source": [
    "X_train_smtom.shape"
   ]
  },
  {
   "cell_type": "code",
   "execution_count": 69,
   "metadata": {},
   "outputs": [
    {
     "data": {
      "text/plain": [
       "0    378\n",
       "1    378\n",
       "Name: In_stress, dtype: int64"
      ]
     },
     "execution_count": 69,
     "metadata": {},
     "output_type": "execute_result"
    }
   ],
   "source": [
    "y_train_smtom.value_counts()"
   ]
  },
  {
   "cell_type": "markdown",
   "metadata": {},
   "source": [
    "Initially Using a dummy classifier"
   ]
  },
  {
   "cell_type": "markdown",
   "metadata": {},
   "source": [
    "# Training a logistic regression model"
   ]
  },
  {
   "cell_type": "code",
   "execution_count": 70,
   "metadata": {},
   "outputs": [],
   "source": [
    "lr = LogisticRegression()"
   ]
  },
  {
   "cell_type": "code",
   "execution_count": 71,
   "metadata": {},
   "outputs": [
    {
     "data": {
      "text/plain": [
       "LogisticRegression()"
      ]
     },
     "execution_count": 71,
     "metadata": {},
     "output_type": "execute_result"
    }
   ],
   "source": [
    "lr.fit(X_train_smtom,y_train_smtom)"
   ]
  },
  {
   "cell_type": "markdown",
   "metadata": {},
   "source": [
    "Calculating the accuracy the train dataset"
   ]
  },
  {
   "cell_type": "code",
   "execution_count": 72,
   "metadata": {},
   "outputs": [
    {
     "data": {
      "text/plain": [
       "0.9126984126984127"
      ]
     },
     "execution_count": 72,
     "metadata": {},
     "output_type": "execute_result"
    }
   ],
   "source": [
    "lr.score(X_train_smtom,y_train_smtom)"
   ]
  },
  {
   "cell_type": "markdown",
   "metadata": {},
   "source": [
    "Calculating the accuracy the test dataset"
   ]
  },
  {
   "cell_type": "code",
   "execution_count": 73,
   "metadata": {},
   "outputs": [
    {
     "data": {
      "text/plain": [
       "0.8851351351351351"
      ]
     },
     "execution_count": 73,
     "metadata": {},
     "output_type": "execute_result"
    }
   ],
   "source": [
    "lr.score(X_test,y_test)"
   ]
  },
  {
   "cell_type": "code",
   "execution_count": 74,
   "metadata": {},
   "outputs": [],
   "source": [
    "lr_pred=lr.predict(X_test)"
   ]
  },
  {
   "cell_type": "code",
   "execution_count": 75,
   "metadata": {},
   "outputs": [
    {
     "name": "stdout",
     "output_type": "stream",
     "text": [
      "              precision    recall  f1-score   support\n",
      "\n",
      "           0       0.96      0.91      0.93       127\n",
      "           1       0.57      0.76      0.65        21\n",
      "\n",
      "    accuracy                           0.89       148\n",
      "   macro avg       0.76      0.83      0.79       148\n",
      "weighted avg       0.90      0.89      0.89       148\n",
      "\n"
     ]
    }
   ],
   "source": [
    "print(classification_report(y_test,lr_pred))"
   ]
  },
  {
   "cell_type": "markdown",
   "metadata": {},
   "source": [
    "# Training a Gaussian Naive Bayes model on the train dataset"
   ]
  },
  {
   "cell_type": "code",
   "execution_count": 76,
   "metadata": {},
   "outputs": [],
   "source": [
    "nb = GaussianNB()"
   ]
  },
  {
   "cell_type": "code",
   "execution_count": 77,
   "metadata": {},
   "outputs": [
    {
     "data": {
      "text/plain": [
       "GaussianNB()"
      ]
     },
     "execution_count": 77,
     "metadata": {},
     "output_type": "execute_result"
    }
   ],
   "source": [
    "nb.fit(X_train_smtom,y_train_smtom)"
   ]
  },
  {
   "cell_type": "markdown",
   "metadata": {},
   "source": [
    "Calculating the score on the train dataset"
   ]
  },
  {
   "cell_type": "code",
   "execution_count": 78,
   "metadata": {},
   "outputs": [
    {
     "data": {
      "text/plain": [
       "0.5211640211640212"
      ]
     },
     "execution_count": 78,
     "metadata": {},
     "output_type": "execute_result"
    }
   ],
   "source": [
    "nb.score(X_train_smtom,y_train_smtom)"
   ]
  },
  {
   "cell_type": "markdown",
   "metadata": {},
   "source": [
    "Calculating the score on the test dataset"
   ]
  },
  {
   "cell_type": "code",
   "execution_count": 79,
   "metadata": {},
   "outputs": [
    {
     "data": {
      "text/plain": [
       "0.19594594594594594"
      ]
     },
     "execution_count": 79,
     "metadata": {},
     "output_type": "execute_result"
    }
   ],
   "source": [
    "nb.score(X_test,y_test)"
   ]
  },
  {
   "cell_type": "code",
   "execution_count": 80,
   "metadata": {},
   "outputs": [],
   "source": [
    "nb_pred = nb.predict(X_test)"
   ]
  },
  {
   "cell_type": "markdown",
   "metadata": {},
   "source": [
    "Printing out the classification report"
   ]
  },
  {
   "cell_type": "code",
   "execution_count": 81,
   "metadata": {},
   "outputs": [
    {
     "name": "stdout",
     "output_type": "stream",
     "text": [
      "              precision    recall  f1-score   support\n",
      "\n",
      "           0       0.90      0.07      0.13       127\n",
      "           1       0.14      0.95      0.25        21\n",
      "\n",
      "    accuracy                           0.20       148\n",
      "   macro avg       0.52      0.51      0.19       148\n",
      "weighted avg       0.79      0.20      0.15       148\n",
      "\n"
     ]
    }
   ],
   "source": [
    "print(classification_report(y_test,nb_pred))"
   ]
  },
  {
   "cell_type": "markdown",
   "metadata": {},
   "source": [
    "# Training a SVM model"
   ]
  },
  {
   "cell_type": "code",
   "execution_count": 82,
   "metadata": {},
   "outputs": [],
   "source": [
    "svc =SVC()"
   ]
  },
  {
   "cell_type": "code",
   "execution_count": 83,
   "metadata": {},
   "outputs": [
    {
     "data": {
      "text/plain": [
       "SVC()"
      ]
     },
     "execution_count": 83,
     "metadata": {},
     "output_type": "execute_result"
    }
   ],
   "source": [
    "svc.fit(X_train_smtom,y_train_smtom)"
   ]
  },
  {
   "cell_type": "markdown",
   "metadata": {},
   "source": [
    "Calculating the score o the train dataset"
   ]
  },
  {
   "cell_type": "code",
   "execution_count": 84,
   "metadata": {},
   "outputs": [
    {
     "data": {
      "text/plain": [
       "0.9695767195767195"
      ]
     },
     "execution_count": 84,
     "metadata": {},
     "output_type": "execute_result"
    }
   ],
   "source": [
    "svc.score(X_train_smtom,y_train_smtom)"
   ]
  },
  {
   "cell_type": "markdown",
   "metadata": {},
   "source": [
    "Calculating the score on the test dataset"
   ]
  },
  {
   "cell_type": "code",
   "execution_count": 85,
   "metadata": {},
   "outputs": [
    {
     "data": {
      "text/plain": [
       "0.9459459459459459"
      ]
     },
     "execution_count": 85,
     "metadata": {},
     "output_type": "execute_result"
    }
   ],
   "source": [
    "svc.score(X_test,y_test)"
   ]
  },
  {
   "cell_type": "code",
   "execution_count": 86,
   "metadata": {},
   "outputs": [],
   "source": [
    "svc_pred=svc.predict(X_test)"
   ]
  },
  {
   "cell_type": "markdown",
   "metadata": {},
   "source": [
    "Printing out the classification report"
   ]
  },
  {
   "cell_type": "code",
   "execution_count": 87,
   "metadata": {},
   "outputs": [
    {
     "name": "stdout",
     "output_type": "stream",
     "text": [
      "              precision    recall  f1-score   support\n",
      "\n",
      "           0       0.98      0.95      0.97       127\n",
      "           1       0.76      0.90      0.83        21\n",
      "\n",
      "    accuracy                           0.95       148\n",
      "   macro avg       0.87      0.93      0.90       148\n",
      "weighted avg       0.95      0.95      0.95       148\n",
      "\n"
     ]
    }
   ],
   "source": [
    "print(classification_report(y_test,svc_pred))"
   ]
  },
  {
   "cell_type": "markdown",
   "metadata": {},
   "source": [
    "# Training a KNN Classifier"
   ]
  },
  {
   "cell_type": "code",
   "execution_count": 88,
   "metadata": {},
   "outputs": [
    {
     "data": {
      "text/plain": [
       "KNeighborsClassifier(n_neighbors=11)"
      ]
     },
     "execution_count": 88,
     "metadata": {},
     "output_type": "execute_result"
    }
   ],
   "source": [
    "knn = KNeighborsClassifier(n_neighbors=11)\n",
    "knn.fit(X_train_smtom,y_train_smtom)"
   ]
  },
  {
   "cell_type": "markdown",
   "metadata": {},
   "source": [
    "Calculating the score on train dataset"
   ]
  },
  {
   "cell_type": "code",
   "execution_count": 89,
   "metadata": {},
   "outputs": [
    {
     "data": {
      "text/plain": [
       "0.9642857142857143"
      ]
     },
     "execution_count": 89,
     "metadata": {},
     "output_type": "execute_result"
    }
   ],
   "source": [
    "knn.score(X_train_smtom,y_train_smtom)"
   ]
  },
  {
   "cell_type": "markdown",
   "metadata": {},
   "source": [
    "Calculating the score on the test dataset"
   ]
  },
  {
   "cell_type": "code",
   "execution_count": 90,
   "metadata": {},
   "outputs": [
    {
     "data": {
      "text/plain": [
       "0.9459459459459459"
      ]
     },
     "execution_count": 90,
     "metadata": {},
     "output_type": "execute_result"
    }
   ],
   "source": [
    "knn.score(X_test,y_test)"
   ]
  },
  {
   "cell_type": "code",
   "execution_count": 91,
   "metadata": {},
   "outputs": [],
   "source": [
    "knn_pred=knn.predict(X_test)"
   ]
  },
  {
   "cell_type": "markdown",
   "metadata": {},
   "source": [
    "Printing out the classification report"
   ]
  },
  {
   "cell_type": "code",
   "execution_count": 92,
   "metadata": {},
   "outputs": [
    {
     "name": "stdout",
     "output_type": "stream",
     "text": [
      "              precision    recall  f1-score   support\n",
      "\n",
      "           0       0.98      0.95      0.97       127\n",
      "           1       0.76      0.90      0.83        21\n",
      "\n",
      "    accuracy                           0.95       148\n",
      "   macro avg       0.87      0.93      0.90       148\n",
      "weighted avg       0.95      0.95      0.95       148\n",
      "\n"
     ]
    }
   ],
   "source": [
    "print(classification_report(y_test,knn_pred))"
   ]
  },
  {
   "cell_type": "markdown",
   "metadata": {},
   "source": [
    "# Training a Random Forest Classifier "
   ]
  },
  {
   "cell_type": "code",
   "execution_count": 93,
   "metadata": {},
   "outputs": [],
   "source": [
    "rf=RandomForestClassifier()"
   ]
  },
  {
   "cell_type": "code",
   "execution_count": 94,
   "metadata": {},
   "outputs": [
    {
     "data": {
      "text/plain": [
       "RandomForestClassifier()"
      ]
     },
     "execution_count": 94,
     "metadata": {},
     "output_type": "execute_result"
    }
   ],
   "source": [
    "rf.fit(X_train_smtom,y_train_smtom)"
   ]
  },
  {
   "cell_type": "markdown",
   "metadata": {},
   "source": [
    "Calculating the accuracy on the train dataset"
   ]
  },
  {
   "cell_type": "code",
   "execution_count": 96,
   "metadata": {},
   "outputs": [
    {
     "data": {
      "text/plain": [
       "1.0"
      ]
     },
     "execution_count": 96,
     "metadata": {},
     "output_type": "execute_result"
    }
   ],
   "source": [
    "rf.score(X_train_smtom,y_train_smtom)"
   ]
  },
  {
   "cell_type": "markdown",
   "metadata": {},
   "source": [
    "Calculating the score on the test dataset"
   ]
  },
  {
   "cell_type": "code",
   "execution_count": 95,
   "metadata": {},
   "outputs": [
    {
     "data": {
      "text/plain": [
       "0.9797297297297297"
      ]
     },
     "execution_count": 95,
     "metadata": {},
     "output_type": "execute_result"
    }
   ],
   "source": [
    "rf.score(X_test,y_test)"
   ]
  },
  {
   "cell_type": "code",
   "execution_count": 97,
   "metadata": {},
   "outputs": [],
   "source": [
    "rf_pred=rf.predict(X_test)"
   ]
  },
  {
   "cell_type": "markdown",
   "metadata": {},
   "source": [
    "Printing out the classification report"
   ]
  },
  {
   "cell_type": "code",
   "execution_count": 98,
   "metadata": {},
   "outputs": [
    {
     "name": "stdout",
     "output_type": "stream",
     "text": [
      "              precision    recall  f1-score   support\n",
      "\n",
      "           0       0.98      1.00      0.99       127\n",
      "           1       1.00      0.86      0.92        21\n",
      "\n",
      "    accuracy                           0.98       148\n",
      "   macro avg       0.99      0.93      0.96       148\n",
      "weighted avg       0.98      0.98      0.98       148\n",
      "\n"
     ]
    }
   ],
   "source": [
    "print(classification_report(y_test,rf_pred))"
   ]
  },
  {
   "cell_type": "markdown",
   "metadata": {},
   "source": [
    "From the above model building results we can see that Logistic Regression,SVM Classifer and KNN Classifier are yeilding good results.Hence we will optimize hyper-parameters for these models and compare the performance"
   ]
  },
  {
   "cell_type": "markdown",
   "metadata": {},
   "source": [
    "# Hyper-parameter tuning for Logistic Regression"
   ]
  },
  {
   "cell_type": "code",
   "execution_count": 759,
   "metadata": {},
   "outputs": [],
   "source": [
    "solvers = ['newton-cg', 'lbfgs', 'liblinear']\n",
    "penalty = ['l2','elasticnet']\n",
    "c_values = [10, 1.0, 0.1, 0.01,0.001]"
   ]
  },
  {
   "cell_type": "code",
   "execution_count": 760,
   "metadata": {},
   "outputs": [],
   "source": [
    "lr_new=LogisticRegression()"
   ]
  },
  {
   "cell_type": "code",
   "execution_count": 761,
   "metadata": {},
   "outputs": [],
   "source": [
    "lr_grid = dict(solver=solvers,penalty=penalty,C=c_values)"
   ]
  },
  {
   "cell_type": "code",
   "execution_count": 762,
   "metadata": {},
   "outputs": [],
   "source": [
    "lr_search = GridSearchCV(lr_new,param_grid=lr_grid,scoring='recall',n_jobs=-1,cv=5)"
   ]
  },
  {
   "cell_type": "code",
   "execution_count": 763,
   "metadata": {},
   "outputs": [
    {
     "data": {
      "text/plain": [
       "GridSearchCV(cv=5, estimator=LogisticRegression(), n_jobs=-1,\n",
       "             param_grid={'C': [10, 1.0, 0.1, 0.01, 0.001],\n",
       "                         'penalty': ['l2', 'elasticnet'],\n",
       "                         'solver': ['newton-cg', 'lbfgs', 'liblinear']},\n",
       "             scoring='recall')"
      ]
     },
     "execution_count": 763,
     "metadata": {},
     "output_type": "execute_result"
    }
   ],
   "source": [
    "lr_search.fit(X_train_smtom,y_train_smtom)"
   ]
  },
  {
   "cell_type": "code",
   "execution_count": 764,
   "metadata": {},
   "outputs": [
    {
     "data": {
      "text/plain": [
       "{'C': 0.001, 'penalty': 'l2', 'solver': 'liblinear'}"
      ]
     },
     "execution_count": 764,
     "metadata": {},
     "output_type": "execute_result"
    }
   ],
   "source": [
    "lr_search.best_params_"
   ]
  },
  {
   "cell_type": "code",
   "execution_count": 765,
   "metadata": {},
   "outputs": [
    {
     "data": {
      "text/plain": [
       "0.9788070175438597"
      ]
     },
     "execution_count": 765,
     "metadata": {},
     "output_type": "execute_result"
    }
   ],
   "source": [
    "lr_search.best_score_"
   ]
  },
  {
   "cell_type": "code",
   "execution_count": 766,
   "metadata": {},
   "outputs": [],
   "source": [
    "lr_best=lr_result.best_estimator_"
   ]
  },
  {
   "cell_type": "code",
   "execution_count": 767,
   "metadata": {},
   "outputs": [],
   "source": [
    "new_lr = LogisticRegression(C=10,penalty='elasticnet',solver='newton-cg')"
   ]
  },
  {
   "cell_type": "code",
   "execution_count": 768,
   "metadata": {},
   "outputs": [],
   "source": [
    "lr_pred=lr_best.predict(X_test)"
   ]
  },
  {
   "cell_type": "code",
   "execution_count": 769,
   "metadata": {},
   "outputs": [
    {
     "name": "stdout",
     "output_type": "stream",
     "text": [
      "The train score for new logistic regression model is  0.9140211640211641\n",
      "The test score for new logistic regression model is  0.8986486486486487\n"
     ]
    }
   ],
   "source": [
    "print(\"The train score for new logistic regression model is \",lr_n.score(X_train_smtom,y_train_smtom))\n",
    "print(\"The test score for new logistic regression model is \",lr_n.score(X_test,y_test))"
   ]
  },
  {
   "cell_type": "code",
   "execution_count": 770,
   "metadata": {
    "scrolled": true
   },
   "outputs": [
    {
     "name": "stdout",
     "output_type": "stream",
     "text": [
      "              precision    recall  f1-score   support\n",
      "\n",
      "           0       0.97      0.91      0.94       127\n",
      "           1       0.61      0.81      0.69        21\n",
      "\n",
      "    accuracy                           0.90       148\n",
      "   macro avg       0.79      0.86      0.82       148\n",
      "weighted avg       0.92      0.90      0.90       148\n",
      "\n"
     ]
    }
   ],
   "source": [
    "print(classification_report(y_test,lr_pred))"
   ]
  },
  {
   "cell_type": "markdown",
   "metadata": {},
   "source": [
    "# Hyper-parameter tuning for SVM Classifier"
   ]
  },
  {
   "cell_type": "code",
   "execution_count": 771,
   "metadata": {},
   "outputs": [],
   "source": [
    "kernel = ['poly', 'rbf', 'sigmoid']\n",
    "C = [50, 10, 1.0, 0.1, 0.01,0.001]\n",
    "gamma = ['scale','auto']"
   ]
  },
  {
   "cell_type": "code",
   "execution_count": 772,
   "metadata": {},
   "outputs": [],
   "source": [
    "svm_grid = dict(kernel=kernel,C=C,gamma=gamma)"
   ]
  },
  {
   "cell_type": "code",
   "execution_count": 773,
   "metadata": {},
   "outputs": [],
   "source": [
    "svm_new=SVC()"
   ]
  },
  {
   "cell_type": "code",
   "execution_count": 774,
   "metadata": {},
   "outputs": [],
   "source": [
    "svc_search = GridSearchCV(svm_new,param_grid=svm_grid,scoring='recall',n_jobs=-1,cv=5)"
   ]
  },
  {
   "cell_type": "code",
   "execution_count": 775,
   "metadata": {},
   "outputs": [],
   "source": [
    "svc_results=svc_search.fit(X_train_smtom,y_train_smtom)"
   ]
  },
  {
   "cell_type": "code",
   "execution_count": 776,
   "metadata": {},
   "outputs": [
    {
     "data": {
      "text/plain": [
       "{'C': 10, 'gamma': 'auto', 'kernel': 'rbf'}"
      ]
     },
     "execution_count": 776,
     "metadata": {},
     "output_type": "execute_result"
    }
   ],
   "source": [
    "svc_results.best_params_"
   ]
  },
  {
   "cell_type": "code",
   "execution_count": 777,
   "metadata": {},
   "outputs": [
    {
     "data": {
      "text/plain": [
       "0.9920701754385964"
      ]
     },
     "execution_count": 777,
     "metadata": {},
     "output_type": "execute_result"
    }
   ],
   "source": [
    "svc_results.best_score_"
   ]
  },
  {
   "cell_type": "code",
   "execution_count": 778,
   "metadata": {},
   "outputs": [],
   "source": [
    "svm_n = SVC(**svc_results.best_params_)"
   ]
  },
  {
   "cell_type": "code",
   "execution_count": 779,
   "metadata": {},
   "outputs": [
    {
     "data": {
      "text/plain": [
       "SVC(C=10, gamma='auto')"
      ]
     },
     "execution_count": 779,
     "metadata": {},
     "output_type": "execute_result"
    }
   ],
   "source": [
    "svm_n.fit(X_train_smtom,y_train_smtom)"
   ]
  },
  {
   "cell_type": "code",
   "execution_count": 780,
   "metadata": {},
   "outputs": [],
   "source": [
    "svm_pred = svm_n.predict(X_test)"
   ]
  },
  {
   "cell_type": "code",
   "execution_count": 781,
   "metadata": {},
   "outputs": [
    {
     "name": "stdout",
     "output_type": "stream",
     "text": [
      "The train score for new SVM model is  0.9828042328042328\n",
      "The test score for new SVM model is  0.9662162162162162\n"
     ]
    }
   ],
   "source": [
    "print(\"The train score for new SVM model is \",svm_n.score(X_train_smtom,y_train_smtom))\n",
    "print(\"The test score for new SVM model is \",svm_n.score(X_test,y_test))"
   ]
  },
  {
   "cell_type": "code",
   "execution_count": 782,
   "metadata": {},
   "outputs": [
    {
     "name": "stdout",
     "output_type": "stream",
     "text": [
      "              precision    recall  f1-score   support\n",
      "\n",
      "           0       0.97      0.99      0.98       127\n",
      "           1       0.94      0.81      0.87        21\n",
      "\n",
      "    accuracy                           0.97       148\n",
      "   macro avg       0.96      0.90      0.93       148\n",
      "weighted avg       0.97      0.97      0.97       148\n",
      "\n"
     ]
    }
   ],
   "source": [
    "print(classification_report(y_test,svm_pred))"
   ]
  },
  {
   "cell_type": "markdown",
   "metadata": {},
   "source": [
    "# Hyperparameter tuning For KNN Classifier"
   ]
  },
  {
   "cell_type": "code",
   "execution_count": 783,
   "metadata": {},
   "outputs": [],
   "source": [
    "knn_grid={'n_neighbors':list(range(10,110,10)),\n",
    "'leaf_size':[1,2,3,5],\n",
    "'weights':['uniform', 'distance'],\n",
    "'algorithm':['auto', 'ball_tree','kd_tree','brute'],\n",
    "'n_jobs':[-1]}"
   ]
  },
  {
   "cell_type": "code",
   "execution_count": 784,
   "metadata": {},
   "outputs": [],
   "source": [
    "knn_new=KNeighborsClassifier()"
   ]
  },
  {
   "cell_type": "code",
   "execution_count": 785,
   "metadata": {},
   "outputs": [],
   "source": [
    "knn_search = GridSearchCV(knn_new,param_grid=knn_grid,scoring=,'recall',n_jobs=-1,cv=5)"
   ]
  },
  {
   "cell_type": "code",
   "execution_count": 786,
   "metadata": {},
   "outputs": [],
   "source": [
    "knn_results=knn_search.fit(X_train_smtom,y_train_smtom)"
   ]
  },
  {
   "cell_type": "code",
   "execution_count": 787,
   "metadata": {},
   "outputs": [
    {
     "data": {
      "text/plain": [
       "{'algorithm': 'auto',\n",
       " 'leaf_size': 1,\n",
       " 'n_jobs': -1,\n",
       " 'n_neighbors': 10,\n",
       " 'weights': 'distance'}"
      ]
     },
     "execution_count": 787,
     "metadata": {},
     "output_type": "execute_result"
    }
   ],
   "source": [
    "knn_results.best_params_"
   ]
  },
  {
   "cell_type": "code",
   "execution_count": 788,
   "metadata": {},
   "outputs": [],
   "source": [
    "knn_new=knn_results.best_estimator_"
   ]
  },
  {
   "cell_type": "code",
   "execution_count": 789,
   "metadata": {},
   "outputs": [],
   "source": [
    "knn_pred=knn_new.predict(X_test)"
   ]
  },
  {
   "cell_type": "code",
   "execution_count": 790,
   "metadata": {},
   "outputs": [
    {
     "name": "stdout",
     "output_type": "stream",
     "text": [
      "The train score for new KNN model is  1.0\n",
      "The test score for new KNN model is  0.9527027027027027\n"
     ]
    }
   ],
   "source": [
    "print(\"The train score for new KNN model is \",knn_new.score(X_train_smtom,y_train_smtom))\n",
    "print(\"The test score for new KNN model is \",knn_new.score(X_test,y_test))"
   ]
  },
  {
   "cell_type": "code",
   "execution_count": 791,
   "metadata": {},
   "outputs": [
    {
     "name": "stdout",
     "output_type": "stream",
     "text": [
      "              precision    recall  f1-score   support\n",
      "\n",
      "           0       0.98      0.96      0.97       127\n",
      "           1       0.79      0.90      0.84        21\n",
      "\n",
      "    accuracy                           0.95       148\n",
      "   macro avg       0.89      0.93      0.91       148\n",
      "weighted avg       0.96      0.95      0.95       148\n",
      "\n"
     ]
    }
   ],
   "source": [
    "print(classification_report(y_test,knn_pred))"
   ]
  },
  {
   "cell_type": "markdown",
   "metadata": {},
   "source": [
    "# Hyperparameter tuning For Random Forest Classifier"
   ]
  },
  {
   "cell_type": "code",
   "execution_count": 796,
   "metadata": {},
   "outputs": [],
   "source": [
    "rf_params={\n",
    "'n_estimators':list(range(10,100,10)),\n",
    "'max_features':['auto','sqrt','log2'],\n",
    "'max_depth':[None,10,20,30,40,50],\n",
    "'min_samples_split':[2,4,8,16,32,64],\n",
    "'min_samples_leaf':[2,4,8,16,32,64]\n",
    "}"
   ]
  },
  {
   "cell_type": "code",
   "execution_count": 797,
   "metadata": {},
   "outputs": [],
   "source": [
    "rf_new=RandomForestClassifier()"
   ]
  },
  {
   "cell_type": "code",
   "execution_count": 798,
   "metadata": {},
   "outputs": [],
   "source": [
    "rf_search = GridSearchCV(rf_new,param_grid=rf_params,scoring='recall',n_jobs=-1,cv=5)"
   ]
  },
  {
   "cell_type": "code",
   "execution_count": 799,
   "metadata": {},
   "outputs": [
    {
     "data": {
      "text/plain": [
       "GridSearchCV(cv=5, estimator=RandomForestClassifier(), n_jobs=-1,\n",
       "             param_grid={'max_depth': [None, 10, 20, 30, 40, 50],\n",
       "                         'max_features': ['auto', 'sqrt', 'log2'],\n",
       "                         'min_samples_leaf': [2, 4, 8, 16, 32, 64],\n",
       "                         'min_samples_split': [2, 4, 8, 16, 32, 64],\n",
       "                         'n_estimators': [10, 20, 30, 40, 50, 60, 70, 80, 90]},\n",
       "             scoring='recall')"
      ]
     },
     "execution_count": 799,
     "metadata": {},
     "output_type": "execute_result"
    }
   ],
   "source": [
    "rf_search.fit(X_train_smtom,y_train_smtom)"
   ]
  },
  {
   "cell_type": "code",
   "execution_count": 800,
   "metadata": {},
   "outputs": [
    {
     "data": {
      "text/plain": [
       "{'max_depth': 40,\n",
       " 'max_features': 'auto',\n",
       " 'min_samples_leaf': 2,\n",
       " 'min_samples_split': 8,\n",
       " 'n_estimators': 10}"
      ]
     },
     "execution_count": 800,
     "metadata": {},
     "output_type": "execute_result"
    }
   ],
   "source": [
    "rf_search.best_params_"
   ]
  },
  {
   "cell_type": "code",
   "execution_count": 801,
   "metadata": {},
   "outputs": [],
   "source": [
    "rf_best = rf_search.best_estimator_"
   ]
  },
  {
   "cell_type": "code",
   "execution_count": 802,
   "metadata": {},
   "outputs": [],
   "source": [
    "rf_pred = rf_best.predict(X_test)"
   ]
  },
  {
   "cell_type": "code",
   "execution_count": 804,
   "metadata": {},
   "outputs": [
    {
     "name": "stdout",
     "output_type": "stream",
     "text": [
      "The train score for new RandomForest model is  0.996031746031746\n",
      "The test score for new RandomForest model is  0.9797297297297297\n"
     ]
    }
   ],
   "source": [
    "print(\"The train score for new RandomForest model is \",rf_best.score(X_train_smtom,y_train_smtom))\n",
    "print(\"The test score for new RandomForest model is \",rf_best.score(X_test,y_test))"
   ]
  },
  {
   "cell_type": "code",
   "execution_count": 805,
   "metadata": {},
   "outputs": [
    {
     "name": "stdout",
     "output_type": "stream",
     "text": [
      "              precision    recall  f1-score   support\n",
      "\n",
      "           0       0.98      1.00      0.99       127\n",
      "           1       1.00      0.86      0.92        21\n",
      "\n",
      "    accuracy                           0.98       148\n",
      "   macro avg       0.99      0.93      0.96       148\n",
      "weighted avg       0.98      0.98      0.98       148\n",
      "\n"
     ]
    }
   ],
   "source": [
    "print(classification_report(y_test,rf_pred))"
   ]
  },
  {
   "cell_type": "markdown",
   "metadata": {},
   "source": [
    "Hence,from the results above we can see that our KNN classifier is the model which gives best recall on the test data.\n",
    "Hence,we need use that model for obtain predictions"
   ]
  }
 ],
 "metadata": {
  "kernelspec": {
   "display_name": "Python 3",
   "language": "python",
   "name": "python3"
  },
  "language_info": {
   "codemirror_mode": {
    "name": "ipython",
    "version": 3
   },
   "file_extension": ".py",
   "mimetype": "text/x-python",
   "name": "python",
   "nbconvert_exporter": "python",
   "pygments_lexer": "ipython3",
   "version": "3.7.5"
  }
 },
 "nbformat": 4,
 "nbformat_minor": 4
}
